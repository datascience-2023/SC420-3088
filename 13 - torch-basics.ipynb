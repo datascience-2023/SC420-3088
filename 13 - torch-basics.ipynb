{
 "cells": [
  {
   "cell_type": "markdown",
   "id": "8a845243-e424-4e4f-97f0-4623283c9548",
   "metadata": {
    "editable": true,
    "slideshow": {
     "slide_type": ""
    },
    "tags": []
   },
   "source": [
    "# Нейронные сети на базе PyTorch"
   ]
  },
  {
   "cell_type": "code",
   "execution_count": 1,
   "id": "4300357d-1805-42bc-a40a-dfe53fee94c5",
   "metadata": {
    "editable": true,
    "slideshow": {
     "slide_type": ""
    },
    "tags": []
   },
   "outputs": [
    {
     "ename": "ModuleNotFoundError",
     "evalue": "No module named 'torch'",
     "output_type": "error",
     "traceback": [
      "\u001b[1;31m---------------------------------------------------------------------------\u001b[0m",
      "\u001b[1;31mModuleNotFoundError\u001b[0m                       Traceback (most recent call last)",
      "Cell \u001b[1;32mIn[1], line 3\u001b[0m\n\u001b[0;32m      1\u001b[0m \u001b[38;5;28;01mimport\u001b[39;00m \u001b[38;5;21;01mmatplotlib\u001b[39;00m\u001b[38;5;21;01m.\u001b[39;00m\u001b[38;5;21;01mpyplot\u001b[39;00m \u001b[38;5;28;01mas\u001b[39;00m \u001b[38;5;21;01mplt\u001b[39;00m\n\u001b[1;32m----> 3\u001b[0m \u001b[38;5;28;01mimport\u001b[39;00m \u001b[38;5;21;01mtorch\u001b[39;00m\n\u001b[0;32m      4\u001b[0m \u001b[38;5;28;01mimport\u001b[39;00m \u001b[38;5;21;01mtorchinfo\u001b[39;00m\n\u001b[0;32m      6\u001b[0m \u001b[38;5;28;01mimport\u001b[39;00m \u001b[38;5;21;01mtimm\u001b[39;00m\n",
      "\u001b[1;31mModuleNotFoundError\u001b[0m: No module named 'torch'"
     ]
    }
   ],
   "source": [
    "import matplotlib.pyplot as plt\n",
    "\n",
    "import torch\n",
    "import torchinfo\n",
    "\n",
    "import timm\n",
    "\n",
    "from tqdm.auto import tqdm"
   ]
  },
  {
   "cell_type": "code",
   "execution_count": null,
   "id": "34f84bbf-28ee-4b90-b936-02fd759f7d25",
   "metadata": {
    "editable": true,
    "slideshow": {
     "slide_type": ""
    },
    "tags": []
   },
   "outputs": [],
   "source": [
    "from torchvision.datasets import MNIST\n",
    "from torchvision.transforms import ToTensor"
   ]
  },
  {
   "cell_type": "markdown",
   "id": "57e92186-eb03-430a-bb5d-338d4c7b351f",
   "metadata": {},
   "source": [
    "Мы воспользуемся датасетом MNIST с рукописными цифрами из комплекта torchvision:"
   ]
  },
  {
   "cell_type": "code",
   "execution_count": null,
   "id": "98dd9484-f4bd-4422-824b-17dc91b7b4da",
   "metadata": {},
   "outputs": [],
   "source": [
    "dataset = MNIST('mnist-data', download=True)"
   ]
  },
  {
   "cell_type": "code",
   "execution_count": null,
   "id": "f5addff5-a6b1-4f0e-a651-e3a0f6eafc88",
   "metadata": {},
   "outputs": [],
   "source": [
    "dataset[0][0]"
   ]
  },
  {
   "cell_type": "markdown",
   "id": "1c15656e-45cf-4190-a503-a3363cc76aa4",
   "metadata": {},
   "source": [
    "Изначально он содежит картинки в формате PIL, но мы воспользуемся встроенным преобразованием, чтобы получать сразу массивы."
   ]
  },
  {
   "cell_type": "code",
   "execution_count": null,
   "id": "69bf9503-1c73-4ce1-b830-c222307cb82b",
   "metadata": {},
   "outputs": [],
   "source": [
    "dataset = MNIST('mnist-data', download=True, transform=ToTensor())"
   ]
  },
  {
   "cell_type": "code",
   "execution_count": null,
   "id": "fafd309c-0668-482a-a728-d18f2e28f17a",
   "metadata": {},
   "outputs": [],
   "source": [
    "dataset[0][1]"
   ]
  },
  {
   "cell_type": "markdown",
   "id": "a1980470-2491-447a-be1a-cdfa2dba426b",
   "metadata": {},
   "source": [
    "## Тензоры и автоматическое дифференцирование"
   ]
  },
  {
   "cell_type": "markdown",
   "id": "2827b8f8-3bd4-40fd-9d93-2a6f9daaa197",
   "metadata": {},
   "source": [
    "Попробуем распознавать символы линейно (то есть kX+b).\n",
    "\n",
    "На входе будет картинка 28х28, а на выходе 10 классов. Поскольку наш алгоритм линейный, картинку придется сплющить в один вектор длиной 28х28=784. Получается матрица весов 784х10. Заполним ее случайными значениями."
   ]
  },
  {
   "cell_type": "code",
   "execution_count": null,
   "id": "275a5365-0807-4f3c-bb1b-9c795704685d",
   "metadata": {},
   "outputs": [],
   "source": [
    "weights = torch.randn(28 * 28, 10) / 28"
   ]
  },
  {
   "cell_type": "markdown",
   "id": "ca5f07a3-3de3-448d-b405-ed484deb9e35",
   "metadata": {},
   "source": [
    "Это так называемая инициализация Ксавье: случайные числа из стандартного нормального распределения, поделенные на корень из размера входных данных.\n",
    "\n",
    "Важное свойство тензоров torch - возможность автоматического подсчета градиента. Как только мы объявим:"
   ]
  },
  {
   "cell_type": "code",
   "execution_count": null,
   "id": "88d266d6-36dd-4a6d-838f-f7d3f3c434ef",
   "metadata": {},
   "outputs": [],
   "source": [
    "weights.requires_grad_()"
   ]
  },
  {
   "cell_type": "markdown",
   "id": "90aa6801-a383-4d36-8008-e59f8560a443",
   "metadata": {},
   "source": [
    "все действия над тензором будут учитываться для будущего расчета градиента."
   ]
  },
  {
   "cell_type": "markdown",
   "id": "1746fe78-e568-4d1b-8065-7fc49d9049a7",
   "metadata": {},
   "source": [
    "Не забудем задать и вектор смещения (его можно инициализировать нулями)."
   ]
  },
  {
   "cell_type": "code",
   "execution_count": null,
   "id": "6395fffe-3ae5-4482-b1c3-3db8a2e49fa1",
   "metadata": {},
   "outputs": [],
   "source": [
    "bias = torch.zeros(10, requires_grad=True)"
   ]
  },
  {
   "cell_type": "markdown",
   "id": "0d1e6c39-bc7c-42f0-ab72-4c7dab139bae",
   "metadata": {},
   "source": [
    "Для бинарной классификации мы пропускали результаты линейной регрессии через логистическую функцию. В случае мультикласса нам понадобится ее обобщение - **softmax**\n",
    "\n",
    "$$\n",
    "Softmax(x_i) = \\frac{e^{x_i}}{\\sum_j {e^{x_j}}}\n",
    "$$"
   ]
  },
  {
   "cell_type": "code",
   "execution_count": null,
   "id": "db5057ad-eae9-4a12-b492-4a79a4ae8ee2",
   "metadata": {},
   "outputs": [],
   "source": [
    "def model(x):\n",
    "    return torch.softmax(x @ weights + bias, dim=-1)"
   ]
  },
  {
   "cell_type": "markdown",
   "id": "e557af68-5e3e-4a33-bd74-5e7d8aec6338",
   "metadata": {},
   "source": [
    "Стоит сразу подумать и о потреблении ресурсов. Как правило, при обучении нейросетей пользуются стохастическим градиентным спуском - обучают небольшими порциями (batch):"
   ]
  },
  {
   "cell_type": "code",
   "execution_count": null,
   "id": "079c8c03-e078-4df5-81d3-45332bc0da64",
   "metadata": {},
   "outputs": [],
   "source": [
    "batch_size = 64\n",
    "xb = torch.stack([dataset[i][0].flatten() for i in range(batch_size)])"
   ]
  },
  {
   "cell_type": "code",
   "execution_count": null,
   "id": "452ace2f-0f71-4165-88a9-33e38a7cbf86",
   "metadata": {},
   "outputs": [],
   "source": [
    "xb.shape"
   ]
  },
  {
   "cell_type": "markdown",
   "id": "6541b76c-1db9-48f6-b39c-b4a024225f3f",
   "metadata": {},
   "source": [
    "Теперь, когда мы передадим модели этот пакет данных, мы получим на выходе матрицу 64х10 - вероятности класса для каждого элемента в батче:"
   ]
  },
  {
   "cell_type": "code",
   "execution_count": null,
   "id": "27b81e7b-a2f2-404d-b2cd-40e70dab95fe",
   "metadata": {},
   "outputs": [],
   "source": [
    "output = model(xb)\n",
    "output.shape"
   ]
  },
  {
   "cell_type": "markdown",
   "id": "21b33c58-c292-447a-82a0-bc8bc861e858",
   "metadata": {},
   "source": [
    "В случае мультикласса порог не так важен: где вероятность больше, тот класс и предсказываем:"
   ]
  },
  {
   "cell_type": "code",
   "execution_count": null,
   "id": "8d06c43d-e831-4ac5-9fa8-ec703e673711",
   "metadata": {},
   "outputs": [],
   "source": [
    "preds = torch.argmax(output, dim=1)"
   ]
  },
  {
   "cell_type": "code",
   "execution_count": null,
   "id": "9de67485-40b4-4eff-b9df-33924c361811",
   "metadata": {},
   "outputs": [],
   "source": [
    "preds"
   ]
  },
  {
   "cell_type": "markdown",
   "id": "9da6309f-e3a0-493c-9160-1e385d8c10c4",
   "metadata": {},
   "source": [
    "Можно сразу оценить и метрику accuracy (она, естественно, будет околонулевая, поскольку мы еще ничего не учили)."
   ]
  },
  {
   "cell_type": "code",
   "execution_count": null,
   "id": "3a7b5b65-8108-475b-84b8-857aa96fa371",
   "metadata": {},
   "outputs": [],
   "source": [
    "y_true = torch.as_tensor([dataset[i][1] for i in range(batch_size)])"
   ]
  },
  {
   "cell_type": "code",
   "execution_count": null,
   "id": "46329c46-303b-4b08-86be-4dd49ee54573",
   "metadata": {},
   "outputs": [],
   "source": [
    "y_true"
   ]
  },
  {
   "cell_type": "code",
   "execution_count": null,
   "id": "59ce3750-1e5f-46dc-b9f8-694059fe4c30",
   "metadata": {},
   "outputs": [],
   "source": [
    "(preds == y_true).float().mean()"
   ]
  },
  {
   "cell_type": "markdown",
   "id": "85027725-8af4-4012-8329-432eee19899e",
   "metadata": {},
   "source": [
    "### А как учиться?"
   ]
  },
  {
   "cell_type": "markdown",
   "id": "e682ef7d-8793-41da-b930-6ec87d0d4650",
   "metadata": {},
   "source": [
    "Вспоминаем, что нам надо минимизировать функцию потерь. В случае классификации это logloss. В torch она реализована как `torch.nn.NLLLoss()`."
   ]
  },
  {
   "cell_type": "code",
   "execution_count": null,
   "id": "3536ba04-a86f-4bf0-a298-9eb02f2f8ce5",
   "metadata": {},
   "outputs": [],
   "source": [
    "loss_func = torch.nn.NLLLoss()\n",
    "loss = loss_func(output, y_true)"
   ]
  },
  {
   "cell_type": "markdown",
   "id": "badbdf16-0997-4dbb-ad32-81d1435d12f4",
   "metadata": {},
   "source": [
    "Вот тут в дело и вступает автоматическое дифференцирование! Для этого нам нужно сделать"
   ]
  },
  {
   "cell_type": "code",
   "execution_count": null,
   "id": "00342802-04f2-4fb8-943e-79893c40d5cd",
   "metadata": {},
   "outputs": [],
   "source": [
    "loss.backward()"
   ]
  },
  {
   "cell_type": "markdown",
   "id": "570f6b44-0b70-4125-8e11-0c056388c91e",
   "metadata": {},
   "source": [
    "А затем остается соответственно сдвинуть веса:"
   ]
  },
  {
   "cell_type": "code",
   "execution_count": null,
   "id": "1b22177f-5256-4bc9-9494-7148d4e31b5c",
   "metadata": {},
   "outputs": [],
   "source": [
    "learning_rate = 0.1"
   ]
  },
  {
   "cell_type": "code",
   "execution_count": null,
   "id": "61550f12-6416-4588-89fd-c68fa0c95280",
   "metadata": {},
   "outputs": [],
   "source": [
    "with torch.no_grad():\n",
    "    weights -= weights.grad * learning_rate\n",
    "    bias -= bias.grad * learning_rate\n",
    "    weights.grad.zero_()\n",
    "    bias.grad.zero_()"
   ]
  },
  {
   "cell_type": "markdown",
   "id": "3d4e3aac-b886-481a-b723-b9526f4ead48",
   "metadata": {},
   "source": [
    "В конце использованный градиент мы сбрасывем и начинаем следующую итерацию."
   ]
  },
  {
   "cell_type": "code",
   "execution_count": null,
   "id": "479eb51f-9d0d-449d-86ac-402da689bddc",
   "metadata": {},
   "outputs": [],
   "source": [
    "bias"
   ]
  },
  {
   "cell_type": "markdown",
   "id": "afe35d84-50fe-4074-ad1d-1ec5a6bf6424",
   "metadata": {},
   "source": [
    "Оформляем обучение в виде цикла:"
   ]
  },
  {
   "cell_type": "code",
   "execution_count": null,
   "id": "d047a9d6-1646-490c-858e-2f7facfd3e54",
   "metadata": {},
   "outputs": [],
   "source": [
    "for epoch in tqdm(range(10)):\n",
    "    for i in range(len(dataset) // batch_size):\n",
    "        start = i * batch_size\n",
    "        end = start + batch_size\n",
    "        xb = torch.stack([dataset[i][0].flatten() for i in range(start, end)])\n",
    "        yb = y_true = torch.as_tensor([dataset[i][1] for i in range(start, end)])\n",
    "        pred = model(xb)\n",
    "        loss = loss_func(pred, yb)\n",
    "\n",
    "        loss.backward()\n",
    "        with torch.no_grad():\n",
    "            weights -= weights.grad * learning_rate\n",
    "            bias -= bias.grad * learning_rate\n",
    "            weights.grad.zero_()\n",
    "            bias.grad.zero_()"
   ]
  },
  {
   "cell_type": "code",
   "execution_count": null,
   "id": "9d2c9c38-52c6-4e29-8967-f214e9907644",
   "metadata": {},
   "outputs": [],
   "source": [
    "print(f'Accuracy на последнем батче: {(pred.argmax(axis=1) == yb).float().mean().item():.2%}')"
   ]
  },
  {
   "cell_type": "markdown",
   "id": "7fd8fa49-5b6a-4e56-979e-6d9d1a0bd8a5",
   "metadata": {},
   "source": [
    "## Удобства torch"
   ]
  },
  {
   "cell_type": "markdown",
   "id": "1cec6ad2-6034-4bbe-9e41-252ec419c109",
   "metadata": {},
   "source": [
    "В реальных задачах нам не нужно вручную задавать тензоры и перемножать их. Torch содержит реализации всевозможных слоев, нам нужно только написать класс, наследующий `torch.nn.Module` и реализовать в нем метод `forward()`."
   ]
  },
  {
   "cell_type": "code",
   "execution_count": null,
   "id": "0f6b9871-bb0f-466d-ba16-7d65dd226a73",
   "metadata": {
    "editable": true,
    "slideshow": {
     "slide_type": ""
    },
    "tags": []
   },
   "outputs": [],
   "source": [
    "import torch.nn as nn"
   ]
  },
  {
   "cell_type": "code",
   "execution_count": null,
   "id": "c48f7d8c-b178-4640-99f1-ce483ee81b90",
   "metadata": {},
   "outputs": [],
   "source": [
    "class MyModel(nn.Module):\n",
    "    def __init__(self):\n",
    "        super().__init__()\n",
    "        self.flatten = nn.Flatten()\n",
    "        self.lin = nn.Linear(784, 10)\n",
    "\n",
    "    def forward(self, xb):\n",
    "        xb = self.flatten(xb)\n",
    "        return self.lin(xb)"
   ]
  },
  {
   "cell_type": "markdown",
   "id": "aa0d3cdf-e919-422b-978b-ba1ef01a3378",
   "metadata": {},
   "source": [
    "Не обязательно и делать руками логистику на выходе: есть функция потерь `CrossEntropyLoss()`, применяющая ее автоматически:"
   ]
  },
  {
   "cell_type": "code",
   "execution_count": null,
   "id": "2ae8cb7e-9b48-4e26-a73b-4bde071e0813",
   "metadata": {},
   "outputs": [],
   "source": [
    "model = MyModel()\n",
    "loss_func = nn.CrossEntropyLoss()"
   ]
  },
  {
   "cell_type": "code",
   "execution_count": null,
   "id": "f661bc4a-0e00-45c1-93fe-d9f0e1c7f33c",
   "metadata": {},
   "outputs": [],
   "source": [
    "for epoch in tqdm(range(10)):\n",
    "    for i in range(len(dataset) // batch_size):\n",
    "        start = i * batch_size\n",
    "        end = start + batch_size\n",
    "        xb = torch.stack([dataset[i][0] for i in range(start, end)])\n",
    "        yb = y_true = torch.as_tensor([dataset[i][1] for i in range(start, end)])\n",
    "        \n",
    "        pred = model(xb)\n",
    "        loss = loss_func(pred, yb)\n",
    "\n",
    "        loss.backward()\n",
    "        with torch.no_grad():\n",
    "            for p in model.parameters():\n",
    "                p -= p.grad * learning_rate\n",
    "            model.zero_grad()\n",
    "print(f'Accuracy на последнем батче: {(pred.argmax(axis=1) == yb).float().mean().item():.2%}')"
   ]
  },
  {
   "cell_type": "markdown",
   "id": "a66ba764-81f8-4d37-8402-773ec3861b5a",
   "metadata": {},
   "source": [
    "### Оптимизаторы"
   ]
  },
  {
   "cell_type": "code",
   "execution_count": null,
   "id": "1786a976-4203-4d86-bca7-c554fd44c47f",
   "metadata": {},
   "outputs": [],
   "source": [
    "from torch.optim import SGD, Adam"
   ]
  },
  {
   "cell_type": "code",
   "execution_count": null,
   "id": "0d8b8c10-ee6d-4f84-af92-a5f9687cdf76",
   "metadata": {},
   "outputs": [],
   "source": [
    "model = MyModel()\n",
    "loss_func = nn.CrossEntropyLoss()\n",
    "\n",
    "optimizer = SGD(model.parameters(), lr=0.1)"
   ]
  },
  {
   "cell_type": "code",
   "execution_count": null,
   "id": "33d54c29-c377-428b-9c37-00e0224b8a06",
   "metadata": {},
   "outputs": [],
   "source": [
    "def train(model, optimizer, loss_func):\n",
    "    for epoch in tqdm(range(10)):\n",
    "        for i in range(len(dataset) // batch_size):\n",
    "            start = i * batch_size\n",
    "            end = start + batch_size\n",
    "            xb = torch.stack([dataset[i][0] for i in range(start, end)])\n",
    "            yb = y_true = torch.as_tensor([dataset[i][1] for i in range(start, end)])\n",
    "            \n",
    "            pred = model(xb)\n",
    "            loss = loss_func(pred, yb)\n",
    "    \n",
    "            loss.backward()\n",
    "            optimizer.step()\n",
    "            optimizer.zero_grad()\n",
    "    print(f'Accuracy на последнем батче: {(pred.argmax(axis=1) == yb).float().mean().item():.2%}')"
   ]
  },
  {
   "cell_type": "code",
   "execution_count": null,
   "id": "04ef805b-1929-4b0e-b2da-7b2fd71e705f",
   "metadata": {},
   "outputs": [],
   "source": [
    "train(model, optimizer, loss_func)"
   ]
  },
  {
   "cell_type": "code",
   "execution_count": null,
   "id": "e4633316-7614-4571-84ec-35381e638e18",
   "metadata": {},
   "outputs": [],
   "source": [
    "optimizer = Adam(model.parameters(), lr=3e-4)\n",
    "\n",
    "train(model, optimizer, loss_func)"
   ]
  },
  {
   "cell_type": "markdown",
   "id": "ccad0ee5-04aa-46eb-b08e-a051de80c243",
   "metadata": {},
   "source": [
    "### Dataloader"
   ]
  },
  {
   "cell_type": "code",
   "execution_count": null,
   "id": "55f204bb-6a54-4f15-a6fd-28aaf48d4bd0",
   "metadata": {
    "editable": true,
    "slideshow": {
     "slide_type": ""
    },
    "tags": []
   },
   "outputs": [],
   "source": [
    "from torch.utils.data import DataLoader"
   ]
  },
  {
   "cell_type": "code",
   "execution_count": null,
   "id": "b9a315ab-a1a9-4628-b202-2b5c6814f779",
   "metadata": {},
   "outputs": [],
   "source": [
    "train_dl = DataLoader(dataset, batch_size=64)"
   ]
  },
  {
   "cell_type": "code",
   "execution_count": null,
   "id": "8c4d7d0a-c38b-49a0-9097-109d829a63af",
   "metadata": {},
   "outputs": [],
   "source": [
    "def train(model, optimizer, loss_func):\n",
    "    for epoch in tqdm(range(10)):\n",
    "        for xb, yb in train_dl:\n",
    "            pred = model(xb)\n",
    "            loss = loss_func(pred, yb)\n",
    "    \n",
    "            loss.backward()\n",
    "            optimizer.step()\n",
    "            optimizer.zero_grad()\n",
    "    print(f'Accuracy на последнем батче: {(pred.argmax(axis=1) == yb).float().mean().item():.2%}')"
   ]
  },
  {
   "cell_type": "code",
   "execution_count": null,
   "id": "7ac9cf4e-08b1-435d-8405-a108fa13288a",
   "metadata": {},
   "outputs": [],
   "source": [
    "model = MyModel()\n",
    "optimizer = Adam(model.parameters(), lr=3e-4)\n",
    "\n",
    "train(model, optimizer, loss_func)"
   ]
  },
  {
   "cell_type": "markdown",
   "id": "eac7b368-a0df-4960-a63f-b698a2e5e9b9",
   "metadata": {},
   "source": [
    "## Добавляем валидацию"
   ]
  },
  {
   "cell_type": "code",
   "execution_count": null,
   "id": "af63cb0f-113f-427a-b942-0e688035092c",
   "metadata": {},
   "outputs": [],
   "source": [
    "from torch.utils.data import random_split"
   ]
  },
  {
   "cell_type": "code",
   "execution_count": null,
   "id": "a80c1afa-6e92-4c1f-8c4c-e60d8dfe92ad",
   "metadata": {},
   "outputs": [],
   "source": [
    "generator = torch.Generator().manual_seed(177013)"
   ]
  },
  {
   "cell_type": "code",
   "execution_count": null,
   "id": "e87a6d43-88dc-4913-a0a9-8f3d93db7e50",
   "metadata": {},
   "outputs": [],
   "source": [
    "train_set, test_set = random_split(dataset, [0.8, 0.2], generator=generator)"
   ]
  },
  {
   "cell_type": "code",
   "execution_count": null,
   "id": "809f114a-2f33-4663-a2f8-79a751089fcd",
   "metadata": {},
   "outputs": [],
   "source": [
    "train_dl = DataLoader(train_set, batch_size=64, shuffle=True, num_workers=4)\n",
    "test_dl = DataLoader(test_set, batch_size=64, shuffle=False, num_workers=4)"
   ]
  },
  {
   "cell_type": "code",
   "execution_count": null,
   "id": "6a55aece-309c-4c3b-adfa-a344e996bd74",
   "metadata": {},
   "outputs": [],
   "source": [
    "model = MyModel()\n",
    "optimizer = Adam(model.parameters(), lr=3e-4)"
   ]
  },
  {
   "cell_type": "code",
   "execution_count": null,
   "id": "1492d718-0a89-478e-b89a-8cfddaa0a05b",
   "metadata": {},
   "outputs": [],
   "source": [
    "def train(model, optimizer, loss_func, num_epochs=10):\n",
    "    for epoch in tqdm(range(num_epochs)):\n",
    "        for xb, yb in train_dl:\n",
    "            pred = model(xb)\n",
    "            loss = loss_func(pred, yb)\n",
    "    \n",
    "            loss.backward()\n",
    "            optimizer.step()\n",
    "            optimizer.zero_grad()"
   ]
  },
  {
   "cell_type": "code",
   "execution_count": null,
   "id": "6617787a-bae2-4b26-8693-752a440c44c8",
   "metadata": {},
   "outputs": [],
   "source": [
    "def test(model):\n",
    "    accuracies = []\n",
    "    with torch.no_grad():\n",
    "        for xb, yb in test_dl:\n",
    "            pred = model(xb)\n",
    "            accuracies.append((pred.argmax(axis=1) == yb).float().mean().item())\n",
    "    print(f'Accuracy на валидации: {torch.mean(torch.as_tensor(accuracies)):.2%}')"
   ]
  },
  {
   "cell_type": "code",
   "execution_count": null,
   "id": "99f7b9c9-6870-46fe-8c60-548865bcf8b7",
   "metadata": {},
   "outputs": [],
   "source": [
    "train(model, optimizer, loss_func)"
   ]
  },
  {
   "cell_type": "code",
   "execution_count": null,
   "id": "8b84c27a-e639-4be9-8cb8-0f15acef79d6",
   "metadata": {},
   "outputs": [],
   "source": [
    "test(model)"
   ]
  },
  {
   "cell_type": "markdown",
   "id": "70871cfd-b074-4e2e-a791-e8603acbcd54",
   "metadata": {},
   "source": [
    "## Полносвязная сеть с несколькими слоями"
   ]
  },
  {
   "cell_type": "markdown",
   "id": "8a5e19eb-b775-4928-89a6-56d3d394e68c",
   "metadata": {},
   "source": [
    "Еще один вариант задать сложную сеть - с помощью контейнера `torch.nn.Sequential()`:"
   ]
  },
  {
   "cell_type": "code",
   "execution_count": null,
   "id": "2c8e56c0-cae1-404d-898b-d2587b999269",
   "metadata": {},
   "outputs": [],
   "source": [
    "model = nn.Sequential(\n",
    "        nn.Flatten(),\n",
    "        nn.Linear(784, 128),\n",
    "        nn.ReLU(),\n",
    "        nn.Linear(128, 128),\n",
    "        nn.ReLU(),\n",
    "        nn.Linear(128, 10),\n",
    "    )"
   ]
  },
  {
   "cell_type": "code",
   "execution_count": null,
   "id": "b62f4c0f-84bc-4975-ab85-cb9ee0a83021",
   "metadata": {},
   "outputs": [],
   "source": [
    "optimizer = Adam(model.parameters(), lr=3e-4)"
   ]
  },
  {
   "cell_type": "code",
   "execution_count": null,
   "id": "fb1b8975-216b-43c3-946f-5181a8c6c963",
   "metadata": {},
   "outputs": [],
   "source": [
    "train(model, optimizer, loss_func)"
   ]
  },
  {
   "cell_type": "code",
   "execution_count": null,
   "id": "1361a46e-90e2-4c5c-a918-038155fe87e6",
   "metadata": {},
   "outputs": [],
   "source": [
    "test(model)"
   ]
  },
  {
   "cell_type": "markdown",
   "id": "388a6522-fdc9-426c-ad67-edc73e6944aa",
   "metadata": {},
   "source": [
    "## Свертка"
   ]
  },
  {
   "cell_type": "code",
   "execution_count": null,
   "id": "8e772f72-fc62-4922-a69e-fd1ee36d74b8",
   "metadata": {},
   "outputs": [],
   "source": [
    "import numpy as np\n",
    "from scipy.signal import convolve2d\n",
    "from PIL import Image"
   ]
  },
  {
   "cell_type": "code",
   "execution_count": null,
   "id": "8c48f8d0-0226-46f6-a25f-f76c795d824b",
   "metadata": {},
   "outputs": [],
   "source": [
    "pic = Image.open('photo_2023-01-23_21-07-07.jpg')"
   ]
  },
  {
   "cell_type": "code",
   "execution_count": null,
   "id": "23405659-757c-4a61-8c60-031c7cfd228e",
   "metadata": {},
   "outputs": [],
   "source": [
    "pic = pic.resize((256,320))"
   ]
  },
  {
   "cell_type": "code",
   "execution_count": null,
   "id": "e2d5fb25-583c-4bc0-b242-5dffb5400fc6",
   "metadata": {},
   "outputs": [],
   "source": [
    "pic"
   ]
  },
  {
   "cell_type": "code",
   "execution_count": null,
   "id": "737257ac-195a-4153-a9ee-d407b9ddc820",
   "metadata": {},
   "outputs": [],
   "source": [
    "data = np.asarray(pic)"
   ]
  },
  {
   "cell_type": "code",
   "execution_count": null,
   "id": "84c371fa-0c7a-415e-b25b-1a05c11d7e11",
   "metadata": {},
   "outputs": [],
   "source": [
    "kernels = [ \n",
    "             [[0, 0, 0],  \n",
    "              [0, 1, 0],\n",
    "              [0, 0, 0]],\n",
    "    \n",
    "             [[0, -1, 0],\n",
    "              [-1, 5, -1],\n",
    "              [0, -1, 0]],\n",
    "    \n",
    "             [[0, 0, 0],\n",
    "              [1, -2, 1],\n",
    "              [0, 0, 0]],\n",
    "    \n",
    "             [[0, 1, 0],\n",
    "              [0, -2, 0],\n",
    "              [0, 1, 0]],\n",
    "    \n",
    "             [[0, 1, 0],\n",
    "              [1, -4, 1],\n",
    "              [0, 1, 0]],\n",
    "    \n",
    "             [[-1, 0, 1],\n",
    "              [-2, 0, 2],\n",
    "              [-1, 0, 1]],\n",
    "    \n",
    "            [[-1, -2, -1],\n",
    "             [0,   0,  0],\n",
    "             [1,   2,  1]]\n",
    "]"
   ]
  },
  {
   "cell_type": "code",
   "execution_count": null,
   "id": "575ef4cf-7cd9-4d70-907a-8592e6571b5b",
   "metadata": {},
   "outputs": [],
   "source": [
    "fig, axes = plt.subplots(2,3, figsize=(10, 10))\n",
    "for kernel, ax in zip(kernels, axes.flat):\n",
    "    result = np.array([convolve2d(data[:,:,i], kernel, mode='same') for i in range(3)]).transpose((1,2,0))\n",
    "    ax.imshow(result, vmin=0, vmax=255);"
   ]
  },
  {
   "cell_type": "code",
   "execution_count": null,
   "id": "94b29b3d-2932-4927-9ca9-c2113825d8bf",
   "metadata": {},
   "outputs": [],
   "source": []
  },
  {
   "cell_type": "markdown",
   "id": "97ac1e62-b4a7-40b1-92fd-d031f02a2fc0",
   "metadata": {},
   "source": [
    "### Модель классификации на базе сверток"
   ]
  },
  {
   "cell_type": "code",
   "execution_count": null,
   "id": "5000471c-16be-49d9-9a52-c6401e7cca3a",
   "metadata": {},
   "outputs": [],
   "source": [
    "model = nn.Sequential(\n",
    "    nn.Conv2d(1, 6, kernel_size=3, padding=1),\n",
    "    nn.ReLU(),\n",
    "    nn.MaxPool2d(2),\n",
    "    nn.Conv2d(6, 16, kernel_size=3, padding=1),\n",
    "    nn.ReLU(),\n",
    "    nn.MaxPool2d(2),\n",
    "    nn.Flatten(),\n",
    "    nn.Linear(784, 120),\n",
    "    nn.ReLU(),\n",
    "    nn.Linear(120, 84),\n",
    "    nn.ReLU(),\n",
    "    nn.Linear(84, 10),\n",
    ")\n"
   ]
  },
  {
   "cell_type": "code",
   "execution_count": null,
   "id": "e7773e26-4d23-405e-a9a3-fc5e12b6ecac",
   "metadata": {},
   "outputs": [],
   "source": [
    "torchinfo.summary(model)"
   ]
  },
  {
   "cell_type": "code",
   "execution_count": null,
   "id": "02df0fdb-f49c-4aaf-8df3-c19e3c3082b9",
   "metadata": {},
   "outputs": [],
   "source": [
    "optimizer = Adam(model.parameters(), lr=3e-4)"
   ]
  },
  {
   "cell_type": "code",
   "execution_count": null,
   "id": "4dd10cbe-6a42-422c-9043-5ba53a85e397",
   "metadata": {},
   "outputs": [],
   "source": [
    "train(model, optimizer, loss_func)"
   ]
  },
  {
   "cell_type": "code",
   "execution_count": null,
   "id": "9f833daa-824a-4820-ace9-eab0c3e2d22d",
   "metadata": {},
   "outputs": [],
   "source": [
    "test(model)"
   ]
  },
  {
   "cell_type": "markdown",
   "id": "48ac6eda-1a16-461f-997a-6639741e626d",
   "metadata": {},
   "source": [
    "## Transfer learning"
   ]
  },
  {
   "cell_type": "code",
   "execution_count": null,
   "id": "02107cb1-7bb5-47df-b4a8-257298dd6573",
   "metadata": {},
   "outputs": [],
   "source": [
    "from torchvision.models import resnet18"
   ]
  },
  {
   "cell_type": "code",
   "execution_count": null,
   "id": "6c60875d-b332-4540-9aed-983e23fb3b88",
   "metadata": {},
   "outputs": [],
   "source": [
    "model = resnet18(weights='IMAGENET1K_V1')"
   ]
  },
  {
   "cell_type": "code",
   "execution_count": null,
   "id": "b190d741-a9f1-4d53-84fa-f74775aa4752",
   "metadata": {},
   "outputs": [],
   "source": [
    "torchinfo.summary(model)"
   ]
  },
  {
   "cell_type": "markdown",
   "id": "f00d0b61-386a-4983-a63d-ec8446a7bb1c",
   "metadata": {},
   "source": [
    "### Меняем слои вручную"
   ]
  },
  {
   "cell_type": "code",
   "execution_count": null,
   "id": "aeb9ebd9-fa32-4df8-b252-581ab3f1e0a5",
   "metadata": {},
   "outputs": [],
   "source": [
    "model.conv1 = nn.Conv2d(1, 64, kernel_size=(7, 7), stride=(2, 2), padding=(3, 3), bias=False)"
   ]
  },
  {
   "cell_type": "code",
   "execution_count": null,
   "id": "c8f58e4f-f47d-4e0b-bece-b14dde5c68b8",
   "metadata": {},
   "outputs": [],
   "source": [
    "model.fc = nn.Linear(model.fc.in_features, 10)"
   ]
  },
  {
   "cell_type": "code",
   "execution_count": null,
   "id": "92b4d59d-544a-420b-a0ec-ee07e690768f",
   "metadata": {},
   "outputs": [],
   "source": [
    "test(model)"
   ]
  },
  {
   "cell_type": "code",
   "execution_count": null,
   "id": "40eb0569-4a1b-4c6a-a0f4-53821ab9f2fa",
   "metadata": {},
   "outputs": [],
   "source": [
    "loss_func = nn.CrossEntropyLoss()"
   ]
  },
  {
   "cell_type": "code",
   "execution_count": null,
   "id": "caafe426-4246-427c-92e9-304d9a0d6770",
   "metadata": {},
   "outputs": [],
   "source": [
    "train(model, optimizer, loss_func, num_epochs=1)"
   ]
  },
  {
   "cell_type": "code",
   "execution_count": null,
   "id": "cf0aa78d-94fe-406d-8cd1-cd754560ff21",
   "metadata": {},
   "outputs": [],
   "source": [
    "test(model)"
   ]
  },
  {
   "cell_type": "code",
   "execution_count": null,
   "id": "bf112a2a-1027-431f-9e30-351f99f46a14",
   "metadata": {},
   "outputs": [],
   "source": [
    "def train(model, loss_func, num_epochs=10, device='cuda'):\n",
    "    model = model.to(device)\n",
    "    optimizer = Adam(model.parameters(), lr=3e-4)\n",
    "    model.train()\n",
    "    for epoch in tqdm(range(num_epochs)):\n",
    "        for xb, yb in train_dl:\n",
    "            pred = model(xb.to(device))\n",
    "            loss = loss_func(pred.cpu(), yb)\n",
    "    \n",
    "            loss.backward()\n",
    "            optimizer.step()\n",
    "            optimizer.zero_grad()\n",
    "\n",
    "def test(model, device='cuda'):\n",
    "    model.eval()\n",
    "    accuracies = []\n",
    "    with torch.no_grad():\n",
    "        for xb, yb in test_dl:\n",
    "            pred = model(xb.to(device))\n",
    "            accuracies.append((pred.cpu().argmax(axis=1) == yb).float().mean().item())\n",
    "    print(f'Accuracy на валидации: {torch.mean(torch.as_tensor(accuracies)):.2%}')"
   ]
  },
  {
   "cell_type": "code",
   "execution_count": null,
   "id": "bbba4dc1-7439-43b3-af14-6724d5b41443",
   "metadata": {},
   "outputs": [],
   "source": [
    "train(model, loss_func)"
   ]
  },
  {
   "cell_type": "code",
   "execution_count": null,
   "id": "b7fb59cd-72e0-4c61-9306-ca1c1445129c",
   "metadata": {
    "editable": true,
    "slideshow": {
     "slide_type": ""
    },
    "tags": []
   },
   "outputs": [],
   "source": [
    "test(model)"
   ]
  },
  {
   "cell_type": "markdown",
   "id": "eeb4d483-0629-4c74-9f59-f5bbc1400123",
   "metadata": {
    "editable": true,
    "slideshow": {
     "slide_type": ""
    },
    "tags": []
   },
   "source": [
    "### Transfer learning через timm"
   ]
  },
  {
   "cell_type": "code",
   "execution_count": null,
   "id": "dfed46fb-8144-4448-a501-c37ac718afd4",
   "metadata": {},
   "outputs": [],
   "source": [
    "import timm"
   ]
  },
  {
   "cell_type": "code",
   "execution_count": null,
   "id": "c004ab7a-7319-4f56-8d81-97686c2d05b5",
   "metadata": {},
   "outputs": [],
   "source": [
    "model = timm.create_model('eca_nfnet_l1', pretrained=True, num_classes=10, in_chans=1)"
   ]
  },
  {
   "cell_type": "code",
   "execution_count": null,
   "id": "a1420609-5f2d-42c7-b531-292f9458b96d",
   "metadata": {},
   "outputs": [],
   "source": [
    "train(model, loss_func, num_epochs=1)"
   ]
  },
  {
   "cell_type": "code",
   "execution_count": null,
   "id": "72f3232f-cc65-4927-a3b5-01c55598a877",
   "metadata": {},
   "outputs": [],
   "source": [
    "test(model)"
   ]
  },
  {
   "cell_type": "markdown",
   "id": "e384d16b-a285-4c6e-be84-97cc252ce427",
   "metadata": {},
   "source": [
    "## Автоэнкодеры"
   ]
  },
  {
   "cell_type": "code",
   "execution_count": null,
   "id": "eba76be6-40ed-430a-8cbb-88250a9d3297",
   "metadata": {},
   "outputs": [],
   "source": [
    "import os\n",
    "import skimage\n",
    "import pandas as pd\n",
    "from torch.utils.data import TensorDataset"
   ]
  },
  {
   "cell_type": "code",
   "execution_count": null,
   "id": "28b07196-78e9-4230-b39f-b0d06358a95f",
   "metadata": {
    "jupyter": {
     "source_hidden": true
    }
   },
   "outputs": [],
   "source": [
    "def fetch_dataset(attrs_name = \"lfw_attributes.txt\",\n",
    "                      images_name = \"lfw-deepfunneled\",\n",
    "                      dx=80,dy=80,\n",
    "                      dimx=64,dimy=64\n",
    "    ):\n",
    "\n",
    "    #download if not exists\n",
    "    if not os.path.exists(images_name):\n",
    "        print(\"images not found, donwloading...\")\n",
    "        os.system(\"wget http://vis-www.cs.umass.edu/lfw/lfw-deepfunneled.tgz -O tmp.tgz\")\n",
    "        print(\"extracting...\")\n",
    "        os.system(\"tar xvzf tmp.tgz && rm tmp.tgz\")\n",
    "        print(\"done\")\n",
    "        assert os.path.exists(images_name)\n",
    "\n",
    "    if not os.path.exists(attrs_name):\n",
    "        print(\"attributes not found, downloading...\")\n",
    "        os.system(\"wget http://www.cs.columbia.edu/CAVE/databases/pubfig/download/%s\" % attrs_name)\n",
    "        print(\"done\")\n",
    "\n",
    "    #read attrs\n",
    "    df_attrs = pd.read_csv(\"lfw_attributes.txt\",sep='\\t',skiprows=1,) \n",
    "    df_attrs = pd.DataFrame(df_attrs.iloc[:,:-1].values, columns = df_attrs.columns[1:])\n",
    "\n",
    "\n",
    "    #read photos\n",
    "    photo_ids = []\n",
    "    for dirpath, dirnames, filenames in os.walk(images_name):\n",
    "        for fname in filenames:\n",
    "            if fname.endswith(\".jpg\"):\n",
    "                fpath = os.path.join(dirpath,fname)\n",
    "                photo_id = fname[:-4].replace('_',' ').split()\n",
    "                person_id = ' '.join(photo_id[:-1])\n",
    "                photo_number = int(photo_id[-1])\n",
    "                photo_ids.append({'person':person_id,'imagenum':photo_number,'photo_path':fpath})\n",
    "\n",
    "    photo_ids = pd.DataFrame(photo_ids)\n",
    "    # print(photo_ids)\n",
    "    #mass-merge\n",
    "    #(photos now have same order as attributes)\n",
    "    df = pd.merge(df_attrs,photo_ids,on=('person','imagenum'))\n",
    "\n",
    "    assert len(df)==len(df_attrs),\"lost some data when merging dataframes\"\n",
    "\n",
    "    # print(df.shape)\n",
    "    #image preprocessing\n",
    "    all_photos =df['photo_path'].apply(skimage.io.imread)\\\n",
    "                                .apply(lambda img:img[dy:-dy,dx:-dx])\\\n",
    "                                .apply(lambda img: skimage.transform.resize(img,[dimx,dimy]))\n",
    "\n",
    "    all_photos = np.stack(all_photos.values)#.astype('uint8')\n",
    "    all_attrs = df.drop([\"photo_path\",\"person\",\"imagenum\"],axis=1)\n",
    "    \n",
    "    return all_photos, all_attrs"
   ]
  },
  {
   "cell_type": "code",
   "execution_count": null,
   "id": "2cdd8c57-aaea-4651-b2b9-181f4748f72e",
   "metadata": {
    "editable": true,
    "scrolled": true,
    "slideshow": {
     "slide_type": ""
    },
    "tags": []
   },
   "outputs": [],
   "source": [
    "data, attrs = fetch_dataset()"
   ]
  },
  {
   "cell_type": "code",
   "execution_count": null,
   "id": "d55df99c-b959-4c48-94dd-ef3d01411bec",
   "metadata": {
    "editable": true,
    "slideshow": {
     "slide_type": ""
    },
    "tags": []
   },
   "outputs": [],
   "source": [
    "for column in attrs.columns:\n",
    "    attrs[column] = pd.to_numeric(attrs[column])"
   ]
  },
  {
   "cell_type": "code",
   "execution_count": null,
   "id": "c21c91d2-ef59-4894-9ede-04036fbe53dc",
   "metadata": {},
   "outputs": [],
   "source": [
    "attrs.head()"
   ]
  },
  {
   "cell_type": "code",
   "execution_count": null,
   "id": "e7405c78-0467-47b5-8353-344570fcfd86",
   "metadata": {
    "editable": true,
    "slideshow": {
     "slide_type": ""
    },
    "tags": []
   },
   "outputs": [],
   "source": [
    "dataset = TensorDataset(torch.from_numpy(data).permute(0, 3, 1, 2).float())\n",
    "train_set, test_set = random_split(dataset, [0.8, 0.2], generator=generator)"
   ]
  },
  {
   "cell_type": "markdown",
   "id": "dd464c51-dbb8-4933-97dd-13e45bef53fc",
   "metadata": {},
   "source": [
    "### Самостоятельная работа"
   ]
  },
  {
   "cell_type": "markdown",
   "id": "dc1d5cff-80a3-4879-8278-fafb71405862",
   "metadata": {},
   "source": [
    "Создайте даталоадеры для обучающей и тестовой выборки."
   ]
  },
  {
   "cell_type": "code",
   "execution_count": null,
   "id": "b37c31fe-a0fe-47a3-a54b-6d2fc32de785",
   "metadata": {
    "editable": true,
    "slideshow": {
     "slide_type": ""
    },
    "tags": []
   },
   "outputs": [],
   "source": [
    "train_dl = DataLoader(train_set, batch_size=256, shuffle=True, num_workers=12)\n",
    "test_dl = DataLoader(test_set, batch_size=256, shuffle=False, num_workers=12)"
   ]
  },
  {
   "cell_type": "code",
   "execution_count": null,
   "id": "a349f43f-6ed9-48b4-952f-690bc9af201f",
   "metadata": {
    "editable": true,
    "slideshow": {
     "slide_type": ""
    },
    "tags": []
   },
   "outputs": [],
   "source": [
    "fig, axes = plt.subplots(2, 4, figsize=(8,4))\n",
    "\n",
    "batch = next(iter(train_dl))\n",
    "\n",
    "for i, ax in enumerate(axes.flat):\n",
    "    ax.axis(\"off\")\n",
    "    ax.imshow(batch[0][i].permute(1, 2, 0))"
   ]
  },
  {
   "cell_type": "code",
   "execution_count": null,
   "id": "b18fc763-ea05-4ac4-87e3-d9a8128b0f66",
   "metadata": {},
   "outputs": [],
   "source": [
    "LATENT_SIZE = 128"
   ]
  },
  {
   "cell_type": "code",
   "execution_count": null,
   "id": "611598a0-2ed3-4c40-99e7-3a28f85842e8",
   "metadata": {},
   "outputs": [],
   "source": [
    "class Autoencoder(nn.Module):\n",
    "    def __init__(self, input_size=64, input_channels=3, latent_size=LATENT_SIZE):\n",
    "        super().__init__()\n",
    "        self.encoder = nn.Sequential(\n",
    "            nn.Conv2d(input_channels, 4, 3, padding=1, stride=2, bias=False),\n",
    "            nn.ReLU(),\n",
    "            nn.BatchNorm2d(4),\n",
    "            nn.Conv2d(4, 16, 3, padding=1, stride=2, bias=False),\n",
    "            nn.ReLU(),\n",
    "            nn.BatchNorm2d(16),\n",
    "            nn.Flatten(),\n",
    "            nn.Linear((input_size)**2, latent_size),\n",
    "            nn.ReLU(),\n",
    "            nn.BatchNorm1d(latent_size),\n",
    "        )\n",
    "        self.decoder = nn.Sequential(\n",
    "            nn.Linear(latent_size, input_size**2),\n",
    "            nn.ReLU(),\n",
    "            #nn.BatchNorm1d(input_size**2),\n",
    "            nn.Unflatten(1, torch.Size([16, input_size//4, input_size//4])),\n",
    "            nn.ConvTranspose2d(16, 4, 4, stride=2, padding=1, bias=False),\n",
    "            nn.ReLU(),\n",
    "            nn.BatchNorm2d(4),\n",
    "            nn.ConvTranspose2d(4, input_channels, 4, stride=2, padding=1),\n",
    "            nn.Sigmoid(),\n",
    "        )\n",
    "        \n",
    "    def forward(self, x):\n",
    "        latent_code = self.encoder(x)\n",
    "        reconstruction = self.decoder(latent_code)\n",
    "        return reconstruction, latent_code"
   ]
  },
  {
   "cell_type": "code",
   "execution_count": null,
   "id": "4580bfa6-340a-40fa-a4c5-621bf5764af1",
   "metadata": {},
   "outputs": [],
   "source": [
    "model = Autoencoder()\n",
    "optimizer = Adam(model.parameters(), lr=3e-4)\n",
    "torchinfo.summary(model, input_size=(1, 3, 64, 64))"
   ]
  },
  {
   "cell_type": "code",
   "execution_count": null,
   "id": "c08ec895-f175-465a-b82e-f97fb6794af7",
   "metadata": {},
   "outputs": [],
   "source": [
    "criterion = torch.nn.MSELoss()"
   ]
  },
  {
   "cell_type": "code",
   "execution_count": null,
   "id": "a5bd26c0-bb4a-4e91-b2db-01d31edcb598",
   "metadata": {},
   "outputs": [],
   "source": [
    "from IPython.display import clear_output"
   ]
  },
  {
   "cell_type": "code",
   "execution_count": null,
   "id": "35ab9bec-d0ff-4ec0-b2c9-081127edda70",
   "metadata": {
    "editable": true,
    "slideshow": {
     "slide_type": ""
    },
    "tags": []
   },
   "outputs": [],
   "source": [
    "def train(model, opt, loss_fn, epochs, data_tr, data_val, device='cuda'):\n",
    "    model = model.to(device)\n",
    "    train_loss = []\n",
    "    val_loss = []\n",
    "    \n",
    "    for epoch in range(epochs):\n",
    "        print('* Epoch %d/%d' % (epoch + 1, epochs))\n",
    "\n",
    "        model.train()\n",
    "        avg_loss = 0\n",
    "        for batch in data_tr:\n",
    "            opt.zero_grad()\n",
    "            X = torch.as_tensor(batch[0]).to(device)\n",
    "            reconstruction, vector = model(X)\n",
    "            loss = loss_fn(reconstruction, X)\n",
    "            loss.backward()\n",
    "            opt.step()\n",
    "            avg_loss += loss / len(data_tr)\n",
    "        train_loss.append(avg_loss.detach().cpu())\n",
    "\n",
    "        model.eval()\n",
    "        avg_loss = 0\n",
    "        with torch.no_grad():\n",
    "            for batch in data_val:\n",
    "                X = torch.as_tensor(batch[0]).to(device)\n",
    "                reconstruction, vector = model(X)\n",
    "                loss = loss_fn(reconstruction, X)\n",
    "                avg_loss += loss / len(data_val)\n",
    "        val_loss.append(avg_loss.detach().cpu())\n",
    "    \n",
    "        # Visualize\n",
    "        clear_output(wait=True)\n",
    "        for k in range(5):\n",
    "            plt.subplot(3, 5, k+1)\n",
    "            plt.imshow(torch.as_tensor(batch[0])[k].permute(1, 2, 0))\n",
    "            plt.title('Real')\n",
    "            plt.axis('off')\n",
    "\n",
    "            plt.subplot(3, 5, k+6)\n",
    "            plt.imshow(reconstruction[k].cpu().permute(1, 2, 0))\n",
    "            plt.title('Output')\n",
    "            plt.axis('off')\n",
    "            \n",
    "        plt.suptitle('%d / %d - loss: %f' % (epoch+1, epochs, avg_loss))\n",
    "        plt.show()"
   ]
  },
  {
   "cell_type": "code",
   "execution_count": null,
   "id": "255a5db6-8757-4c34-a2cd-1f7aee8cac21",
   "metadata": {},
   "outputs": [],
   "source": [
    "train(model, optimizer, criterion, 50, train_dl, test_dl)"
   ]
  },
  {
   "cell_type": "code",
   "execution_count": null,
   "id": "1ff7ec73-a0e9-438a-9dc3-ad5a8c9cfda6",
   "metadata": {
    "editable": true,
    "slideshow": {
     "slide_type": ""
    },
    "tags": []
   },
   "outputs": [],
   "source": [
    "set_a = TensorDataset(torch.from_numpy(data[attrs['Smiling'] > 0.75]).permute(0, 3, 1, 2).float())\n",
    "set_b = TensorDataset(torch.from_numpy(data[attrs['Smiling'] < 1]).permute(0, 3, 1, 2).float())\n",
    "\n",
    "loader_a = DataLoader(set_a, batch_size=256, shuffle=True, num_workers=12)\n",
    "loader_b = DataLoader(set_b, batch_size=256, shuffle=False, num_workers=12)\n",
    "\n",
    "faces_a, vectors_a = model(next(iter(loader_a))[0].to('cuda'))\n",
    "faces_b, vectors_b = model(next(iter(loader_b))[0].to('cuda'))\n",
    "\n",
    "mean_vector_a = torch.mean(vectors_a, dim=0) - torch.mean(vectors_b, dim=0)\n",
    "new_faces = model.decoder(vectors_b + mean_vector_a)\n",
    "\n",
    "fig, axes = plt.subplots(1, 15, figsize=(20,2))\n",
    "for i, ax in enumerate(axes.flat):\n",
    "    ax.axis(\"off\")\n",
    "    ax.imshow(faces_b[i].permute(1, 2, 0).cpu().detach().numpy())\n",
    "    \n",
    "fig, axes = plt.subplots(1, 15, figsize=(20,2))\n",
    "for i, ax in enumerate(axes.flat):\n",
    "    ax.axis(\"off\")\n",
    "    ax.imshow(new_faces[i].permute(1, 2, 0).cpu().detach().numpy())"
   ]
  },
  {
   "cell_type": "markdown",
   "id": "09e1db12-9925-4f26-9e50-0d1c2a46e01a",
   "metadata": {
    "editable": true,
    "slideshow": {
     "slide_type": ""
    },
    "tags": []
   },
   "source": [
    "### VAE"
   ]
  },
  {
   "cell_type": "code",
   "execution_count": null,
   "id": "423b25fd-0291-4b4c-8181-b9ab5ae07eb5",
   "metadata": {
    "editable": true,
    "slideshow": {
     "slide_type": ""
    },
    "tags": []
   },
   "outputs": [],
   "source": [
    "dataset = MNIST('mnist-data', download=True, transform=ToTensor())"
   ]
  },
  {
   "cell_type": "code",
   "execution_count": null,
   "id": "fb314329-7f52-4b0c-87dc-52765f3e5aea",
   "metadata": {},
   "outputs": [],
   "source": [
    "train_set, test_set = random_split(dataset, [0.8, 0.2], generator=generator)"
   ]
  },
  {
   "cell_type": "code",
   "execution_count": null,
   "id": "c0ff944f-ceda-450a-9249-88533caf6292",
   "metadata": {},
   "outputs": [],
   "source": [
    "train_dl = DataLoader(train_set, batch_size=64, shuffle=True, num_workers=12)\n",
    "test_dl = DataLoader(test_set, batch_size=64, shuffle=False, num_workers=12)"
   ]
  },
  {
   "cell_type": "code",
   "execution_count": null,
   "id": "78b7d5bf-c42e-419e-9cc6-a6f34eeb875b",
   "metadata": {
    "editable": true,
    "slideshow": {
     "slide_type": ""
    },
    "tags": []
   },
   "outputs": [],
   "source": [
    "class VAE(nn.Module):\n",
    "    def __init__(self, input_size=28, input_channels=1, latent_size=LATENT_SIZE):\n",
    "        super().__init__()\n",
    "        self.encoder = nn.Sequential(\n",
    "            nn.Conv2d(input_channels, 4, 3, padding=1, stride=2, bias=False),\n",
    "            nn.ReLU(inplace=True),\n",
    "            nn.BatchNorm2d(4),\n",
    "            nn.Conv2d(4, 16, 3, padding=1, stride=2, bias=False),\n",
    "            nn.ReLU(inplace=True),\n",
    "            nn.BatchNorm2d(16),\n",
    "            nn.Flatten(),\n",
    "            nn.Linear(input_size**2, latent_size*2),\n",
    "            nn.ReLU(inplace=True),\n",
    "            nn.BatchNorm1d(latent_size*2),\n",
    "        )\n",
    "        self.decoder = nn.Sequential(\n",
    "            nn.Linear(latent_size, input_size**2),\n",
    "            nn.ReLU(inplace=True),\n",
    "            #nn.BatchNorm1d(input_size**2),\n",
    "            nn.Unflatten(1, torch.Size([16, input_size//4, input_size//4])),\n",
    "            nn.ConvTranspose2d(16, 4, 4, stride=2, padding=1, bias=False),\n",
    "            nn.ReLU(inplace=True),\n",
    "            nn.BatchNorm2d(4),\n",
    "            nn.ConvTranspose2d(4, input_channels, 4, stride=2, padding=1),\n",
    "            nn.Sigmoid(),\n",
    "        )\n",
    "        self.latent_size = latent_size\n",
    "    \n",
    "    def forward(self, x):\n",
    "        shapes = x.shape\n",
    "        mu, logsigma = self.encode(x)\n",
    "        sample = self.gaussian_sampler(mu, logsigma)\n",
    "        reconstruction = self.decode(sample)\n",
    "        return mu, logsigma, reconstruction\n",
    "        \n",
    "    def encode(self, x):\n",
    "        return torch.split(self.encoder(x), self.latent_size, dim=1)\n",
    "    \n",
    "    def gaussian_sampler(self, mu, logsigma):\n",
    "        if self.training:\n",
    "            # латентный вектор из нормального распределения с параметрами mu и sigma\n",
    "            return torch.randn_like(logsigma) * torch.exp(logsigma) + mu\n",
    "        else:\n",
    "            # на инференсе возвращаем не случайный вектор из нормального распределения, а центральный -- mu. \n",
    "            # на инференсе выход автоэнкодера должен быть детерминирован.\n",
    "            return mu\n",
    "    \n",
    "    def decode(self, z):\n",
    "        return self.decoder(z)"
   ]
  },
  {
   "cell_type": "code",
   "execution_count": null,
   "id": "914b7fd5-52ea-40c7-b7ce-6bbf4df33950",
   "metadata": {
    "editable": true,
    "slideshow": {
     "slide_type": ""
    },
    "tags": []
   },
   "outputs": [],
   "source": [
    "def KL_divergence(mu, logsigma):\n",
    "    \"\"\"\n",
    "    часть функции потерь, которая отвечает за \"близость\" латентных представлений разных людей\n",
    "    \"\"\"\n",
    "    loss = -0.5 * torch.sum(1 + logsigma - mu ** 2 - torch.exp(logsigma))\n",
    "    return loss\n",
    "\n",
    "def log_likelihood(x, reconstruction):\n",
    "    \"\"\"\n",
    "    часть функции потерь, которая отвечает за качество реконструкции (как mse в обычном autoencoder)\n",
    "    \"\"\"\n",
    "    # Чтобы компоненты были соразмерны, понадобится либо reduction='sum' здесь, либо весовой коэффициент ниже:\n",
    "    loss = torch.nn.BCELoss(reduction='sum')\n",
    "    return loss(reconstruction, x)\n",
    "\n",
    "def loss_vae(x, mu, logsigma, reconstruction, kl_weight=1.0):\n",
    "    return kl_weight * KL_divergence(mu, logsigma) + log_likelihood(x, reconstruction)"
   ]
  },
  {
   "cell_type": "code",
   "execution_count": null,
   "id": "589547e0-ca0f-4d14-adcb-674c73de4b5a",
   "metadata": {},
   "outputs": [],
   "source": [
    "loss_func = loss_vae\n",
    "model = VAE()\n",
    "optimizer = Adam(model.parameters(), lr=3e-4)"
   ]
  },
  {
   "cell_type": "code",
   "execution_count": null,
   "id": "e2a101b5-9398-4251-b7c4-43b525958287",
   "metadata": {
    "editable": true,
    "slideshow": {
     "slide_type": ""
    },
    "tags": []
   },
   "outputs": [],
   "source": [
    "def train(model, opt, loss_fn, epochs, data_tr, data_val, device='cuda'):\n",
    "    model = model.to(device)\n",
    "    train_loss = []\n",
    "    val_loss = []\n",
    "    \n",
    "    for epoch in range(epochs):\n",
    "        print('* Epoch %d/%d' % (epoch + 1, epochs))\n",
    "\n",
    "        model.train()\n",
    "        avg_loss = 0\n",
    "        for X, y in data_tr:\n",
    "            opt.zero_grad()\n",
    "            mu, logsigma, reconstruction = model(X.to(device))\n",
    "            loss = loss_fn(X.to(device), mu, logsigma, reconstruction)\n",
    "            loss.backward()\n",
    "            opt.step()\n",
    "            avg_loss += loss / len(data_tr)\n",
    "        train_loss.append(avg_loss.detach().cpu())\n",
    "\n",
    "        model.eval()\n",
    "        avg_loss = 0\n",
    "        with torch.no_grad():\n",
    "            for X, y in data_val:\n",
    "                mu, logsigma, reconstruction = model(X.to(device))\n",
    "                loss = loss_fn(X.to(device), mu, logsigma, reconstruction)\n",
    "                avg_loss += loss / len(data_val)\n",
    "        val_loss.append(avg_loss.detach().cpu())\n",
    "    \n",
    "        # Visualize\n",
    "        clear_output(wait=True)\n",
    "        for k in range(5):\n",
    "            plt.subplot(3, 5, k+1)\n",
    "            plt.imshow(X[k].cpu().permute(1, 2, 0))\n",
    "            plt.title('Real')\n",
    "            plt.axis('off')\n",
    "\n",
    "            plt.subplot(3, 5, k+6)\n",
    "            plt.imshow(reconstruction[k].cpu().permute(1, 2, 0))\n",
    "            plt.title('Output')\n",
    "            plt.axis('off')\n",
    "            \n",
    "        plt.suptitle('%d / %d - loss: %f' % (epoch+1, epochs, avg_loss))\n",
    "        plt.show()"
   ]
  },
  {
   "cell_type": "code",
   "execution_count": null,
   "id": "bd17e01a-d82b-43f9-bc78-26a859b0dbcc",
   "metadata": {
    "editable": true,
    "slideshow": {
     "slide_type": ""
    },
    "tags": []
   },
   "outputs": [],
   "source": [
    "train(model, optimizer, loss_func, 25, train_dl, test_dl)"
   ]
  },
  {
   "cell_type": "code",
   "execution_count": null,
   "id": "d81a42d1-6f80-46fd-88e3-72383fbb0025",
   "metadata": {
    "editable": true,
    "slideshow": {
     "slide_type": ""
    },
    "tags": []
   },
   "outputs": [],
   "source": [
    "mu, logsigma = model.encode(next(iter(test_dl))[0].to('cuda'))"
   ]
  },
  {
   "cell_type": "code",
   "execution_count": null,
   "id": "2dddc38c-c9b6-4894-bd26-ce6f9ec3c00e",
   "metadata": {},
   "outputs": [],
   "source": [
    "# сгенерируем 32 рандомных вектора размера latent_space\n",
    "z = torch.randn(batch_size, LATENT_SIZE).to('cuda') * torch.exp(logsigma) + mu\n",
    "output = model.decode(z)"
   ]
  },
  {
   "cell_type": "code",
   "execution_count": null,
   "id": "d52541d2-a57f-4fa0-a7d7-17d877d7230d",
   "metadata": {
    "editable": true,
    "slideshow": {
     "slide_type": ""
    },
    "tags": []
   },
   "outputs": [],
   "source": [
    "fig, axes = plt.subplots(4, 8, figsize=(8,4))\n",
    "for i, ax in enumerate(axes.flat):\n",
    "    ax.axis(\"off\")\n",
    "    ax.imshow(output[i].permute(1, 2, 0).cpu().detach().numpy())"
   ]
  },
  {
   "cell_type": "code",
   "execution_count": null,
   "id": "9ee901eb-8b72-4ac1-b095-491642edfcfc",
   "metadata": {
    "editable": true,
    "slideshow": {
     "slide_type": ""
    },
    "tags": []
   },
   "outputs": [],
   "source": [
    "from sklearn.manifold import TSNE"
   ]
  },
  {
   "cell_type": "code",
   "execution_count": null,
   "id": "baf995ff-4685-4499-8d18-a7219146d784",
   "metadata": {
    "editable": true,
    "slideshow": {
     "slide_type": ""
    },
    "tags": []
   },
   "outputs": [],
   "source": [
    "def redux(model, dataloader):\n",
    "    mus = []\n",
    "    sigmas = []\n",
    "    y = []\n",
    "    \n",
    "    with torch.no_grad():\n",
    "        for X_batch, y_batch in dataloader:\n",
    "            X_batch = X_batch.to('cuda')\n",
    "            mu, logsigma = model.encode(X_batch)\n",
    "            mus.append(mu.cpu())\n",
    "            sigmas.append(logsigma.cpu())\n",
    "            y.extend(y_batch)\n",
    "    \n",
    "    features1 = np.vstack(mus)\n",
    "    features2 = np.vstack(sigmas)\n",
    "    features = np.hstack([features1, features2])\n",
    "    y = np.array(y)\n",
    "    \n",
    "    points = TSNE(2,  metric='cosine', n_jobs=-1, random_state=177013).fit_transform(features)\n",
    "    \n",
    "    plt.figure(figsize=(10, 8))\n",
    "    for digit in range(10):\n",
    "        plt.scatter(points[y==digit][:, 0], points[y==digit][:, 1], marker=f'${digit}$', alpha=0.3);"
   ]
  },
  {
   "cell_type": "code",
   "execution_count": null,
   "id": "0a671462-de11-49af-aa6b-2574e072c555",
   "metadata": {
    "editable": true,
    "slideshow": {
     "slide_type": ""
    },
    "tags": []
   },
   "outputs": [],
   "source": [
    "redux(model, test_dl)"
   ]
  },
  {
   "cell_type": "markdown",
   "id": "533b5b76-5a70-4149-ad08-242b0c35fda4",
   "metadata": {
    "editable": true,
    "slideshow": {
     "slide_type": ""
    },
    "tags": []
   },
   "source": [
    "# Домашнее задание"
   ]
  },
  {
   "cell_type": "markdown",
   "id": "ded8e5f1-7669-4430-a136-6b649c1ed53d",
   "metadata": {},
   "source": [
    "## Easy/Normal"
   ]
  },
  {
   "cell_type": "markdown",
   "id": "6f342895-e8de-4804-8c59-4f3b6438c6f0",
   "metadata": {},
   "source": [
    "Построим модель регрессии на базе полносвязной сети. Превратить датафрейм pandas в тензоры можно, например, вот так:"
   ]
  },
  {
   "cell_type": "code",
   "execution_count": null,
   "id": "077cf1b2-54cf-4c62-8e2f-c629417bf07b",
   "metadata": {},
   "outputs": [],
   "source": [
    "df = pd.read_excel('/home/daiyousei/Concrete_Data.xls', sheet_name='Sheet1')"
   ]
  },
  {
   "cell_type": "code",
   "execution_count": null,
   "id": "679fee32-836c-4ff0-a8b5-39ee2a8606b9",
   "metadata": {
    "editable": true,
    "slideshow": {
     "slide_type": ""
    },
    "tags": []
   },
   "outputs": [],
   "source": [
    "df = df.drop_duplicates()"
   ]
  },
  {
   "cell_type": "code",
   "execution_count": null,
   "id": "3e1b3004-6e21-4d43-9cef-77ceac3492dd",
   "metadata": {
    "editable": true,
    "slideshow": {
     "slide_type": ""
    },
    "tags": []
   },
   "outputs": [],
   "source": [
    "df = df.rename(lambda x: x.split('(')[0].strip().replace(' ', '_').lower(), axis=1)"
   ]
  },
  {
   "cell_type": "code",
   "execution_count": null,
   "id": "02227e3d-007e-44b3-9609-017e17f2eff2",
   "metadata": {
    "editable": true,
    "slideshow": {
     "slide_type": ""
    },
    "tags": []
   },
   "outputs": [],
   "source": [
    "X = torch.as_tensor(df.drop(['concrete_compressive_strength'], axis=1).values, dtype=torch.float32)\n",
    "y = torch.as_tensor(df['concrete_compressive_strength'].values.reshape(-1,1), dtype=torch.float32)"
   ]
  },
  {
   "cell_type": "code",
   "execution_count": null,
   "id": "930fb3dd-8625-4c7b-aa3d-5b10bd493004",
   "metadata": {},
   "outputs": [],
   "source": [
    "# То же, что делает StandardScaler():\n",
    "standardized_data = (X - torch.mean(X, dim=0)) / torch.std(X, dim=0)"
   ]
  },
  {
   "cell_type": "code",
   "execution_count": null,
   "id": "1a6d4f9c-17de-4a13-9d7b-74db83ef5f86",
   "metadata": {},
   "outputs": [],
   "source": [
    "ds = TensorDataset(X, y)"
   ]
  },
  {
   "cell_type": "markdown",
   "id": "35b6ce06-3fd6-4eb9-a691-613d304b1d68",
   "metadata": {},
   "source": [
    "Кроме того, вы можете попробовать `torch.utils.data.datapipes.CsvLoader()`."
   ]
  },
  {
   "cell_type": "markdown",
   "id": "bb080ae6-187c-4e67-9320-624977eaceee",
   "metadata": {},
   "source": [
    "Выделите обучающую и тестовую выборки с помощью `torch.utils.data.random_split()`. Создайте даталоадеры для них."
   ]
  },
  {
   "cell_type": "code",
   "execution_count": null,
   "id": "5ba90528-6fcc-451c-aea7-8a5bc520bb09",
   "metadata": {},
   "outputs": [],
   "source": [
    "train_set, test_set = ..."
   ]
  },
  {
   "cell_type": "code",
   "execution_count": null,
   "id": "da864e6f-2aeb-42b6-9366-ed13fc807235",
   "metadata": {},
   "outputs": [],
   "source": [
    "train_dl = ...\n",
    "test_dl = ..."
   ]
  },
  {
   "cell_type": "markdown",
   "id": "1b3b4f44-c2c9-42f6-a677-690a56a78c2d",
   "metadata": {},
   "source": [
    "Допишите полносвязную сеть:"
   ]
  },
  {
   "cell_type": "code",
   "execution_count": null,
   "id": "6ba0f774-6add-49b5-9532-dd3ea6df80dc",
   "metadata": {},
   "outputs": [],
   "source": [
    "class MyModel(nn.Module):\n",
    "    def __init__(self):\n",
    "        super().__init__()\n",
    "        # Ваш код ниже:\n",
    "        \n",
    "\n",
    "    def forward(self, xb):\n",
    "        # Ваш код ниже:\n",
    "        "
   ]
  },
  {
   "cell_type": "markdown",
   "id": "cdfb73f6-4a23-4623-8613-9fc3da2bc530",
   "metadata": {},
   "source": [
    "Инициализируем модель. Для регрессии мы будем использовать MSE или MAE(`L1Loss()`)."
   ]
  },
  {
   "cell_type": "code",
   "execution_count": null,
   "id": "8398c900-5942-409b-9ccb-2e32cd308649",
   "metadata": {},
   "outputs": [],
   "source": [
    "model = MyModel()\n",
    "optimizer = Adam(model.parameters(), lr=0.1)\n",
    "loss_func = nn.MSELoss()"
   ]
  },
  {
   "cell_type": "markdown",
   "id": "fa536d53-4f8f-4bb9-bbbd-17d458a48dfe",
   "metadata": {},
   "source": [
    "Допишите цикл обучения:"
   ]
  },
  {
   "cell_type": "code",
   "execution_count": null,
   "id": "bcb6e64a-5560-46a2-aab0-c84f343fc934",
   "metadata": {},
   "outputs": [],
   "source": [
    "def train(model, optimizer, loss_func, num_epochs=10):\n",
    "    for epoch in tqdm(range(num_epochs)):\n",
    "        for xb, yb in train_dl:\n",
    "            ..."
   ]
  },
  {
   "cell_type": "markdown",
   "id": "f06dfdf0-8309-414b-8fd0-bcac3b69d3ca",
   "metadata": {},
   "source": [
    "Вы можете воспользоваться этой функцией для тестирования или модифицировать ее. Попытайтесь подобрать структуру сети и гиперпараметры, чтобы улучшить метрику. Чем больше значимых экспериментов, тем выше будет оценено ваше задание.\n",
    "\n",
    "Если метрика получилась хуже, чем у модели из sklearn, не расстраивайтесь: не везде сложные инструменты дают лучший результат!"
   ]
  },
  {
   "cell_type": "code",
   "execution_count": null,
   "id": "d28efd0f-7eac-435d-b57d-e7043b72812f",
   "metadata": {},
   "outputs": [],
   "source": [
    "def test(model):\n",
    "    losses = []\n",
    "    with torch.no_grad():\n",
    "        for xb, yb in test_dl:\n",
    "            with torch.no_grad():\n",
    "                pred = model(xb)\n",
    "                mse = loss_func(pred, yb)\n",
    "                losses.append(mse.mean())\n",
    "    print(f'MSE на валидации: {torch.mean(torch.as_tensor(losses)):.2f}')"
   ]
  },
  {
   "cell_type": "code",
   "execution_count": null,
   "id": "b74a2910-0724-462a-9aff-301cf9b27179",
   "metadata": {},
   "outputs": [],
   "source": [
    "train(model, optimizer, loss_func)"
   ]
  },
  {
   "cell_type": "code",
   "execution_count": null,
   "id": "38b13219-1154-4549-b40a-ca519493e1e4",
   "metadata": {},
   "outputs": [],
   "source": [
    "test(model)"
   ]
  },
  {
   "cell_type": "markdown",
   "id": "24583b4b-1123-492a-a9f4-d25d71e213a8",
   "metadata": {},
   "source": [
    "## Hard"
   ]
  },
  {
   "cell_type": "markdown",
   "id": "7f0936b7-c83c-4348-b8bd-1f536be64d4c",
   "metadata": {
    "editable": true,
    "slideshow": {
     "slide_type": ""
    },
    "tags": []
   },
   "source": [
    "Попробуйте реализовать Conditional VAE для MNIST: подавать нейросети на вход не только вектор, но и желаемый класс. То есть из одного вектора модель должна уметь восстановить любую цифру, которую ей укажут.\n",
    "\n",
    "Если вам трудно правильно склеить данные, вы можете попробовать построить все на линейных слоях."
   ]
  },
  {
   "cell_type": "code",
   "execution_count": null,
   "id": "c505b476-5ae7-4578-a1f6-c71bc8f77cca",
   "metadata": {},
   "outputs": [],
   "source": [
    "# Ваш код:\n"
   ]
  },
  {
   "cell_type": "markdown",
   "id": "5f0334c2-854d-4a8a-b9ea-b3ffc1ac9c2b",
   "metadata": {
    "editable": true,
    "slideshow": {
     "slide_type": ""
    },
    "tags": []
   },
   "source": [
    "Обучите модель, проверьте генерацию.\n",
    "\n",
    "Исследуйте латентное пространство с помощью понижения размерности. Укажите различия с обычным VAE."
   ]
  }
 ],
 "metadata": {
  "kernelspec": {
   "display_name": "Python 3 (ipykernel)",
   "language": "python",
   "name": "python3"
  },
  "language_info": {
   "codemirror_mode": {
    "name": "ipython",
    "version": 3
   },
   "file_extension": ".py",
   "mimetype": "text/x-python",
   "name": "python",
   "nbconvert_exporter": "python",
   "pygments_lexer": "ipython3",
   "version": "3.11.3"
  },
  "widgets": {
   "application/vnd.jupyter.widget-state+json": {
    "state": {
     "006e7d60c24b4e1ca995af0ab2dec07e": {
      "model_module": "@jupyter-widgets/controls",
      "model_module_version": "2.0.0",
      "model_name": "ProgressStyleModel",
      "state": {
       "description_width": ""
      }
     },
     "008bcc5ec36746de91c78fda92be6bef": {
      "model_module": "@jupyter-widgets/controls",
      "model_module_version": "2.0.0",
      "model_name": "HTMLStyleModel",
      "state": {
       "description_width": "",
       "font_size": null,
       "text_color": null
      }
     },
     "009128977f494826a86114759dfdd84d": {
      "model_module": "@jupyter-widgets/base",
      "model_module_version": "2.0.0",
      "model_name": "LayoutModel",
      "state": {}
     },
     "00ca4e59a6aa464393ebd5cc0c57150d": {
      "model_module": "@jupyter-widgets/base",
      "model_module_version": "2.0.0",
      "model_name": "LayoutModel",
      "state": {}
     },
     "02fd94773aaa41f38281a2adb2d5bf78": {
      "model_module": "@jupyter-widgets/base",
      "model_module_version": "2.0.0",
      "model_name": "LayoutModel",
      "state": {}
     },
     "0357751894384aa7822940d767c9909d": {
      "model_module": "@jupyter-widgets/base",
      "model_module_version": "2.0.0",
      "model_name": "LayoutModel",
      "state": {}
     },
     "03ba40d5472d4bc3a2adf8d01e8d195f": {
      "model_module": "@jupyter-widgets/controls",
      "model_module_version": "2.0.0",
      "model_name": "ProgressStyleModel",
      "state": {
       "description_width": ""
      }
     },
     "03cc196e4159408ab051384eed8d7fbc": {
      "model_module": "@jupyter-widgets/controls",
      "model_module_version": "2.0.0",
      "model_name": "HTMLModel",
      "state": {
       "layout": "IPY_MODEL_ada51f10ad384eecb8c7e3aaf9713c82",
       "style": "IPY_MODEL_4a8bc77442554493aba7669659a2b487",
       "value": " 0/10 [00:00&lt;?, ?it/s]"
      }
     },
     "060bb4965e094ce5aa382b2a9a9bd826": {
      "model_module": "@jupyter-widgets/base",
      "model_module_version": "2.0.0",
      "model_name": "LayoutModel",
      "state": {}
     },
     "068fe05120354f0ca1b0be24163e269c": {
      "model_module": "@jupyter-widgets/controls",
      "model_module_version": "2.0.0",
      "model_name": "ProgressStyleModel",
      "state": {
       "description_width": ""
      }
     },
     "07dc63eadbd3487ba3d7c03ca66b629d": {
      "model_module": "@jupyter-widgets/controls",
      "model_module_version": "2.0.0",
      "model_name": "FloatProgressModel",
      "state": {
       "bar_style": "success",
       "layout": "IPY_MODEL_e094ad1cad604ce8bbed9759b77fd306",
       "max": 10,
       "style": "IPY_MODEL_4774a716af9740f097c67abaf1f52678",
       "value": 10
      }
     },
     "0953b14cb964454990e9fef683d8730f": {
      "model_module": "@jupyter-widgets/base",
      "model_module_version": "2.0.0",
      "model_name": "LayoutModel",
      "state": {}
     },
     "095779646525413587686eccfbad05ac": {
      "model_module": "@jupyter-widgets/controls",
      "model_module_version": "2.0.0",
      "model_name": "ProgressStyleModel",
      "state": {
       "description_width": ""
      }
     },
     "09d83b0d52ac403ab6bf594f2946532c": {
      "model_module": "@jupyter-widgets/base",
      "model_module_version": "2.0.0",
      "model_name": "LayoutModel",
      "state": {}
     },
     "0aba5eec535b4891bea5c4bf5a68a3cf": {
      "model_module": "@jupyter-widgets/base",
      "model_module_version": "2.0.0",
      "model_name": "LayoutModel",
      "state": {}
     },
     "0ac96a0d2eab437a8ea671838d890fdf": {
      "model_module": "@jupyter-widgets/controls",
      "model_module_version": "2.0.0",
      "model_name": "ProgressStyleModel",
      "state": {
       "description_width": ""
      }
     },
     "0b4a970a4f294b6c9b23f8210ad15cd1": {
      "model_module": "@jupyter-widgets/controls",
      "model_module_version": "2.0.0",
      "model_name": "HBoxModel",
      "state": {
       "children": [
        "IPY_MODEL_2d72b763b9d646e1b2b4bbb5d8c66ef8",
        "IPY_MODEL_d3815b7d69ee4f268a5a09f36e7c9f09",
        "IPY_MODEL_fb8f7bc40d884ea7ae26872b846263af"
       ],
       "layout": "IPY_MODEL_1c4f4681db3642deb4d69032f5073b6b"
      }
     },
     "0c2401385c61490881e04766dafb683c": {
      "model_module": "@jupyter-widgets/controls",
      "model_module_version": "2.0.0",
      "model_name": "FloatProgressModel",
      "state": {
       "bar_style": "danger",
       "layout": "IPY_MODEL_d6d9533fe57a4a52ab7750613331a319",
       "max": 10,
       "style": "IPY_MODEL_d6d7fa3fac214b0ea1ff0c3fccae8893"
      }
     },
     "0c99263693fe458e8cda8e3aab361f3c": {
      "model_module": "@jupyter-widgets/controls",
      "model_module_version": "2.0.0",
      "model_name": "FloatProgressModel",
      "state": {
       "bar_style": "danger",
       "layout": "IPY_MODEL_0fc8b63c48ef4dc2816d4b697d9045b6",
       "max": 10,
       "style": "IPY_MODEL_03ba40d5472d4bc3a2adf8d01e8d195f"
      }
     },
     "0d538b4f6dcc42f89ed0e588931e22db": {
      "model_module": "@jupyter-widgets/controls",
      "model_module_version": "2.0.0",
      "model_name": "ProgressStyleModel",
      "state": {
       "description_width": ""
      }
     },
     "0d5e1b4e82c746918bf8516cdebc7590": {
      "model_module": "@jupyter-widgets/controls",
      "model_module_version": "2.0.0",
      "model_name": "HBoxModel",
      "state": {
       "children": [
        "IPY_MODEL_48fd65b019f4477a8395c0c937969b9d",
        "IPY_MODEL_a57c0af79e70430f81b961675bdad810",
        "IPY_MODEL_648a29fcfb074613bc8c8da7dfb9024f"
       ],
       "layout": "IPY_MODEL_cbf5c9244e124aeeb4b2dc5a4fb377f7"
      }
     },
     "0de37e6e1ad444d2a4678cc42be37891": {
      "model_module": "@jupyter-widgets/controls",
      "model_module_version": "2.0.0",
      "model_name": "ProgressStyleModel",
      "state": {
       "description_width": ""
      }
     },
     "0f6b39410d024655b8a489fb0bf58354": {
      "model_module": "@jupyter-widgets/base",
      "model_module_version": "2.0.0",
      "model_name": "LayoutModel",
      "state": {}
     },
     "0fc8b63c48ef4dc2816d4b697d9045b6": {
      "model_module": "@jupyter-widgets/base",
      "model_module_version": "2.0.0",
      "model_name": "LayoutModel",
      "state": {}
     },
     "1158e4e7749e43d89fe40117a100271d": {
      "model_module": "@jupyter-widgets/controls",
      "model_module_version": "2.0.0",
      "model_name": "HTMLModel",
      "state": {
       "layout": "IPY_MODEL_575bdefb96e04f958e27c00181e6bd50",
       "style": "IPY_MODEL_bd907275629d430c9fbbde1bc6549b6d",
       "value": "  0%"
      }
     },
     "131bbee2bf1d45dea6da04b015087078": {
      "model_module": "@jupyter-widgets/controls",
      "model_module_version": "2.0.0",
      "model_name": "HBoxModel",
      "state": {
       "children": [
        "IPY_MODEL_2dc298a6fa094557bb298f0561f05e45",
        "IPY_MODEL_16201ab1ab1048418dc1cefba3b86628",
        "IPY_MODEL_d29af0ac3606456e90228bb31d2934ee"
       ],
       "layout": "IPY_MODEL_ef7d1c0960b24757a135418aa0326c0b"
      }
     },
     "13adb002f0694ef4b891f20cb22fca90": {
      "model_module": "@jupyter-widgets/controls",
      "model_module_version": "2.0.0",
      "model_name": "HTMLModel",
      "state": {
       "layout": "IPY_MODEL_1a01abdfa0e444aa930e4385959aa2be",
       "style": "IPY_MODEL_a7041154c29c4827b47ffe62f54e6e02",
       "value": "100%"
      }
     },
     "16201ab1ab1048418dc1cefba3b86628": {
      "model_module": "@jupyter-widgets/controls",
      "model_module_version": "2.0.0",
      "model_name": "FloatProgressModel",
      "state": {
       "bar_style": "success",
       "layout": "IPY_MODEL_ecb2c08d5987415a8c374a2cb6022575",
       "max": 10,
       "style": "IPY_MODEL_1d511906199a4056b01bbac2bb5cd0d3",
       "value": 10
      }
     },
     "18a4e004fc444d64b3a5c2c56e5131bb": {
      "model_module": "@jupyter-widgets/controls",
      "model_module_version": "2.0.0",
      "model_name": "HTMLModel",
      "state": {
       "layout": "IPY_MODEL_c9ea3153f30f441f8cb231481eaf6681",
       "style": "IPY_MODEL_5d917105665e4831b09c9fd7b77b32c0",
       "value": "100%"
      }
     },
     "18c7e5565cd541f987ff4431f5f3eca7": {
      "model_module": "@jupyter-widgets/controls",
      "model_module_version": "2.0.0",
      "model_name": "HBoxModel",
      "state": {
       "children": [
        "IPY_MODEL_7fa987ce945f41bd8fc1fa5b284abf96",
        "IPY_MODEL_47db4ac756b846efb0976933f265d3bf",
        "IPY_MODEL_72a3c6c5ccb742cc9d034de3d220a9d7"
       ],
       "layout": "IPY_MODEL_2a8085bed9014bc6ae90af64f8198080"
      }
     },
     "18fd43a9f19d4da6905be119fb5fe04e": {
      "model_module": "@jupyter-widgets/controls",
      "model_module_version": "2.0.0",
      "model_name": "HTMLModel",
      "state": {
       "layout": "IPY_MODEL_75642459d02840858ddc7be87dd8b69d",
       "style": "IPY_MODEL_787408d66acf4f748cc54419edba61c9",
       "value": "  0%"
      }
     },
     "1926358dfb5648d6a489a6c8da9ddaff": {
      "model_module": "@jupyter-widgets/base",
      "model_module_version": "2.0.0",
      "model_name": "LayoutModel",
      "state": {}
     },
     "195254f6c1bf4a3fbed51ce1ef23690b": {
      "model_module": "@jupyter-widgets/base",
      "model_module_version": "2.0.0",
      "model_name": "LayoutModel",
      "state": {}
     },
     "196a4f0787594c758d9dd933fe866e8e": {
      "model_module": "@jupyter-widgets/controls",
      "model_module_version": "2.0.0",
      "model_name": "ProgressStyleModel",
      "state": {
       "description_width": ""
      }
     },
     "1a01abdfa0e444aa930e4385959aa2be": {
      "model_module": "@jupyter-widgets/base",
      "model_module_version": "2.0.0",
      "model_name": "LayoutModel",
      "state": {}
     },
     "1a3834926aa448afb1c9577ab28e6ae5": {
      "model_module": "@jupyter-widgets/base",
      "model_module_version": "2.0.0",
      "model_name": "LayoutModel",
      "state": {}
     },
     "1b63c3046c884063b099ab3cb2a29ba6": {
      "model_module": "@jupyter-widgets/controls",
      "model_module_version": "2.0.0",
      "model_name": "HTMLStyleModel",
      "state": {
       "description_width": "",
       "font_size": null,
       "text_color": null
      }
     },
     "1b8e38d88dd44373b3acd221b60ddcdc": {
      "model_module": "@jupyter-widgets/base",
      "model_module_version": "2.0.0",
      "model_name": "LayoutModel",
      "state": {}
     },
     "1c4f4681db3642deb4d69032f5073b6b": {
      "model_module": "@jupyter-widgets/base",
      "model_module_version": "2.0.0",
      "model_name": "LayoutModel",
      "state": {}
     },
     "1ce38377a1f1413a950768764856e554": {
      "model_module": "@jupyter-widgets/controls",
      "model_module_version": "2.0.0",
      "model_name": "HTMLModel",
      "state": {
       "layout": "IPY_MODEL_c323c117682f4e61ae901358850d35f9",
       "style": "IPY_MODEL_b2b2b2a9464346dba6ed4ff20bbd5a64",
       "value": " 10/10 [00:25&lt;00:00,  2.53s/it]"
      }
     },
     "1d50e8dc30a74df98453cc58f840c31f": {
      "model_module": "@jupyter-widgets/controls",
      "model_module_version": "2.0.0",
      "model_name": "HTMLStyleModel",
      "state": {
       "description_width": "",
       "font_size": null,
       "text_color": null
      }
     },
     "1d511906199a4056b01bbac2bb5cd0d3": {
      "model_module": "@jupyter-widgets/controls",
      "model_module_version": "2.0.0",
      "model_name": "ProgressStyleModel",
      "state": {
       "description_width": ""
      }
     },
     "1e6c1b66e5f946daaf57259b607b360a": {
      "model_module": "@jupyter-widgets/controls",
      "model_module_version": "2.0.0",
      "model_name": "FloatProgressModel",
      "state": {
       "bar_style": "danger",
       "layout": "IPY_MODEL_89ffa328a9734d5faae98138ffefd300",
       "max": 10,
       "style": "IPY_MODEL_ac0d68c50e25470693ca2e7f7e77a578"
      }
     },
     "1e6dfd2b88864985b73c6e4ba23d2e61": {
      "model_module": "@jupyter-widgets/base",
      "model_module_version": "2.0.0",
      "model_name": "LayoutModel",
      "state": {}
     },
     "1eacf605b10c43fa8f686e6089e8545e": {
      "model_module": "@jupyter-widgets/controls",
      "model_module_version": "2.0.0",
      "model_name": "ProgressStyleModel",
      "state": {
       "description_width": ""
      }
     },
     "1f46110fc33f45b284cee6eb0705d880": {
      "model_module": "@jupyter-widgets/base",
      "model_module_version": "2.0.0",
      "model_name": "LayoutModel",
      "state": {}
     },
     "1f523c0512934037abbc0346e2ec676d": {
      "model_module": "@jupyter-widgets/base",
      "model_module_version": "2.0.0",
      "model_name": "LayoutModel",
      "state": {}
     },
     "20c04cad17c94bd38bdf10cc731f5c6a": {
      "model_module": "@jupyter-widgets/controls",
      "model_module_version": "2.0.0",
      "model_name": "HTMLStyleModel",
      "state": {
       "description_width": "",
       "font_size": null,
       "text_color": null
      }
     },
     "21f7d7b588f04a908b29f1727f111382": {
      "model_module": "@jupyter-widgets/controls",
      "model_module_version": "2.0.0",
      "model_name": "HBoxModel",
      "state": {
       "children": [
        "IPY_MODEL_ff31a5fd6d0048e1bb5667cfa65ecaaa",
        "IPY_MODEL_e34bf2f45d5d40c597ad0876b2e9f813",
        "IPY_MODEL_e1c1dcec541d4fe0b814e85d53bb3f85"
       ],
       "layout": "IPY_MODEL_b695a3b869d2450cbf5b577fa928dac8"
      }
     },
     "232477a802714b5a8bfebda154ac975a": {
      "model_module": "@jupyter-widgets/controls",
      "model_module_version": "2.0.0",
      "model_name": "HTMLModel",
      "state": {
       "layout": "IPY_MODEL_c6455aac766c40c7b8827d490605aa2a",
       "style": "IPY_MODEL_ec778b5aedf546e4beacf731bbe881b4",
       "value": "  0%"
      }
     },
     "2349002b1aff47f3aebbd9b778a80365": {
      "model_module": "@jupyter-widgets/controls",
      "model_module_version": "2.0.0",
      "model_name": "FloatProgressModel",
      "state": {
       "bar_style": "danger",
       "layout": "IPY_MODEL_efcd7a7a3345426ab4a49092c67d1b40",
       "max": 10,
       "style": "IPY_MODEL_254bda9a21af475cb3ef9c274df4ec98"
      }
     },
     "2384ee31f0b34542ad9d12f8b839a129": {
      "model_module": "@jupyter-widgets/controls",
      "model_module_version": "2.0.0",
      "model_name": "FloatProgressModel",
      "state": {
       "bar_style": "success",
       "layout": "IPY_MODEL_796b9727185d43869442689b8af3fb77",
       "max": 10,
       "style": "IPY_MODEL_7828fe66e6e64db4b0a4eafca8df2f46",
       "value": 10
      }
     },
     "24d465f4370e44f9af3bcba38d9459ca": {
      "model_module": "@jupyter-widgets/controls",
      "model_module_version": "2.0.0",
      "model_name": "FloatProgressModel",
      "state": {
       "bar_style": "success",
       "layout": "IPY_MODEL_e67906988e8d4dcd8f2885d51ab65315",
       "max": 10,
       "style": "IPY_MODEL_e144819533474d28a23c1f0455e5f4ac",
       "value": 10
      }
     },
     "25281336635c4bed8a909115b0e188ba": {
      "model_module": "@jupyter-widgets/controls",
      "model_module_version": "2.0.0",
      "model_name": "FloatProgressModel",
      "state": {
       "bar_style": "success",
       "layout": "IPY_MODEL_7570adf9ea664642a6030e2da5b8f435",
       "max": 10,
       "style": "IPY_MODEL_f1a34c70625f4daa9655e87f78b4fb83",
       "value": 10
      }
     },
     "252b24faabe04847b41029859cf1d106": {
      "model_module": "@jupyter-widgets/controls",
      "model_module_version": "2.0.0",
      "model_name": "HTMLStyleModel",
      "state": {
       "description_width": "",
       "font_size": null,
       "text_color": null
      }
     },
     "254bda9a21af475cb3ef9c274df4ec98": {
      "model_module": "@jupyter-widgets/controls",
      "model_module_version": "2.0.0",
      "model_name": "ProgressStyleModel",
      "state": {
       "description_width": ""
      }
     },
     "2567e349f72c4ebcaf393173c2dc7c85": {
      "model_module": "@jupyter-widgets/base",
      "model_module_version": "2.0.0",
      "model_name": "LayoutModel",
      "state": {}
     },
     "2724de7a43d54c9c8b450910589568ce": {
      "model_module": "@jupyter-widgets/base",
      "model_module_version": "2.0.0",
      "model_name": "LayoutModel",
      "state": {}
     },
     "2754ff457cbf4de293d4f6f2e24dedb6": {
      "model_module": "@jupyter-widgets/controls",
      "model_module_version": "2.0.0",
      "model_name": "ProgressStyleModel",
      "state": {
       "description_width": ""
      }
     },
     "27a586cbbcad4ba3b8b7529f0b51e3a7": {
      "model_module": "@jupyter-widgets/base",
      "model_module_version": "2.0.0",
      "model_name": "LayoutModel",
      "state": {}
     },
     "28053e5bbf4f48ff8b2e75b567f01cb6": {
      "model_module": "@jupyter-widgets/controls",
      "model_module_version": "2.0.0",
      "model_name": "HTMLStyleModel",
      "state": {
       "description_width": "",
       "font_size": null,
       "text_color": null
      }
     },
     "2818e18d9ce34827bf0ec804da3a5787": {
      "model_module": "@jupyter-widgets/base",
      "model_module_version": "2.0.0",
      "model_name": "LayoutModel",
      "state": {}
     },
     "297886408fb746c18fae117614c09e59": {
      "model_module": "@jupyter-widgets/controls",
      "model_module_version": "2.0.0",
      "model_name": "ProgressStyleModel",
      "state": {
       "description_width": ""
      }
     },
     "2a30d071a9f1494295d133d5c96cf9fc": {
      "model_module": "@jupyter-widgets/controls",
      "model_module_version": "2.0.0",
      "model_name": "HTMLStyleModel",
      "state": {
       "description_width": "",
       "font_size": null,
       "text_color": null
      }
     },
     "2a8085bed9014bc6ae90af64f8198080": {
      "model_module": "@jupyter-widgets/base",
      "model_module_version": "2.0.0",
      "model_name": "LayoutModel",
      "state": {}
     },
     "2acc7c8970b84929b06220b52f28c65c": {
      "model_module": "@jupyter-widgets/controls",
      "model_module_version": "2.0.0",
      "model_name": "FloatProgressModel",
      "state": {
       "bar_style": "success",
       "layout": "IPY_MODEL_f6b5589dd3c74aebad218b4b63ac3052",
       "max": 10,
       "style": "IPY_MODEL_eee65de892864fb0adf906e75b0f5f36",
       "value": 10
      }
     },
     "2ad2e85268e94fe49570fa3648102242": {
      "model_module": "@jupyter-widgets/controls",
      "model_module_version": "2.0.0",
      "model_name": "HTMLStyleModel",
      "state": {
       "description_width": "",
       "font_size": null,
       "text_color": null
      }
     },
     "2ad7bf04844441d8b31e30c0c41fb314": {
      "model_module": "@jupyter-widgets/controls",
      "model_module_version": "2.0.0",
      "model_name": "HBoxModel",
      "state": {
       "children": [
        "IPY_MODEL_18a4e004fc444d64b3a5c2c56e5131bb",
        "IPY_MODEL_eb0293c830804168a41487d9cb0b6576",
        "IPY_MODEL_ba27e5ac5e06434d8d9a17bb952a8a33"
       ],
       "layout": "IPY_MODEL_fd7cb1a0bd524327ba0e221cfd4c049a"
      }
     },
     "2b5ef7184ae14ff597d6ff4a807b7501": {
      "model_module": "@jupyter-widgets/controls",
      "model_module_version": "2.0.0",
      "model_name": "HTMLStyleModel",
      "state": {
       "description_width": "",
       "font_size": null,
       "text_color": null
      }
     },
     "2bb6e3c4d94e4d68a533049de847d7f2": {
      "model_module": "@jupyter-widgets/controls",
      "model_module_version": "2.0.0",
      "model_name": "HTMLStyleModel",
      "state": {
       "description_width": "",
       "font_size": null,
       "text_color": null
      }
     },
     "2c09712038fc474abc9ea19f6933c2a7": {
      "model_module": "@jupyter-widgets/base",
      "model_module_version": "2.0.0",
      "model_name": "LayoutModel",
      "state": {}
     },
     "2d5ddc38cd5d4867b3cd9f56931f7886": {
      "model_module": "@jupyter-widgets/controls",
      "model_module_version": "2.0.0",
      "model_name": "HTMLModel",
      "state": {
       "layout": "IPY_MODEL_956c3ce087bb45f4ac195a9b193ba561",
       "style": "IPY_MODEL_7678685dbf6344da9a98bec907b7f115",
       "value": "100%"
      }
     },
     "2d72b763b9d646e1b2b4bbb5d8c66ef8": {
      "model_module": "@jupyter-widgets/controls",
      "model_module_version": "2.0.0",
      "model_name": "HTMLModel",
      "state": {
       "layout": "IPY_MODEL_76af491d2e544f6585a4d8c00ed78659",
       "style": "IPY_MODEL_28053e5bbf4f48ff8b2e75b567f01cb6",
       "value": "  0%"
      }
     },
     "2db452575b3f432baed192ba9561a31e": {
      "model_module": "@jupyter-widgets/controls",
      "model_module_version": "2.0.0",
      "model_name": "ProgressStyleModel",
      "state": {
       "description_width": ""
      }
     },
     "2dc298a6fa094557bb298f0561f05e45": {
      "model_module": "@jupyter-widgets/controls",
      "model_module_version": "2.0.0",
      "model_name": "HTMLModel",
      "state": {
       "layout": "IPY_MODEL_9a0439fbf566480fb53dcb5dc4be65bf",
       "style": "IPY_MODEL_6f156fd620674a64a15d92a676edf11e",
       "value": "100%"
      }
     },
     "2e049f0caecc462381185ab787508a96": {
      "model_module": "@jupyter-widgets/controls",
      "model_module_version": "2.0.0",
      "model_name": "HTMLModel",
      "state": {
       "layout": "IPY_MODEL_fd2df2bf9d8847eb99e6ce8dc542313b",
       "style": "IPY_MODEL_1d50e8dc30a74df98453cc58f840c31f",
       "value": " 0/10 [00:00&lt;?, ?it/s]"
      }
     },
     "2e83bb1195d24f92b4c286642078975a": {
      "model_module": "@jupyter-widgets/controls",
      "model_module_version": "2.0.0",
      "model_name": "HTMLModel",
      "state": {
       "layout": "IPY_MODEL_4bf6178385f94709bdd08b377fadf34a",
       "style": "IPY_MODEL_998dcc888e2d4b61b839c1b539950812",
       "value": " 10/10 [00:25&lt;00:00,  2.55s/it]"
      }
     },
     "2eaf2663ceab4f64afebc5710037d7e1": {
      "model_module": "@jupyter-widgets/controls",
      "model_module_version": "2.0.0",
      "model_name": "HTMLStyleModel",
      "state": {
       "description_width": "",
       "font_size": null,
       "text_color": null
      }
     },
     "2efb5b6028964b098e4ba9b956c18d22": {
      "model_module": "@jupyter-widgets/base",
      "model_module_version": "2.0.0",
      "model_name": "LayoutModel",
      "state": {}
     },
     "31c4e1d7ad954c40895e33f802d5d285": {
      "model_module": "@jupyter-widgets/controls",
      "model_module_version": "2.0.0",
      "model_name": "ProgressStyleModel",
      "state": {
       "description_width": ""
      }
     },
     "32836fa01ad94190a49aeb164ce5b40c": {
      "model_module": "@jupyter-widgets/base",
      "model_module_version": "2.0.0",
      "model_name": "LayoutModel",
      "state": {}
     },
     "33c57b038e7042c6885c19a8927869fd": {
      "model_module": "@jupyter-widgets/controls",
      "model_module_version": "2.0.0",
      "model_name": "HTMLStyleModel",
      "state": {
       "description_width": "",
       "font_size": null,
       "text_color": null
      }
     },
     "33d4a97127d34d9fa3c0fa9e6b928786": {
      "model_module": "@jupyter-widgets/controls",
      "model_module_version": "2.0.0",
      "model_name": "HTMLStyleModel",
      "state": {
       "description_width": "",
       "font_size": null,
       "text_color": null
      }
     },
     "343c31f4e7fd4ed59dbafca94c07ee75": {
      "model_module": "@jupyter-widgets/controls",
      "model_module_version": "2.0.0",
      "model_name": "HTMLModel",
      "state": {
       "layout": "IPY_MODEL_a43ddeb8fc8a42ac971b5f60c1963119",
       "style": "IPY_MODEL_d3d9ce22b61f42ceabc8ffc242a683f4",
       "value": " 0/10 [00:00&lt;?, ?it/s]"
      }
     },
     "350700ee0a424535b13bec387552ea13": {
      "model_module": "@jupyter-widgets/base",
      "model_module_version": "2.0.0",
      "model_name": "LayoutModel",
      "state": {}
     },
     "361247e9d1714c8795838e0841b351cb": {
      "model_module": "@jupyter-widgets/controls",
      "model_module_version": "2.0.0",
      "model_name": "HTMLStyleModel",
      "state": {
       "description_width": "",
       "font_size": null,
       "text_color": null
      }
     },
     "366986839c54411a84781608386f9d3c": {
      "model_module": "@jupyter-widgets/controls",
      "model_module_version": "2.0.0",
      "model_name": "HTMLModel",
      "state": {
       "layout": "IPY_MODEL_c7e4efe2b99e49ed96e9a5b32ebfa2f6",
       "style": "IPY_MODEL_acb6d18ebe994466984e84fbf49639a4",
       "value": " 10/10 [00:29&lt;00:00,  2.92s/it]"
      }
     },
     "36b20b1806c14c83a6c49ecd637debcc": {
      "model_module": "@jupyter-widgets/controls",
      "model_module_version": "2.0.0",
      "model_name": "HBoxModel",
      "state": {
       "children": [
        "IPY_MODEL_561e95d4b31b46b8b474eb5057ad6601",
        "IPY_MODEL_24d465f4370e44f9af3bcba38d9459ca",
        "IPY_MODEL_567fb00305404737b1d5ecd9ec7a4a2c"
       ],
       "layout": "IPY_MODEL_85eac885af014c8c931180fb8665ad12"
      }
     },
     "374e89d789094e07be8285eee0a2199b": {
      "model_module": "@jupyter-widgets/controls",
      "model_module_version": "2.0.0",
      "model_name": "ProgressStyleModel",
      "state": {
       "description_width": ""
      }
     },
     "37599d5289704d4aa9e245f91d8c5268": {
      "model_module": "@jupyter-widgets/base",
      "model_module_version": "2.0.0",
      "model_name": "LayoutModel",
      "state": {}
     },
     "3767752a8b1d4c0aaae9ff5e78780bb3": {
      "model_module": "@jupyter-widgets/controls",
      "model_module_version": "2.0.0",
      "model_name": "FloatProgressModel",
      "state": {
       "bar_style": "success",
       "layout": "IPY_MODEL_499f1c3b95df4600b4fb81087eddd58b",
       "max": 10,
       "style": "IPY_MODEL_374e89d789094e07be8285eee0a2199b",
       "value": 10
      }
     },
     "37aaf22039eb438a9b24ed4b57704276": {
      "model_module": "@jupyter-widgets/controls",
      "model_module_version": "2.0.0",
      "model_name": "HTMLModel",
      "state": {
       "layout": "IPY_MODEL_b098161923d6491d84e9728294a05557",
       "style": "IPY_MODEL_6a805a01b73441b089dec850d7a62c38",
       "value": "100%"
      }
     },
     "37ba85475ba54dc1970054b352e2cef8": {
      "model_module": "@jupyter-widgets/base",
      "model_module_version": "2.0.0",
      "model_name": "LayoutModel",
      "state": {}
     },
     "38b5e39568654ebe937ef799328790f6": {
      "model_module": "@jupyter-widgets/base",
      "model_module_version": "2.0.0",
      "model_name": "LayoutModel",
      "state": {}
     },
     "38fad6eb6b4842788ea5348e07266259": {
      "model_module": "@jupyter-widgets/controls",
      "model_module_version": "2.0.0",
      "model_name": "HTMLStyleModel",
      "state": {
       "description_width": "",
       "font_size": null,
       "text_color": null
      }
     },
     "3a1d575ea3fe4f22a218466d609e2667": {
      "model_module": "@jupyter-widgets/controls",
      "model_module_version": "2.0.0",
      "model_name": "HTMLModel",
      "state": {
       "layout": "IPY_MODEL_c16c9f11769040e8a85be9f18b5916e9",
       "style": "IPY_MODEL_63e42b371dad4319bc302c887a625a10",
       "value": "  0%"
      }
     },
     "3a27097f153d42c9ab8c0965a2237bc2": {
      "model_module": "@jupyter-widgets/controls",
      "model_module_version": "2.0.0",
      "model_name": "FloatProgressModel",
      "state": {
       "bar_style": "danger",
       "layout": "IPY_MODEL_0953b14cb964454990e9fef683d8730f",
       "max": 10,
       "style": "IPY_MODEL_2754ff457cbf4de293d4f6f2e24dedb6"
      }
     },
     "3a5a9db7276148a2a84f2dd772037322": {
      "model_module": "@jupyter-widgets/controls",
      "model_module_version": "2.0.0",
      "model_name": "HBoxModel",
      "state": {
       "children": [
        "IPY_MODEL_8b29967ae5044670abc474f245317d2e",
        "IPY_MODEL_e3906bbd152b437f8624c217ceb67e6a",
        "IPY_MODEL_f9b9ea4d95e94e19806e2f6f63365450"
       ],
       "layout": "IPY_MODEL_b8e5a040295f494ab29aefdef4accd09"
      }
     },
     "3b764609d99e416bb2d4962bc69dff73": {
      "model_module": "@jupyter-widgets/controls",
      "model_module_version": "2.0.0",
      "model_name": "FloatProgressModel",
      "state": {
       "bar_style": "danger",
       "layout": "IPY_MODEL_87a0ce70f31f4ecc94e79a9957a05489",
       "max": 10,
       "style": "IPY_MODEL_0de37e6e1ad444d2a4678cc42be37891"
      }
     },
     "3c9435733f504ea38379ccda1a935c54": {
      "model_module": "@jupyter-widgets/controls",
      "model_module_version": "2.0.0",
      "model_name": "HTMLModel",
      "state": {
       "layout": "IPY_MODEL_a662dbce80f745e8a11cc8f475e91eaf",
       "style": "IPY_MODEL_2a30d071a9f1494295d133d5c96cf9fc",
       "value": " 0/10 [00:00&lt;?, ?it/s]"
      }
     },
     "3e04ac83ab3d4250a2f287f827229a07": {
      "model_module": "@jupyter-widgets/controls",
      "model_module_version": "2.0.0",
      "model_name": "HTMLModel",
      "state": {
       "layout": "IPY_MODEL_92d2c9b002294fd9a216c5d5c37e8a68",
       "style": "IPY_MODEL_2eaf2663ceab4f64afebc5710037d7e1",
       "value": " 10/10 [00:25&lt;00:00,  2.53s/it]"
      }
     },
     "3e48ae0c8b79472d897918f5ff6f2e06": {
      "model_module": "@jupyter-widgets/controls",
      "model_module_version": "2.0.0",
      "model_name": "HTMLStyleModel",
      "state": {
       "description_width": "",
       "font_size": null,
       "text_color": null
      }
     },
     "3ec0bbcde4c247db9eb3b242e8ab76eb": {
      "model_module": "@jupyter-widgets/controls",
      "model_module_version": "2.0.0",
      "model_name": "HTMLStyleModel",
      "state": {
       "description_width": "",
       "font_size": null,
       "text_color": null
      }
     },
     "3f2076d4fd0f48e1ade3534b82615336": {
      "model_module": "@jupyter-widgets/controls",
      "model_module_version": "2.0.0",
      "model_name": "HTMLModel",
      "state": {
       "layout": "IPY_MODEL_e400cc57970d417c94568627bfc04535",
       "style": "IPY_MODEL_739ad358b21b4d92979ff1a46920bd9a",
       "value": " 0/10 [00:01&lt;?, ?it/s]"
      }
     },
     "42e4c4cdc2f54c2ebed27167a0ec1dc6": {
      "model_module": "@jupyter-widgets/base",
      "model_module_version": "2.0.0",
      "model_name": "LayoutModel",
      "state": {}
     },
     "44921fc279cc4c2193171c52de0ac7ca": {
      "model_module": "@jupyter-widgets/base",
      "model_module_version": "2.0.0",
      "model_name": "LayoutModel",
      "state": {}
     },
     "44e51a1128754fddb0c5c21cb18e3940": {
      "model_module": "@jupyter-widgets/controls",
      "model_module_version": "2.0.0",
      "model_name": "HTMLStyleModel",
      "state": {
       "description_width": "",
       "font_size": null,
       "text_color": null
      }
     },
     "4528b717dfce4471b45dac34394cd5d2": {
      "model_module": "@jupyter-widgets/controls",
      "model_module_version": "2.0.0",
      "model_name": "FloatProgressModel",
      "state": {
       "bar_style": "success",
       "layout": "IPY_MODEL_85149bbac6cc4b1b9bdca6c3197ab499",
       "max": 10,
       "style": "IPY_MODEL_928f3a4b12384e648e8d3f11a77a579a",
       "value": 10
      }
     },
     "46299876e2994b4d8b7ce4c965a6ffaa": {
      "model_module": "@jupyter-widgets/controls",
      "model_module_version": "2.0.0",
      "model_name": "HTMLStyleModel",
      "state": {
       "description_width": "",
       "font_size": null,
       "text_color": null
      }
     },
     "4725b020c4654a2d85d27179c666741f": {
      "model_module": "@jupyter-widgets/controls",
      "model_module_version": "2.0.0",
      "model_name": "FloatProgressModel",
      "state": {
       "bar_style": "danger",
       "layout": "IPY_MODEL_82c289982d3d45328744f67cda81c771",
       "max": 10,
       "style": "IPY_MODEL_068fe05120354f0ca1b0be24163e269c"
      }
     },
     "4774a716af9740f097c67abaf1f52678": {
      "model_module": "@jupyter-widgets/controls",
      "model_module_version": "2.0.0",
      "model_name": "ProgressStyleModel",
      "state": {
       "description_width": ""
      }
     },
     "47db4ac756b846efb0976933f265d3bf": {
      "model_module": "@jupyter-widgets/controls",
      "model_module_version": "2.0.0",
      "model_name": "FloatProgressModel",
      "state": {
       "bar_style": "success",
       "layout": "IPY_MODEL_6c7f15ab5eaf4b68a95be1d3918f34fa",
       "max": 10,
       "style": "IPY_MODEL_006e7d60c24b4e1ca995af0ab2dec07e",
       "value": 10
      }
     },
     "47e7792be5364713b3eb9bcbddaa33be": {
      "model_module": "@jupyter-widgets/controls",
      "model_module_version": "2.0.0",
      "model_name": "ProgressStyleModel",
      "state": {
       "description_width": ""
      }
     },
     "485dd14b0ede45eb96f77ea0af7c1d48": {
      "model_module": "@jupyter-widgets/controls",
      "model_module_version": "2.0.0",
      "model_name": "HTMLStyleModel",
      "state": {
       "description_width": "",
       "font_size": null,
       "text_color": null
      }
     },
     "48767c2dcedd403ebef164d617a42446": {
      "model_module": "@jupyter-widgets/base",
      "model_module_version": "2.0.0",
      "model_name": "LayoutModel",
      "state": {}
     },
     "48c9e6583cda4684a126924d84a2853c": {
      "model_module": "@jupyter-widgets/base",
      "model_module_version": "2.0.0",
      "model_name": "LayoutModel",
      "state": {}
     },
     "48fd65b019f4477a8395c0c937969b9d": {
      "model_module": "@jupyter-widgets/controls",
      "model_module_version": "2.0.0",
      "model_name": "HTMLModel",
      "state": {
       "layout": "IPY_MODEL_060bb4965e094ce5aa382b2a9a9bd826",
       "style": "IPY_MODEL_7ff20d2c0740426bb8ba2160c227e976",
       "value": "  0%"
      }
     },
     "499f1c3b95df4600b4fb81087eddd58b": {
      "model_module": "@jupyter-widgets/base",
      "model_module_version": "2.0.0",
      "model_name": "LayoutModel",
      "state": {}
     },
     "4a28561e5691409f92a89ec48d10a759": {
      "model_module": "@jupyter-widgets/controls",
      "model_module_version": "2.0.0",
      "model_name": "HTMLStyleModel",
      "state": {
       "description_width": "",
       "font_size": null,
       "text_color": null
      }
     },
     "4a4066210bba487fb0279c9e3c26b977": {
      "model_module": "@jupyter-widgets/controls",
      "model_module_version": "2.0.0",
      "model_name": "HTMLModel",
      "state": {
       "layout": "IPY_MODEL_699e3f0b94c5452ea11d1d1b177dec41",
       "style": "IPY_MODEL_998c17339e53402483349fb86e89745a",
       "value": " 10/10 [00:27&lt;00:00,  2.76s/it]"
      }
     },
     "4a8bc77442554493aba7669659a2b487": {
      "model_module": "@jupyter-widgets/controls",
      "model_module_version": "2.0.0",
      "model_name": "HTMLStyleModel",
      "state": {
       "description_width": "",
       "font_size": null,
       "text_color": null
      }
     },
     "4ab7aed4e94f4889b6a07f610c77298a": {
      "model_module": "@jupyter-widgets/controls",
      "model_module_version": "2.0.0",
      "model_name": "HTMLModel",
      "state": {
       "layout": "IPY_MODEL_2724de7a43d54c9c8b450910589568ce",
       "style": "IPY_MODEL_ed0430bd12764578a7365e3da2e1ee33",
       "value": "  0%"
      }
     },
     "4b294e34352d45819bbb4602f0beb8fe": {
      "model_module": "@jupyter-widgets/controls",
      "model_module_version": "2.0.0",
      "model_name": "HTMLModel",
      "state": {
       "layout": "IPY_MODEL_f1979c1dff384100ae59e1cd822f6cb6",
       "style": "IPY_MODEL_b508207c4adf47b08b6b248008b2093c",
       "value": "100%"
      }
     },
     "4bf6178385f94709bdd08b377fadf34a": {
      "model_module": "@jupyter-widgets/base",
      "model_module_version": "2.0.0",
      "model_name": "LayoutModel",
      "state": {}
     },
     "4c2f40d020f84c16b74f0e60923c497e": {
      "model_module": "@jupyter-widgets/base",
      "model_module_version": "2.0.0",
      "model_name": "LayoutModel",
      "state": {}
     },
     "4dc43716066b4db1895eb23a826fd79b": {
      "model_module": "@jupyter-widgets/base",
      "model_module_version": "2.0.0",
      "model_name": "LayoutModel",
      "state": {}
     },
     "4f6c10ab10374f5cb1b59ca7681dd5b0": {
      "model_module": "@jupyter-widgets/base",
      "model_module_version": "2.0.0",
      "model_name": "LayoutModel",
      "state": {}
     },
     "510d7ba6384742ad8b660c382f4b6e86": {
      "model_module": "@jupyter-widgets/controls",
      "model_module_version": "2.0.0",
      "model_name": "HTMLStyleModel",
      "state": {
       "description_width": "",
       "font_size": null,
       "text_color": null
      }
     },
     "517f7a670a49461c8afb966ab1da9f4e": {
      "model_module": "@jupyter-widgets/controls",
      "model_module_version": "2.0.0",
      "model_name": "FloatProgressModel",
      "state": {
       "bar_style": "success",
       "layout": "IPY_MODEL_a913b2efd1284474a88884b1cc9fd5a2",
       "max": 10,
       "style": "IPY_MODEL_d54c2054e85648a5a0cdaba0721ad424",
       "value": 10
      }
     },
     "53bab613b882434c8591b5d0f9248d8f": {
      "model_module": "@jupyter-widgets/controls",
      "model_module_version": "2.0.0",
      "model_name": "HTMLModel",
      "state": {
       "layout": "IPY_MODEL_7e71ccef26254ef2b39d8e5ded4adefb",
       "style": "IPY_MODEL_33c57b038e7042c6885c19a8927869fd",
       "value": "  0%"
      }
     },
     "541015ecea9b48ff96602beac8d1ec9a": {
      "model_module": "@jupyter-widgets/base",
      "model_module_version": "2.0.0",
      "model_name": "LayoutModel",
      "state": {}
     },
     "54a432e24a5c438f8bfeffe6bf26124c": {
      "model_module": "@jupyter-widgets/controls",
      "model_module_version": "2.0.0",
      "model_name": "HBoxModel",
      "state": {
       "children": [
        "IPY_MODEL_5ee24514994e40b8a2af4b563353f5cc",
        "IPY_MODEL_8ed821f777144103a4cd25f466d7b92c",
        "IPY_MODEL_cd3caad6b2c24b2ab1370ab85905a49a"
       ],
       "layout": "IPY_MODEL_d3ad9efd2edb4d9bb4d6d0d70e9accbc"
      }
     },
     "561e95d4b31b46b8b474eb5057ad6601": {
      "model_module": "@jupyter-widgets/controls",
      "model_module_version": "2.0.0",
      "model_name": "HTMLModel",
      "state": {
       "layout": "IPY_MODEL_6cb6c0aa9d1b4986aa0babd8a309b8df",
       "style": "IPY_MODEL_df69e75746ce4d1eaddf43bc3119df07",
       "value": "100%"
      }
     },
     "563c25f622ab447386143258a4fe0ea1": {
      "model_module": "@jupyter-widgets/controls",
      "model_module_version": "2.0.0",
      "model_name": "HTMLModel",
      "state": {
       "layout": "IPY_MODEL_0357751894384aa7822940d767c9909d",
       "style": "IPY_MODEL_5c9b80032aff4be9860b529c4060995a",
       "value": "100%"
      }
     },
     "567fb00305404737b1d5ecd9ec7a4a2c": {
      "model_module": "@jupyter-widgets/controls",
      "model_module_version": "2.0.0",
      "model_name": "HTMLModel",
      "state": {
       "layout": "IPY_MODEL_dd9a939b1d614240bb99f351c278cc57",
       "style": "IPY_MODEL_ee2f2191dbe64c9190d9d9d24142c6c6",
       "value": " 10/10 [00:30&lt;00:00,  3.04s/it]"
      }
     },
     "575bdefb96e04f958e27c00181e6bd50": {
      "model_module": "@jupyter-widgets/base",
      "model_module_version": "2.0.0",
      "model_name": "LayoutModel",
      "state": {}
     },
     "5771a9926edd47da9fdd531a5f1d9d83": {
      "model_module": "@jupyter-widgets/controls",
      "model_module_version": "2.0.0",
      "model_name": "FloatProgressModel",
      "state": {
       "bar_style": "success",
       "layout": "IPY_MODEL_2818e18d9ce34827bf0ec804da3a5787",
       "max": 10,
       "style": "IPY_MODEL_e044eec190604d8784d8280d4d9c3dd6",
       "value": 10
      }
     },
     "58c116a37dc94b5ea3ff4a9c6507b8ac": {
      "model_module": "@jupyter-widgets/base",
      "model_module_version": "2.0.0",
      "model_name": "LayoutModel",
      "state": {}
     },
     "5c0d41548e054aacb06d7055598f6082": {
      "model_module": "@jupyter-widgets/controls",
      "model_module_version": "2.0.0",
      "model_name": "HTMLModel",
      "state": {
       "layout": "IPY_MODEL_2c09712038fc474abc9ea19f6933c2a7",
       "style": "IPY_MODEL_33d4a97127d34d9fa3c0fa9e6b928786",
       "value": " 0/10 [00:00&lt;?, ?it/s]"
      }
     },
     "5c9b80032aff4be9860b529c4060995a": {
      "model_module": "@jupyter-widgets/controls",
      "model_module_version": "2.0.0",
      "model_name": "HTMLStyleModel",
      "state": {
       "description_width": "",
       "font_size": null,
       "text_color": null
      }
     },
     "5d917105665e4831b09c9fd7b77b32c0": {
      "model_module": "@jupyter-widgets/controls",
      "model_module_version": "2.0.0",
      "model_name": "HTMLStyleModel",
      "state": {
       "description_width": "",
       "font_size": null,
       "text_color": null
      }
     },
     "5ee24514994e40b8a2af4b563353f5cc": {
      "model_module": "@jupyter-widgets/controls",
      "model_module_version": "2.0.0",
      "model_name": "HTMLModel",
      "state": {
       "layout": "IPY_MODEL_63b70b766f5943f6b7739abbabeb0847",
       "style": "IPY_MODEL_dd4b193712314c49b05d776000cd3ab7",
       "value": "  0%"
      }
     },
     "5fb7e0437a7340fb8558c7382bbc0f74": {
      "model_module": "@jupyter-widgets/controls",
      "model_module_version": "2.0.0",
      "model_name": "HBoxModel",
      "state": {
       "children": [
        "IPY_MODEL_53bab613b882434c8591b5d0f9248d8f",
        "IPY_MODEL_ab43a2c3c3fe420aa1c1507274e20797",
        "IPY_MODEL_a8278ff3aaeb4aa5934dd61c40493483"
       ],
       "layout": "IPY_MODEL_27a586cbbcad4ba3b8b7529f0b51e3a7"
      }
     },
     "6021a4afd37047e885088336f62c50e7": {
      "model_module": "@jupyter-widgets/controls",
      "model_module_version": "2.0.0",
      "model_name": "HBoxModel",
      "state": {
       "children": [
        "IPY_MODEL_13adb002f0694ef4b891f20cb22fca90",
        "IPY_MODEL_81accd204511476a9b2392d239ea2b2b",
        "IPY_MODEL_eff65103c119400c9997049addfeb7b2"
       ],
       "layout": "IPY_MODEL_a6914ba8a6834342a2f2c3d4a91802df"
      }
     },
     "61d9a76c73d34586aa733068662294ea": {
      "model_module": "@jupyter-widgets/controls",
      "model_module_version": "2.0.0",
      "model_name": "HTMLStyleModel",
      "state": {
       "description_width": "",
       "font_size": null,
       "text_color": null
      }
     },
     "62d5cd2d21bd475cb255580dfc4ac43d": {
      "model_module": "@jupyter-widgets/base",
      "model_module_version": "2.0.0",
      "model_name": "LayoutModel",
      "state": {}
     },
     "63b70b766f5943f6b7739abbabeb0847": {
      "model_module": "@jupyter-widgets/base",
      "model_module_version": "2.0.0",
      "model_name": "LayoutModel",
      "state": {}
     },
     "63c080a2e5904b888df92321954ce6ed": {
      "model_module": "@jupyter-widgets/base",
      "model_module_version": "2.0.0",
      "model_name": "LayoutModel",
      "state": {}
     },
     "63e42b371dad4319bc302c887a625a10": {
      "model_module": "@jupyter-widgets/controls",
      "model_module_version": "2.0.0",
      "model_name": "HTMLStyleModel",
      "state": {
       "description_width": "",
       "font_size": null,
       "text_color": null
      }
     },
     "640142d699aa4b5fb55577194c6ef741": {
      "model_module": "@jupyter-widgets/controls",
      "model_module_version": "2.0.0",
      "model_name": "ProgressStyleModel",
      "state": {
       "description_width": ""
      }
     },
     "645d5d9066244c8b936048f4cab6186b": {
      "model_module": "@jupyter-widgets/controls",
      "model_module_version": "2.0.0",
      "model_name": "HTMLModel",
      "state": {
       "layout": "IPY_MODEL_c9d17d62ba3345b98e4a6042cba75227",
       "style": "IPY_MODEL_7bf731c595ae4118b13dec78d6c9bcd4",
       "value": "  0%"
      }
     },
     "648a29fcfb074613bc8c8da7dfb9024f": {
      "model_module": "@jupyter-widgets/controls",
      "model_module_version": "2.0.0",
      "model_name": "HTMLModel",
      "state": {
       "layout": "IPY_MODEL_74b4f75513a8479a822b6284d5946f9f",
       "style": "IPY_MODEL_e9148e90762f4f468cf4fadd0b2ff2c6",
       "value": " 0/10 [00:00&lt;?, ?it/s]"
      }
     },
     "64c5a8f4c5274b56a5d30e4b2c51880c": {
      "model_module": "@jupyter-widgets/base",
      "model_module_version": "2.0.0",
      "model_name": "LayoutModel",
      "state": {}
     },
     "658686045ea64f3497877380ee7ce266": {
      "model_module": "@jupyter-widgets/controls",
      "model_module_version": "2.0.0",
      "model_name": "HTMLModel",
      "state": {
       "layout": "IPY_MODEL_82b1f24fb4324be3a791cc1356335885",
       "style": "IPY_MODEL_252b24faabe04847b41029859cf1d106",
       "value": "  0%"
      }
     },
     "65eafacca6da4ac4becd32f551587684": {
      "model_module": "@jupyter-widgets/controls",
      "model_module_version": "2.0.0",
      "model_name": "FloatProgressModel",
      "state": {
       "bar_style": "danger",
       "layout": "IPY_MODEL_48767c2dcedd403ebef164d617a42446",
       "max": 10,
       "style": "IPY_MODEL_31c4e1d7ad954c40895e33f802d5d285"
      }
     },
     "6663f26d79354733b8c8b8c4a4455c69": {
      "model_module": "@jupyter-widgets/base",
      "model_module_version": "2.0.0",
      "model_name": "LayoutModel",
      "state": {}
     },
     "66f903e8af934a93a246a18186dc8b85": {
      "model_module": "@jupyter-widgets/controls",
      "model_module_version": "2.0.0",
      "model_name": "FloatProgressModel",
      "state": {
       "bar_style": "danger",
       "layout": "IPY_MODEL_1f523c0512934037abbc0346e2ec676d",
       "max": 10,
       "style": "IPY_MODEL_0ac96a0d2eab437a8ea671838d890fdf"
      }
     },
     "672377316a764e38954ee590708dfc16": {
      "model_module": "@jupyter-widgets/controls",
      "model_module_version": "2.0.0",
      "model_name": "FloatProgressModel",
      "state": {
       "bar_style": "success",
       "layout": "IPY_MODEL_350700ee0a424535b13bec387552ea13",
       "max": 10,
       "style": "IPY_MODEL_2db452575b3f432baed192ba9561a31e",
       "value": 10
      }
     },
     "67b95b5d4cac47879cc216eb9300a823": {
      "model_module": "@jupyter-widgets/base",
      "model_module_version": "2.0.0",
      "model_name": "LayoutModel",
      "state": {}
     },
     "6882bc7568c74e7597bf03e15d751831": {
      "model_module": "@jupyter-widgets/base",
      "model_module_version": "2.0.0",
      "model_name": "LayoutModel",
      "state": {}
     },
     "68be8b4e07844ecaa49cb45f8bff2a80": {
      "model_module": "@jupyter-widgets/base",
      "model_module_version": "2.0.0",
      "model_name": "LayoutModel",
      "state": {}
     },
     "699e3f0b94c5452ea11d1d1b177dec41": {
      "model_module": "@jupyter-widgets/base",
      "model_module_version": "2.0.0",
      "model_name": "LayoutModel",
      "state": {}
     },
     "6a805a01b73441b089dec850d7a62c38": {
      "model_module": "@jupyter-widgets/controls",
      "model_module_version": "2.0.0",
      "model_name": "HTMLStyleModel",
      "state": {
       "description_width": "",
       "font_size": null,
       "text_color": null
      }
     },
     "6b248292ee474bca8aa2039b9230be4c": {
      "model_module": "@jupyter-widgets/controls",
      "model_module_version": "2.0.0",
      "model_name": "HTMLModel",
      "state": {
       "layout": "IPY_MODEL_9ca0fd3190554d7a9c82a469f1c8a30f",
       "style": "IPY_MODEL_46299876e2994b4d8b7ce4c965a6ffaa",
       "value": "  0%"
      }
     },
     "6bd4ee349d69451c977de163af47a1f7": {
      "model_module": "@jupyter-widgets/controls",
      "model_module_version": "2.0.0",
      "model_name": "FloatProgressModel",
      "state": {
       "bar_style": "success",
       "layout": "IPY_MODEL_c86f663101b04633bbf57e2f01c18858",
       "max": 10,
       "style": "IPY_MODEL_8bb2cf72b2dc4581978e5517ad7c4ef4",
       "value": 10
      }
     },
     "6c7f15ab5eaf4b68a95be1d3918f34fa": {
      "model_module": "@jupyter-widgets/base",
      "model_module_version": "2.0.0",
      "model_name": "LayoutModel",
      "state": {}
     },
     "6cb6c0aa9d1b4986aa0babd8a309b8df": {
      "model_module": "@jupyter-widgets/base",
      "model_module_version": "2.0.0",
      "model_name": "LayoutModel",
      "state": {}
     },
     "6f156fd620674a64a15d92a676edf11e": {
      "model_module": "@jupyter-widgets/controls",
      "model_module_version": "2.0.0",
      "model_name": "HTMLStyleModel",
      "state": {
       "description_width": "",
       "font_size": null,
       "text_color": null
      }
     },
     "6f5a89aaf60445ea89fac03d365f509d": {
      "model_module": "@jupyter-widgets/base",
      "model_module_version": "2.0.0",
      "model_name": "LayoutModel",
      "state": {}
     },
     "6fd9f6fd58b94a20895e425980bb5158": {
      "model_module": "@jupyter-widgets/base",
      "model_module_version": "2.0.0",
      "model_name": "LayoutModel",
      "state": {}
     },
     "701856190d9b49d7ba4a1d0ec2b9376f": {
      "model_module": "@jupyter-widgets/controls",
      "model_module_version": "2.0.0",
      "model_name": "HTMLStyleModel",
      "state": {
       "description_width": "",
       "font_size": null,
       "text_color": null
      }
     },
     "7059a641bdb54caa9ee9f43fa19d7ee8": {
      "model_module": "@jupyter-widgets/controls",
      "model_module_version": "2.0.0",
      "model_name": "ProgressStyleModel",
      "state": {
       "description_width": ""
      }
     },
     "7115fc42a8ca4cac96b86168d45c6945": {
      "model_module": "@jupyter-widgets/controls",
      "model_module_version": "2.0.0",
      "model_name": "HTMLModel",
      "state": {
       "layout": "IPY_MODEL_67b95b5d4cac47879cc216eb9300a823",
       "style": "IPY_MODEL_e31ad8d67bf74515accbcbf0dc3ed6fc",
       "value": "  0%"
      }
     },
     "71a8fdeac9f24a5ba7b9ce66a340d385": {
      "model_module": "@jupyter-widgets/base",
      "model_module_version": "2.0.0",
      "model_name": "LayoutModel",
      "state": {}
     },
     "71f6852ed3754434afe5271497bded92": {
      "model_module": "@jupyter-widgets/controls",
      "model_module_version": "2.0.0",
      "model_name": "HTMLModel",
      "state": {
       "layout": "IPY_MODEL_1a3834926aa448afb1c9577ab28e6ae5",
       "style": "IPY_MODEL_1b63c3046c884063b099ab3cb2a29ba6",
       "value": " 10/10 [00:40&lt;00:00,  4.01s/it]"
      }
     },
     "72a3c6c5ccb742cc9d034de3d220a9d7": {
      "model_module": "@jupyter-widgets/controls",
      "model_module_version": "2.0.0",
      "model_name": "HTMLModel",
      "state": {
       "layout": "IPY_MODEL_9ff9424d87d6491e8303578c8996ced2",
       "style": "IPY_MODEL_855927f1115a41849e0d54c8f95a6af9",
       "value": " 10/10 [00:25&lt;00:00,  2.52s/it]"
      }
     },
     "72ce804887924360bf9e5fef7046b049": {
      "model_module": "@jupyter-widgets/controls",
      "model_module_version": "2.0.0",
      "model_name": "FloatProgressModel",
      "state": {
       "bar_style": "success",
       "layout": "IPY_MODEL_82fb74b64b564e5c9bd04040cf3cf8fb",
       "max": 10,
       "style": "IPY_MODEL_cabca01176dd47b597375c7bf16d006a",
       "value": 10
      }
     },
     "730be69918d64e9dabb7c03d3d6dfc1e": {
      "model_module": "@jupyter-widgets/base",
      "model_module_version": "2.0.0",
      "model_name": "LayoutModel",
      "state": {}
     },
     "739ad358b21b4d92979ff1a46920bd9a": {
      "model_module": "@jupyter-widgets/controls",
      "model_module_version": "2.0.0",
      "model_name": "HTMLStyleModel",
      "state": {
       "description_width": "",
       "font_size": null,
       "text_color": null
      }
     },
     "73d885a4ad224f568bc88ce92487fb88": {
      "model_module": "@jupyter-widgets/controls",
      "model_module_version": "2.0.0",
      "model_name": "HTMLStyleModel",
      "state": {
       "description_width": "",
       "font_size": null,
       "text_color": null
      }
     },
     "74b4f75513a8479a822b6284d5946f9f": {
      "model_module": "@jupyter-widgets/base",
      "model_module_version": "2.0.0",
      "model_name": "LayoutModel",
      "state": {}
     },
     "75642459d02840858ddc7be87dd8b69d": {
      "model_module": "@jupyter-widgets/base",
      "model_module_version": "2.0.0",
      "model_name": "LayoutModel",
      "state": {}
     },
     "7570adf9ea664642a6030e2da5b8f435": {
      "model_module": "@jupyter-widgets/base",
      "model_module_version": "2.0.0",
      "model_name": "LayoutModel",
      "state": {}
     },
     "766d49375a5b4e6a8262d6232535776f": {
      "model_module": "@jupyter-widgets/controls",
      "model_module_version": "2.0.0",
      "model_name": "HTMLStyleModel",
      "state": {
       "description_width": "",
       "font_size": null,
       "text_color": null
      }
     },
     "7678685dbf6344da9a98bec907b7f115": {
      "model_module": "@jupyter-widgets/controls",
      "model_module_version": "2.0.0",
      "model_name": "HTMLStyleModel",
      "state": {
       "description_width": "",
       "font_size": null,
       "text_color": null
      }
     },
     "767a189ca3ec4aefa413188f7228dca7": {
      "model_module": "@jupyter-widgets/controls",
      "model_module_version": "2.0.0",
      "model_name": "ProgressStyleModel",
      "state": {
       "description_width": ""
      }
     },
     "76af491d2e544f6585a4d8c00ed78659": {
      "model_module": "@jupyter-widgets/base",
      "model_module_version": "2.0.0",
      "model_name": "LayoutModel",
      "state": {}
     },
     "7828fe66e6e64db4b0a4eafca8df2f46": {
      "model_module": "@jupyter-widgets/controls",
      "model_module_version": "2.0.0",
      "model_name": "ProgressStyleModel",
      "state": {
       "description_width": ""
      }
     },
     "787408d66acf4f748cc54419edba61c9": {
      "model_module": "@jupyter-widgets/controls",
      "model_module_version": "2.0.0",
      "model_name": "HTMLStyleModel",
      "state": {
       "description_width": "",
       "font_size": null,
       "text_color": null
      }
     },
     "7929bf865a5a430188384d297bd15e7e": {
      "model_module": "@jupyter-widgets/controls",
      "model_module_version": "2.0.0",
      "model_name": "HTMLModel",
      "state": {
       "layout": "IPY_MODEL_9bbb08aa17cb4315a658a2a94073c1f8",
       "style": "IPY_MODEL_510d7ba6384742ad8b660c382f4b6e86",
       "value": "100%"
      }
     },
     "796b9727185d43869442689b8af3fb77": {
      "model_module": "@jupyter-widgets/base",
      "model_module_version": "2.0.0",
      "model_name": "LayoutModel",
      "state": {}
     },
     "7994a3e709cf4a58a3bedf860bb5c18e": {
      "model_module": "@jupyter-widgets/controls",
      "model_module_version": "2.0.0",
      "model_name": "HBoxModel",
      "state": {
       "children": [
        "IPY_MODEL_37aaf22039eb438a9b24ed4b57704276",
        "IPY_MODEL_5771a9926edd47da9fdd531a5f1d9d83",
        "IPY_MODEL_a85315a5fc94491081c5ecea757ebc0e"
       ],
       "layout": "IPY_MODEL_6f5a89aaf60445ea89fac03d365f509d"
      }
     },
     "7bf731c595ae4118b13dec78d6c9bcd4": {
      "model_module": "@jupyter-widgets/controls",
      "model_module_version": "2.0.0",
      "model_name": "HTMLStyleModel",
      "state": {
       "description_width": "",
       "font_size": null,
       "text_color": null
      }
     },
     "7cabe3059ce14dc1b3638ab0ac31ead2": {
      "model_module": "@jupyter-widgets/controls",
      "model_module_version": "2.0.0",
      "model_name": "HBoxModel",
      "state": {
       "children": [
        "IPY_MODEL_9ffbcd4ccbbc40218eff125352bb46ab",
        "IPY_MODEL_4528b717dfce4471b45dac34394cd5d2",
        "IPY_MODEL_a4faa1fbab1742069a3997a382ec7170"
       ],
       "layout": "IPY_MODEL_af04fead057c4874999ab0c106b526ae"
      }
     },
     "7d35fee4600b499ca841ce34bd97f63d": {
      "model_module": "@jupyter-widgets/base",
      "model_module_version": "2.0.0",
      "model_name": "LayoutModel",
      "state": {}
     },
     "7e71ccef26254ef2b39d8e5ded4adefb": {
      "model_module": "@jupyter-widgets/base",
      "model_module_version": "2.0.0",
      "model_name": "LayoutModel",
      "state": {}
     },
     "7ecacfa5a7714f31b8deb7ea21b136e8": {
      "model_module": "@jupyter-widgets/base",
      "model_module_version": "2.0.0",
      "model_name": "LayoutModel",
      "state": {}
     },
     "7fa987ce945f41bd8fc1fa5b284abf96": {
      "model_module": "@jupyter-widgets/controls",
      "model_module_version": "2.0.0",
      "model_name": "HTMLModel",
      "state": {
       "layout": "IPY_MODEL_ff317608c91847578749c9447229a8c5",
       "style": "IPY_MODEL_f6958235317046d08d2fd6bac73cfaea",
       "value": "100%"
      }
     },
     "7ff20d2c0740426bb8ba2160c227e976": {
      "model_module": "@jupyter-widgets/controls",
      "model_module_version": "2.0.0",
      "model_name": "HTMLStyleModel",
      "state": {
       "description_width": "",
       "font_size": null,
       "text_color": null
      }
     },
     "8056e2a7171143d3b14deaf83d59a48d": {
      "model_module": "@jupyter-widgets/controls",
      "model_module_version": "2.0.0",
      "model_name": "HBoxModel",
      "state": {
       "children": [
        "IPY_MODEL_f71cca510ac44ce5a23dec46f9fe5ee9",
        "IPY_MODEL_0c2401385c61490881e04766dafb683c",
        "IPY_MODEL_d0c9b91a287847f08ff3e1fc239c3265"
       ],
       "layout": "IPY_MODEL_37599d5289704d4aa9e245f91d8c5268"
      }
     },
     "81accd204511476a9b2392d239ea2b2b": {
      "model_module": "@jupyter-widgets/controls",
      "model_module_version": "2.0.0",
      "model_name": "FloatProgressModel",
      "state": {
       "bar_style": "success",
       "layout": "IPY_MODEL_87d68d53dba74dde9c6e525056bde01d",
       "max": 10,
       "style": "IPY_MODEL_9bc9f364f685422ab0bf60e6c06d452d",
       "value": 10
      }
     },
     "820bdd3f2bb24c538141692eb760a2bb": {
      "model_module": "@jupyter-widgets/base",
      "model_module_version": "2.0.0",
      "model_name": "LayoutModel",
      "state": {}
     },
     "824a771d8880418f8ecf77b99a402d8d": {
      "model_module": "@jupyter-widgets/controls",
      "model_module_version": "2.0.0",
      "model_name": "HTMLStyleModel",
      "state": {
       "description_width": "",
       "font_size": null,
       "text_color": null
      }
     },
     "82b1f24fb4324be3a791cc1356335885": {
      "model_module": "@jupyter-widgets/base",
      "model_module_version": "2.0.0",
      "model_name": "LayoutModel",
      "state": {}
     },
     "82c289982d3d45328744f67cda81c771": {
      "model_module": "@jupyter-widgets/base",
      "model_module_version": "2.0.0",
      "model_name": "LayoutModel",
      "state": {}
     },
     "82fb74b64b564e5c9bd04040cf3cf8fb": {
      "model_module": "@jupyter-widgets/base",
      "model_module_version": "2.0.0",
      "model_name": "LayoutModel",
      "state": {}
     },
     "85149bbac6cc4b1b9bdca6c3197ab499": {
      "model_module": "@jupyter-widgets/base",
      "model_module_version": "2.0.0",
      "model_name": "LayoutModel",
      "state": {}
     },
     "855927f1115a41849e0d54c8f95a6af9": {
      "model_module": "@jupyter-widgets/controls",
      "model_module_version": "2.0.0",
      "model_name": "HTMLStyleModel",
      "state": {
       "description_width": "",
       "font_size": null,
       "text_color": null
      }
     },
     "855e2e0977ae4bbdb845a9db62703727": {
      "model_module": "@jupyter-widgets/controls",
      "model_module_version": "2.0.0",
      "model_name": "HBoxModel",
      "state": {
       "children": [
        "IPY_MODEL_3a1d575ea3fe4f22a218466d609e2667",
        "IPY_MODEL_fa122aaac196442d837133c96f938643",
        "IPY_MODEL_be5eb2bf073f4940996e354e2d35c7b7"
       ],
       "layout": "IPY_MODEL_871eed3fa839492ab0b09869f9de8cbc"
      }
     },
     "85eac885af014c8c931180fb8665ad12": {
      "model_module": "@jupyter-widgets/base",
      "model_module_version": "2.0.0",
      "model_name": "LayoutModel",
      "state": {}
     },
     "866d3b3b71ed4504aa7b2c9dada9707e": {
      "model_module": "@jupyter-widgets/controls",
      "model_module_version": "2.0.0",
      "model_name": "HTMLModel",
      "state": {
       "layout": "IPY_MODEL_64c5a8f4c5274b56a5d30e4b2c51880c",
       "style": "IPY_MODEL_701856190d9b49d7ba4a1d0ec2b9376f",
       "value": "  0%"
      }
     },
     "871eed3fa839492ab0b09869f9de8cbc": {
      "model_module": "@jupyter-widgets/base",
      "model_module_version": "2.0.0",
      "model_name": "LayoutModel",
      "state": {}
     },
     "87a0ce70f31f4ecc94e79a9957a05489": {
      "model_module": "@jupyter-widgets/base",
      "model_module_version": "2.0.0",
      "model_name": "LayoutModel",
      "state": {}
     },
     "87d68d53dba74dde9c6e525056bde01d": {
      "model_module": "@jupyter-widgets/base",
      "model_module_version": "2.0.0",
      "model_name": "LayoutModel",
      "state": {}
     },
     "890ee2f41ba34b2ab0d3986fe2581d65": {
      "model_module": "@jupyter-widgets/controls",
      "model_module_version": "2.0.0",
      "model_name": "ProgressStyleModel",
      "state": {
       "description_width": ""
      }
     },
     "89f017c8af834c3599cba577ba008758": {
      "model_module": "@jupyter-widgets/controls",
      "model_module_version": "2.0.0",
      "model_name": "FloatProgressModel",
      "state": {
       "bar_style": "danger",
       "layout": "IPY_MODEL_38b5e39568654ebe937ef799328790f6",
       "max": 10,
       "style": "IPY_MODEL_767a189ca3ec4aefa413188f7228dca7"
      }
     },
     "89ffa328a9734d5faae98138ffefd300": {
      "model_module": "@jupyter-widgets/base",
      "model_module_version": "2.0.0",
      "model_name": "LayoutModel",
      "state": {}
     },
     "8b29967ae5044670abc474f245317d2e": {
      "model_module": "@jupyter-widgets/controls",
      "model_module_version": "2.0.0",
      "model_name": "HTMLModel",
      "state": {
       "layout": "IPY_MODEL_9e6ac0d65b0343dabf6de90a422afa4c",
       "style": "IPY_MODEL_c447e41f8fa94468aa02b67fee96277a",
       "value": "  0%"
      }
     },
     "8bb2cf72b2dc4581978e5517ad7c4ef4": {
      "model_module": "@jupyter-widgets/controls",
      "model_module_version": "2.0.0",
      "model_name": "ProgressStyleModel",
      "state": {
       "description_width": ""
      }
     },
     "8bcf5fc7a3364372a8dbb7e1d402d22e": {
      "model_module": "@jupyter-widgets/controls",
      "model_module_version": "2.0.0",
      "model_name": "HTMLModel",
      "state": {
       "layout": "IPY_MODEL_ab36b58e56cb446698721e17ce3a318d",
       "style": "IPY_MODEL_61d9a76c73d34586aa733068662294ea",
       "value": "  0%"
      }
     },
     "8c453abda8b444a1812a71f42c3873b4": {
      "model_module": "@jupyter-widgets/base",
      "model_module_version": "2.0.0",
      "model_name": "LayoutModel",
      "state": {}
     },
     "8dab994220644ddf9cf6af802eb347ee": {
      "model_module": "@jupyter-widgets/controls",
      "model_module_version": "2.0.0",
      "model_name": "HTMLModel",
      "state": {
       "layout": "IPY_MODEL_d4950a549d454320a07f64c7b353583a",
       "style": "IPY_MODEL_fec05ea759d0407a873952ef18c07a63",
       "value": " 10/10 [01:17&lt;00:00,  7.60s/it]"
      }
     },
     "8e8f2061c06f48de9ec29d751618609b": {
      "model_module": "@jupyter-widgets/base",
      "model_module_version": "2.0.0",
      "model_name": "LayoutModel",
      "state": {}
     },
     "8ed821f777144103a4cd25f466d7b92c": {
      "model_module": "@jupyter-widgets/controls",
      "model_module_version": "2.0.0",
      "model_name": "FloatProgressModel",
      "state": {
       "bar_style": "danger",
       "layout": "IPY_MODEL_c14c512bf498449c8885226eb28e0164",
       "max": 10,
       "style": "IPY_MODEL_890ee2f41ba34b2ab0d3986fe2581d65"
      }
     },
     "8f9781b6f2d44f06a2d74697bdbc3e3a": {
      "model_module": "@jupyter-widgets/controls",
      "model_module_version": "2.0.0",
      "model_name": "HTMLModel",
      "state": {
       "layout": "IPY_MODEL_6fd9f6fd58b94a20895e425980bb5158",
       "style": "IPY_MODEL_cf445afd8a06428bab3a25192a5c5242",
       "value": "100%"
      }
     },
     "90ae841bccf14a2b8b877f9885adec7d": {
      "model_module": "@jupyter-widgets/base",
      "model_module_version": "2.0.0",
      "model_name": "LayoutModel",
      "state": {}
     },
     "9168cb5b90ea40a2b805128539fe8e8d": {
      "model_module": "@jupyter-widgets/base",
      "model_module_version": "2.0.0",
      "model_name": "LayoutModel",
      "state": {}
     },
     "91e01d6ea00e427898565b761d54f638": {
      "model_module": "@jupyter-widgets/base",
      "model_module_version": "2.0.0",
      "model_name": "LayoutModel",
      "state": {}
     },
     "928f3a4b12384e648e8d3f11a77a579a": {
      "model_module": "@jupyter-widgets/controls",
      "model_module_version": "2.0.0",
      "model_name": "ProgressStyleModel",
      "state": {
       "description_width": ""
      }
     },
     "92c8c334c1124655af386dfa2b98f33b": {
      "model_module": "@jupyter-widgets/controls",
      "model_module_version": "2.0.0",
      "model_name": "HBoxModel",
      "state": {
       "children": [
        "IPY_MODEL_645d5d9066244c8b936048f4cab6186b",
        "IPY_MODEL_3b764609d99e416bb2d4962bc69dff73",
        "IPY_MODEL_03cc196e4159408ab051384eed8d7fbc"
       ],
       "layout": "IPY_MODEL_195254f6c1bf4a3fbed51ce1ef23690b"
      }
     },
     "92d2c9b002294fd9a216c5d5c37e8a68": {
      "model_module": "@jupyter-widgets/base",
      "model_module_version": "2.0.0",
      "model_name": "LayoutModel",
      "state": {}
     },
     "956c3ce087bb45f4ac195a9b193ba561": {
      "model_module": "@jupyter-widgets/base",
      "model_module_version": "2.0.0",
      "model_name": "LayoutModel",
      "state": {}
     },
     "95b31e47754e476098c668f891979bae": {
      "model_module": "@jupyter-widgets/controls",
      "model_module_version": "2.0.0",
      "model_name": "HTMLModel",
      "state": {
       "layout": "IPY_MODEL_fce3e169a38545e6aaf9885f1cfca88e",
       "style": "IPY_MODEL_f8f23b995ace47bb941cc1159df79a80",
       "value": " 10/10 [01:21&lt;00:00,  8.23s/it]"
      }
     },
     "95b7e9fae8f44a2ebad5e819b5ba488d": {
      "model_module": "@jupyter-widgets/controls",
      "model_module_version": "2.0.0",
      "model_name": "HTMLStyleModel",
      "state": {
       "description_width": "",
       "font_size": null,
       "text_color": null
      }
     },
     "9669f4888c284792888076d1d7a037a4": {
      "model_module": "@jupyter-widgets/controls",
      "model_module_version": "2.0.0",
      "model_name": "FloatProgressModel",
      "state": {
       "bar_style": "danger",
       "layout": "IPY_MODEL_f88425d89af0448a9e5348fb48b6f62f",
       "max": 10,
       "style": "IPY_MODEL_1eacf605b10c43fa8f686e6089e8545e"
      }
     },
     "969fc960bf6b4c90a5ba3a0a78839bfc": {
      "model_module": "@jupyter-widgets/controls",
      "model_module_version": "2.0.0",
      "model_name": "HTMLStyleModel",
      "state": {
       "description_width": "",
       "font_size": null,
       "text_color": null
      }
     },
     "989d58fedf314841aca7e776c4715a28": {
      "model_module": "@jupyter-widgets/controls",
      "model_module_version": "2.0.0",
      "model_name": "ProgressStyleModel",
      "state": {
       "description_width": ""
      }
     },
     "998c17339e53402483349fb86e89745a": {
      "model_module": "@jupyter-widgets/controls",
      "model_module_version": "2.0.0",
      "model_name": "HTMLStyleModel",
      "state": {
       "description_width": "",
       "font_size": null,
       "text_color": null
      }
     },
     "998dcc888e2d4b61b839c1b539950812": {
      "model_module": "@jupyter-widgets/controls",
      "model_module_version": "2.0.0",
      "model_name": "HTMLStyleModel",
      "state": {
       "description_width": "",
       "font_size": null,
       "text_color": null
      }
     },
     "99b07ab68a7c4a5c816a1030c3e7d951": {
      "model_module": "@jupyter-widgets/controls",
      "model_module_version": "2.0.0",
      "model_name": "HBoxModel",
      "state": {
       "children": [
        "IPY_MODEL_e19e178e1699409c9d65140461c662dc",
        "IPY_MODEL_72ce804887924360bf9e5fef7046b049",
        "IPY_MODEL_1ce38377a1f1413a950768764856e554"
       ],
       "layout": "IPY_MODEL_2567e349f72c4ebcaf393173c2dc7c85"
      }
     },
     "99d96b58c1434c0ba1af04c614f39152": {
      "model_module": "@jupyter-widgets/controls",
      "model_module_version": "2.0.0",
      "model_name": "HBoxModel",
      "state": {
       "children": [
        "IPY_MODEL_232477a802714b5a8bfebda154ac975a",
        "IPY_MODEL_f303bfba358041deb30e332f1035ec0c",
        "IPY_MODEL_343c31f4e7fd4ed59dbafca94c07ee75"
       ],
       "layout": "IPY_MODEL_9168cb5b90ea40a2b805128539fe8e8d"
      }
     },
     "99ea57d098be4d389a9bf103c66138ac": {
      "model_module": "@jupyter-widgets/controls",
      "model_module_version": "2.0.0",
      "model_name": "HTMLModel",
      "state": {
       "layout": "IPY_MODEL_e7cdfaea8ac048f7aaeb9a10b896575f",
       "style": "IPY_MODEL_969fc960bf6b4c90a5ba3a0a78839bfc",
       "value": " 10/10 [00:30&lt;00:00,  3.02s/it]"
      }
     },
     "9a0439fbf566480fb53dcb5dc4be65bf": {
      "model_module": "@jupyter-widgets/base",
      "model_module_version": "2.0.0",
      "model_name": "LayoutModel",
      "state": {}
     },
     "9af779e297ff4b8486cc793677965925": {
      "model_module": "@jupyter-widgets/controls",
      "model_module_version": "2.0.0",
      "model_name": "HBoxModel",
      "state": {
       "children": [
        "IPY_MODEL_e2d1b9a216c241a7a832d9b3b78a237b",
        "IPY_MODEL_6bd4ee349d69451c977de163af47a1f7",
        "IPY_MODEL_99ea57d098be4d389a9bf103c66138ac"
       ],
       "layout": "IPY_MODEL_fe6d614f1bb2404c88daac897abfc58c"
      }
     },
     "9b6e145d47f34f9d803a2041ca050f56": {
      "model_module": "@jupyter-widgets/controls",
      "model_module_version": "2.0.0",
      "model_name": "HTMLModel",
      "state": {
       "layout": "IPY_MODEL_b22862b22760407c9953542c27dc2308",
       "style": "IPY_MODEL_73d885a4ad224f568bc88ce92487fb88",
       "value": " 10/10 [00:26&lt;00:00,  2.62s/it]"
      }
     },
     "9baac331f3fb4059b7f6f16169d81b9e": {
      "model_module": "@jupyter-widgets/controls",
      "model_module_version": "2.0.0",
      "model_name": "HTMLModel",
      "state": {
       "layout": "IPY_MODEL_32836fa01ad94190a49aeb164ce5b40c",
       "style": "IPY_MODEL_f4e83b553c984cad9bbf16d370450703",
       "value": "100%"
      }
     },
     "9bbb08aa17cb4315a658a2a94073c1f8": {
      "model_module": "@jupyter-widgets/base",
      "model_module_version": "2.0.0",
      "model_name": "LayoutModel",
      "state": {}
     },
     "9bc9f364f685422ab0bf60e6c06d452d": {
      "model_module": "@jupyter-widgets/controls",
      "model_module_version": "2.0.0",
      "model_name": "ProgressStyleModel",
      "state": {
       "description_width": ""
      }
     },
     "9ca0fd3190554d7a9c82a469f1c8a30f": {
      "model_module": "@jupyter-widgets/base",
      "model_module_version": "2.0.0",
      "model_name": "LayoutModel",
      "state": {}
     },
     "9ca3dc8122e845b6b09e1135fc02af91": {
      "model_module": "@jupyter-widgets/controls",
      "model_module_version": "2.0.0",
      "model_name": "HTMLStyleModel",
      "state": {
       "description_width": "",
       "font_size": null,
       "text_color": null
      }
     },
     "9dbc93932ebc499ebbc12e9402bf83b8": {
      "model_module": "@jupyter-widgets/base",
      "model_module_version": "2.0.0",
      "model_name": "LayoutModel",
      "state": {}
     },
     "9e6ac0d65b0343dabf6de90a422afa4c": {
      "model_module": "@jupyter-widgets/base",
      "model_module_version": "2.0.0",
      "model_name": "LayoutModel",
      "state": {}
     },
     "9efbadba487f461cacadb43826ebb3cb": {
      "model_module": "@jupyter-widgets/base",
      "model_module_version": "2.0.0",
      "model_name": "LayoutModel",
      "state": {}
     },
     "9f4b567c4c074b0aa24974cb0a4c3f8e": {
      "model_module": "@jupyter-widgets/base",
      "model_module_version": "2.0.0",
      "model_name": "LayoutModel",
      "state": {}
     },
     "9f4fcbdec8f04889a0f86dd82141ee6d": {
      "model_module": "@jupyter-widgets/controls",
      "model_module_version": "2.0.0",
      "model_name": "HTMLModel",
      "state": {
       "layout": "IPY_MODEL_f695eee07eda401b8f5e05cd101799ab",
       "style": "IPY_MODEL_ebcc3b636477434dbf40500948e00e15",
       "value": " 0/10 [00:00&lt;?, ?it/s]"
      }
     },
     "9ff9424d87d6491e8303578c8996ced2": {
      "model_module": "@jupyter-widgets/base",
      "model_module_version": "2.0.0",
      "model_name": "LayoutModel",
      "state": {}
     },
     "9ffbcd4ccbbc40218eff125352bb46ab": {
      "model_module": "@jupyter-widgets/controls",
      "model_module_version": "2.0.0",
      "model_name": "HTMLModel",
      "state": {
       "layout": "IPY_MODEL_e1b1db5c5af441ae9be0e2c6e3f0660f",
       "style": "IPY_MODEL_766d49375a5b4e6a8262d6232535776f",
       "value": "100%"
      }
     },
     "a3f61478eaff457e9722eb6fad4ce621": {
      "model_module": "@jupyter-widgets/controls",
      "model_module_version": "2.0.0",
      "model_name": "HTMLStyleModel",
      "state": {
       "description_width": "",
       "font_size": null,
       "text_color": null
      }
     },
     "a43ddeb8fc8a42ac971b5f60c1963119": {
      "model_module": "@jupyter-widgets/base",
      "model_module_version": "2.0.0",
      "model_name": "LayoutModel",
      "state": {}
     },
     "a4faa1fbab1742069a3997a382ec7170": {
      "model_module": "@jupyter-widgets/controls",
      "model_module_version": "2.0.0",
      "model_name": "HTMLModel",
      "state": {
       "layout": "IPY_MODEL_e53ab6702c4a448182981db1bf0f18dc",
       "style": "IPY_MODEL_bdfb6ea460e4449883298995c61c62a8",
       "value": " 10/10 [01:18&lt;00:00,  7.84s/it]"
      }
     },
     "a57c0af79e70430f81b961675bdad810": {
      "model_module": "@jupyter-widgets/controls",
      "model_module_version": "2.0.0",
      "model_name": "FloatProgressModel",
      "state": {
       "bar_style": "danger",
       "layout": "IPY_MODEL_aea597e67a87449caef5f7fa8e94ff51",
       "max": 10,
       "style": "IPY_MODEL_0d538b4f6dcc42f89ed0e588931e22db"
      }
     },
     "a662dbce80f745e8a11cc8f475e91eaf": {
      "model_module": "@jupyter-widgets/base",
      "model_module_version": "2.0.0",
      "model_name": "LayoutModel",
      "state": {}
     },
     "a6914ba8a6834342a2f2c3d4a91802df": {
      "model_module": "@jupyter-widgets/base",
      "model_module_version": "2.0.0",
      "model_name": "LayoutModel",
      "state": {}
     },
     "a6a53aaa6512448c9f945d92061125a0": {
      "model_module": "@jupyter-widgets/controls",
      "model_module_version": "2.0.0",
      "model_name": "ProgressStyleModel",
      "state": {
       "description_width": ""
      }
     },
     "a7041154c29c4827b47ffe62f54e6e02": {
      "model_module": "@jupyter-widgets/controls",
      "model_module_version": "2.0.0",
      "model_name": "HTMLStyleModel",
      "state": {
       "description_width": "",
       "font_size": null,
       "text_color": null
      }
     },
     "a71163f8319c41168579b0b375a3cb47": {
      "model_module": "@jupyter-widgets/base",
      "model_module_version": "2.0.0",
      "model_name": "LayoutModel",
      "state": {}
     },
     "a72923fc962b4cf4b5e1595be1585b7b": {
      "model_module": "@jupyter-widgets/controls",
      "model_module_version": "2.0.0",
      "model_name": "HBoxModel",
      "state": {
       "children": [
        "IPY_MODEL_f39ffa43e3ec4a019a6aa951a328d9b4",
        "IPY_MODEL_07dc63eadbd3487ba3d7c03ca66b629d",
        "IPY_MODEL_2e83bb1195d24f92b4c286642078975a"
       ],
       "layout": "IPY_MODEL_0f6b39410d024655b8a489fb0bf58354"
      }
     },
     "a8278ff3aaeb4aa5934dd61c40493483": {
      "model_module": "@jupyter-widgets/controls",
      "model_module_version": "2.0.0",
      "model_name": "HTMLModel",
      "state": {
       "layout": "IPY_MODEL_1b8e38d88dd44373b3acd221b60ddcdc",
       "style": "IPY_MODEL_d36451f927324892b2c934fbded0573d",
       "value": " 0/10 [00:00&lt;?, ?it/s]"
      }
     },
     "a85315a5fc94491081c5ecea757ebc0e": {
      "model_module": "@jupyter-widgets/controls",
      "model_module_version": "2.0.0",
      "model_name": "HTMLModel",
      "state": {
       "layout": "IPY_MODEL_48c9e6583cda4684a126924d84a2853c",
       "style": "IPY_MODEL_3ec0bbcde4c247db9eb3b242e8ab76eb",
       "value": " 10/10 [01:16&lt;00:00,  7.63s/it]"
      }
     },
     "a913b2efd1284474a88884b1cc9fd5a2": {
      "model_module": "@jupyter-widgets/base",
      "model_module_version": "2.0.0",
      "model_name": "LayoutModel",
      "state": {}
     },
     "aa574a6d74274631a0671ff0d9de2d32": {
      "model_module": "@jupyter-widgets/controls",
      "model_module_version": "2.0.0",
      "model_name": "FloatProgressModel",
      "state": {
       "bar_style": "success",
       "layout": "IPY_MODEL_4dc43716066b4db1895eb23a826fd79b",
       "max": 10,
       "style": "IPY_MODEL_a6a53aaa6512448c9f945d92061125a0",
       "value": 10
      }
     },
     "aaf4464348654dd5aa4c1b63162e83a9": {
      "model_module": "@jupyter-widgets/controls",
      "model_module_version": "2.0.0",
      "model_name": "HTMLModel",
      "state": {
       "layout": "IPY_MODEL_1f46110fc33f45b284cee6eb0705d880",
       "style": "IPY_MODEL_485dd14b0ede45eb96f77ea0af7c1d48",
       "value": " 0/10 [00:00&lt;?, ?it/s]"
      }
     },
     "ab2f473574264e4d9164e6e86775047d": {
      "model_module": "@jupyter-widgets/controls",
      "model_module_version": "2.0.0",
      "model_name": "HTMLStyleModel",
      "state": {
       "description_width": "",
       "font_size": null,
       "text_color": null
      }
     },
     "ab36b58e56cb446698721e17ce3a318d": {
      "model_module": "@jupyter-widgets/base",
      "model_module_version": "2.0.0",
      "model_name": "LayoutModel",
      "state": {}
     },
     "ab43a2c3c3fe420aa1c1507274e20797": {
      "model_module": "@jupyter-widgets/controls",
      "model_module_version": "2.0.0",
      "model_name": "FloatProgressModel",
      "state": {
       "bar_style": "danger",
       "layout": "IPY_MODEL_68be8b4e07844ecaa49cb45f8bff2a80",
       "max": 10,
       "style": "IPY_MODEL_47e7792be5364713b3eb9bcbddaa33be"
      }
     },
     "abc46b8a8a344728907346f05288d664": {
      "model_module": "@jupyter-widgets/base",
      "model_module_version": "2.0.0",
      "model_name": "LayoutModel",
      "state": {}
     },
     "ac0d68c50e25470693ca2e7f7e77a578": {
      "model_module": "@jupyter-widgets/controls",
      "model_module_version": "2.0.0",
      "model_name": "ProgressStyleModel",
      "state": {
       "description_width": ""
      }
     },
     "acb6d18ebe994466984e84fbf49639a4": {
      "model_module": "@jupyter-widgets/controls",
      "model_module_version": "2.0.0",
      "model_name": "HTMLStyleModel",
      "state": {
       "description_width": "",
       "font_size": null,
       "text_color": null
      }
     },
     "ad201b20c2934206a090f23197939434": {
      "model_module": "@jupyter-widgets/controls",
      "model_module_version": "2.0.0",
      "model_name": "HTMLModel",
      "state": {
       "layout": "IPY_MODEL_37ba85475ba54dc1970054b352e2cef8",
       "style": "IPY_MODEL_2bb6e3c4d94e4d68a533049de847d7f2",
       "value": "100%"
      }
     },
     "ada51f10ad384eecb8c7e3aaf9713c82": {
      "model_module": "@jupyter-widgets/base",
      "model_module_version": "2.0.0",
      "model_name": "LayoutModel",
      "state": {}
     },
     "ae8a5ba3e80c4c49a306ccfa0b90dee6": {
      "model_module": "@jupyter-widgets/controls",
      "model_module_version": "2.0.0",
      "model_name": "FloatProgressModel",
      "state": {
       "bar_style": "success",
       "layout": "IPY_MODEL_e626106fccb543cc977a160ad3461c90",
       "max": 10,
       "style": "IPY_MODEL_ee7b9ed6b9114598aa152624f5e8b3b5",
       "value": 10
      }
     },
     "ae902ccc5bda453c87df3f7dbff59acf": {
      "model_module": "@jupyter-widgets/controls",
      "model_module_version": "2.0.0",
      "model_name": "HTMLModel",
      "state": {
       "layout": "IPY_MODEL_a71163f8319c41168579b0b375a3cb47",
       "style": "IPY_MODEL_ab2f473574264e4d9164e6e86775047d",
       "value": " 0/10 [00:00&lt;?, ?it/s]"
      }
     },
     "aea597e67a87449caef5f7fa8e94ff51": {
      "model_module": "@jupyter-widgets/base",
      "model_module_version": "2.0.0",
      "model_name": "LayoutModel",
      "state": {}
     },
     "af04fead057c4874999ab0c106b526ae": {
      "model_module": "@jupyter-widgets/base",
      "model_module_version": "2.0.0",
      "model_name": "LayoutModel",
      "state": {}
     },
     "af3e6059b0024132a86c3fb9c8adb8b9": {
      "model_module": "@jupyter-widgets/base",
      "model_module_version": "2.0.0",
      "model_name": "LayoutModel",
      "state": {}
     },
     "af432a293858419099bb49ab6aedde67": {
      "model_module": "@jupyter-widgets/controls",
      "model_module_version": "2.0.0",
      "model_name": "FloatProgressModel",
      "state": {
       "bar_style": "danger",
       "layout": "IPY_MODEL_eb25f1cf618642609f03d3594d7eae1a",
       "max": 10,
       "style": "IPY_MODEL_640142d699aa4b5fb55577194c6ef741"
      }
     },
     "af6726a4a0bd41579e47781aac50c399": {
      "model_module": "@jupyter-widgets/base",
      "model_module_version": "2.0.0",
      "model_name": "LayoutModel",
      "state": {}
     },
     "b098161923d6491d84e9728294a05557": {
      "model_module": "@jupyter-widgets/base",
      "model_module_version": "2.0.0",
      "model_name": "LayoutModel",
      "state": {}
     },
     "b22862b22760407c9953542c27dc2308": {
      "model_module": "@jupyter-widgets/base",
      "model_module_version": "2.0.0",
      "model_name": "LayoutModel",
      "state": {}
     },
     "b2781aec9773447b997c4b6fa94d5d87": {
      "model_module": "@jupyter-widgets/controls",
      "model_module_version": "2.0.0",
      "model_name": "HBoxModel",
      "state": {
       "children": [
        "IPY_MODEL_563c25f622ab447386143258a4fe0ea1",
        "IPY_MODEL_3767752a8b1d4c0aaae9ff5e78780bb3",
        "IPY_MODEL_9b6e145d47f34f9d803a2041ca050f56"
       ],
       "layout": "IPY_MODEL_e87c11bfaad946518c28c45611beaa3a"
      }
     },
     "b2b2b2a9464346dba6ed4ff20bbd5a64": {
      "model_module": "@jupyter-widgets/controls",
      "model_module_version": "2.0.0",
      "model_name": "HTMLStyleModel",
      "state": {
       "description_width": "",
       "font_size": null,
       "text_color": null
      }
     },
     "b508207c4adf47b08b6b248008b2093c": {
      "model_module": "@jupyter-widgets/controls",
      "model_module_version": "2.0.0",
      "model_name": "HTMLStyleModel",
      "state": {
       "description_width": "",
       "font_size": null,
       "text_color": null
      }
     },
     "b695a3b869d2450cbf5b577fa928dac8": {
      "model_module": "@jupyter-widgets/base",
      "model_module_version": "2.0.0",
      "model_name": "LayoutModel",
      "state": {}
     },
     "b8e5a040295f494ab29aefdef4accd09": {
      "model_module": "@jupyter-widgets/base",
      "model_module_version": "2.0.0",
      "model_name": "LayoutModel",
      "state": {}
     },
     "ba27e5ac5e06434d8d9a17bb952a8a33": {
      "model_module": "@jupyter-widgets/controls",
      "model_module_version": "2.0.0",
      "model_name": "HTMLModel",
      "state": {
       "layout": "IPY_MODEL_730be69918d64e9dabb7c03d3d6dfc1e",
       "style": "IPY_MODEL_d9239495b1c444af935391dbd6123d05",
       "value": " 10/10 [00:29&lt;00:00,  2.89s/it]"
      }
     },
     "baf47abb72064063812bb632b60ec519": {
      "model_module": "@jupyter-widgets/controls",
      "model_module_version": "2.0.0",
      "model_name": "HTMLStyleModel",
      "state": {
       "description_width": "",
       "font_size": null,
       "text_color": null
      }
     },
     "bc9a47a40f604fbcb162819c4ce85020": {
      "model_module": "@jupyter-widgets/controls",
      "model_module_version": "2.0.0",
      "model_name": "HTMLModel",
      "state": {
       "layout": "IPY_MODEL_d22dde3edfd548698f3ab00703fbc85e",
       "style": "IPY_MODEL_38fad6eb6b4842788ea5348e07266259",
       "value": " 10/10 [00:27&lt;00:00,  2.77s/it]"
      }
     },
     "bd790dd6694c4442b2c1946717c9f4a3": {
      "model_module": "@jupyter-widgets/base",
      "model_module_version": "2.0.0",
      "model_name": "LayoutModel",
      "state": {}
     },
     "bd907275629d430c9fbbde1bc6549b6d": {
      "model_module": "@jupyter-widgets/controls",
      "model_module_version": "2.0.0",
      "model_name": "HTMLStyleModel",
      "state": {
       "description_width": "",
       "font_size": null,
       "text_color": null
      }
     },
     "bdc20fff8b4f476d92427976cc7f8592": {
      "model_module": "@jupyter-widgets/controls",
      "model_module_version": "2.0.0",
      "model_name": "HBoxModel",
      "state": {
       "children": [
        "IPY_MODEL_4b294e34352d45819bbb4602f0beb8fe",
        "IPY_MODEL_2384ee31f0b34542ad9d12f8b839a129",
        "IPY_MODEL_366986839c54411a84781608386f9d3c"
       ],
       "layout": "IPY_MODEL_6663f26d79354733b8c8b8c4a4455c69"
      }
     },
     "bdfb6ea460e4449883298995c61c62a8": {
      "model_module": "@jupyter-widgets/controls",
      "model_module_version": "2.0.0",
      "model_name": "HTMLStyleModel",
      "state": {
       "description_width": "",
       "font_size": null,
       "text_color": null
      }
     },
     "be3b25273f0a46938404e5d212d3dc0b": {
      "model_module": "@jupyter-widgets/base",
      "model_module_version": "2.0.0",
      "model_name": "LayoutModel",
      "state": {}
     },
     "be5eb2bf073f4940996e354e2d35c7b7": {
      "model_module": "@jupyter-widgets/controls",
      "model_module_version": "2.0.0",
      "model_name": "HTMLModel",
      "state": {
       "layout": "IPY_MODEL_44921fc279cc4c2193171c52de0ac7ca",
       "style": "IPY_MODEL_a3f61478eaff457e9722eb6fad4ce621",
       "value": " 0/10 [00:00&lt;?, ?it/s]"
      }
     },
     "bff9b17ad7724526a8a5a63f4be3b461": {
      "model_module": "@jupyter-widgets/controls",
      "model_module_version": "2.0.0",
      "model_name": "HTMLStyleModel",
      "state": {
       "description_width": "",
       "font_size": null,
       "text_color": null
      }
     },
     "c09daea8c8824b4b9c7b327696e82b36": {
      "model_module": "@jupyter-widgets/controls",
      "model_module_version": "2.0.0",
      "model_name": "HBoxModel",
      "state": {
       "children": [
        "IPY_MODEL_866d3b3b71ed4504aa7b2c9dada9707e",
        "IPY_MODEL_1e6c1b66e5f946daaf57259b607b360a",
        "IPY_MODEL_9f4fcbdec8f04889a0f86dd82141ee6d"
       ],
       "layout": "IPY_MODEL_8c453abda8b444a1812a71f42c3873b4"
      }
     },
     "c12aad801cde461dbe7ca712bf28eedd": {
      "model_module": "@jupyter-widgets/controls",
      "model_module_version": "2.0.0",
      "model_name": "HTMLModel",
      "state": {
       "layout": "IPY_MODEL_ced44749fe0c46c88773bf9e263b11e7",
       "style": "IPY_MODEL_e0b17d20f9eb4b90a5f91e7c585f72c4",
       "value": "  0%"
      }
     },
     "c14c512bf498449c8885226eb28e0164": {
      "model_module": "@jupyter-widgets/base",
      "model_module_version": "2.0.0",
      "model_name": "LayoutModel",
      "state": {}
     },
     "c16c9f11769040e8a85be9f18b5916e9": {
      "model_module": "@jupyter-widgets/base",
      "model_module_version": "2.0.0",
      "model_name": "LayoutModel",
      "state": {}
     },
     "c30d4ecbaeb84fd89ba155c39992fcdc": {
      "model_module": "@jupyter-widgets/base",
      "model_module_version": "2.0.0",
      "model_name": "LayoutModel",
      "state": {}
     },
     "c323c117682f4e61ae901358850d35f9": {
      "model_module": "@jupyter-widgets/base",
      "model_module_version": "2.0.0",
      "model_name": "LayoutModel",
      "state": {}
     },
     "c4453359a87d439fbc5554f5a49897cc": {
      "model_module": "@jupyter-widgets/controls",
      "model_module_version": "2.0.0",
      "model_name": "FloatProgressModel",
      "state": {
       "bar_style": "danger",
       "layout": "IPY_MODEL_bd790dd6694c4442b2c1946717c9f4a3",
       "max": 10,
       "style": "IPY_MODEL_c8c8884aa7dd4340ac058bf36d3d0d91"
      }
     },
     "c447e41f8fa94468aa02b67fee96277a": {
      "model_module": "@jupyter-widgets/controls",
      "model_module_version": "2.0.0",
      "model_name": "HTMLStyleModel",
      "state": {
       "description_width": "",
       "font_size": null,
       "text_color": null
      }
     },
     "c4c7ec32989d46b09fa6a4685b9f7b1a": {
      "model_module": "@jupyter-widgets/controls",
      "model_module_version": "2.0.0",
      "model_name": "HTMLStyleModel",
      "state": {
       "description_width": "",
       "font_size": null,
       "text_color": null
      }
     },
     "c6455aac766c40c7b8827d490605aa2a": {
      "model_module": "@jupyter-widgets/base",
      "model_module_version": "2.0.0",
      "model_name": "LayoutModel",
      "state": {}
     },
     "c7e4efe2b99e49ed96e9a5b32ebfa2f6": {
      "model_module": "@jupyter-widgets/base",
      "model_module_version": "2.0.0",
      "model_name": "LayoutModel",
      "state": {}
     },
     "c86f663101b04633bbf57e2f01c18858": {
      "model_module": "@jupyter-widgets/base",
      "model_module_version": "2.0.0",
      "model_name": "LayoutModel",
      "state": {}
     },
     "c8c8884aa7dd4340ac058bf36d3d0d91": {
      "model_module": "@jupyter-widgets/controls",
      "model_module_version": "2.0.0",
      "model_name": "ProgressStyleModel",
      "state": {
       "description_width": ""
      }
     },
     "c95bf926d0454afdbeaff805386d2b6a": {
      "model_module": "@jupyter-widgets/controls",
      "model_module_version": "2.0.0",
      "model_name": "HTMLStyleModel",
      "state": {
       "description_width": "",
       "font_size": null,
       "text_color": null
      }
     },
     "c9ccbf26855042d8a27c13a488ff1dde": {
      "model_module": "@jupyter-widgets/base",
      "model_module_version": "2.0.0",
      "model_name": "LayoutModel",
      "state": {}
     },
     "c9d17d62ba3345b98e4a6042cba75227": {
      "model_module": "@jupyter-widgets/base",
      "model_module_version": "2.0.0",
      "model_name": "LayoutModel",
      "state": {}
     },
     "c9ea3153f30f441f8cb231481eaf6681": {
      "model_module": "@jupyter-widgets/base",
      "model_module_version": "2.0.0",
      "model_name": "LayoutModel",
      "state": {}
     },
     "cabca01176dd47b597375c7bf16d006a": {
      "model_module": "@jupyter-widgets/controls",
      "model_module_version": "2.0.0",
      "model_name": "ProgressStyleModel",
      "state": {
       "description_width": ""
      }
     },
     "cb9622bcae2940e688830ade98892feb": {
      "model_module": "@jupyter-widgets/controls",
      "model_module_version": "2.0.0",
      "model_name": "HBoxModel",
      "state": {
       "children": [
        "IPY_MODEL_658686045ea64f3497877380ee7ce266",
        "IPY_MODEL_4725b020c4654a2d85d27179c666741f",
        "IPY_MODEL_d7545ab7f96e4dc9a5986164ce195cf9"
       ],
       "layout": "IPY_MODEL_af6726a4a0bd41579e47781aac50c399"
      }
     },
     "cbf5c9244e124aeeb4b2dc5a4fb377f7": {
      "model_module": "@jupyter-widgets/base",
      "model_module_version": "2.0.0",
      "model_name": "LayoutModel",
      "state": {}
     },
     "cd3caad6b2c24b2ab1370ab85905a49a": {
      "model_module": "@jupyter-widgets/controls",
      "model_module_version": "2.0.0",
      "model_name": "HTMLModel",
      "state": {
       "layout": "IPY_MODEL_71a8fdeac9f24a5ba7b9ce66a340d385",
       "style": "IPY_MODEL_bff9b17ad7724526a8a5a63f4be3b461",
       "value": " 0/10 [00:00&lt;?, ?it/s]"
      }
     },
     "ce7319372e3e4d9db7a659db5172bba9": {
      "model_module": "@jupyter-widgets/controls",
      "model_module_version": "2.0.0",
      "model_name": "HBoxModel",
      "state": {
       "children": [
        "IPY_MODEL_7929bf865a5a430188384d297bd15e7e",
        "IPY_MODEL_517f7a670a49461c8afb966ab1da9f4e",
        "IPY_MODEL_71f6852ed3754434afe5271497bded92"
       ],
       "layout": "IPY_MODEL_09d83b0d52ac403ab6bf594f2946532c"
      }
     },
     "ced44749fe0c46c88773bf9e263b11e7": {
      "model_module": "@jupyter-widgets/base",
      "model_module_version": "2.0.0",
      "model_name": "LayoutModel",
      "state": {}
     },
     "ceed05cf5f6040a887611518679b4086": {
      "model_module": "@jupyter-widgets/controls",
      "model_module_version": "2.0.0",
      "model_name": "HTMLStyleModel",
      "state": {
       "description_width": "",
       "font_size": null,
       "text_color": null
      }
     },
     "cf445afd8a06428bab3a25192a5c5242": {
      "model_module": "@jupyter-widgets/controls",
      "model_module_version": "2.0.0",
      "model_name": "HTMLStyleModel",
      "state": {
       "description_width": "",
       "font_size": null,
       "text_color": null
      }
     },
     "d0c9b91a287847f08ff3e1fc239c3265": {
      "model_module": "@jupyter-widgets/controls",
      "model_module_version": "2.0.0",
      "model_name": "HTMLModel",
      "state": {
       "layout": "IPY_MODEL_be3b25273f0a46938404e5d212d3dc0b",
       "style": "IPY_MODEL_e054c62f0d684344acc36321b7936a99",
       "value": " 0/10 [00:00&lt;?, ?it/s]"
      }
     },
     "d22dde3edfd548698f3ab00703fbc85e": {
      "model_module": "@jupyter-widgets/base",
      "model_module_version": "2.0.0",
      "model_name": "LayoutModel",
      "state": {}
     },
     "d29af0ac3606456e90228bb31d2934ee": {
      "model_module": "@jupyter-widgets/controls",
      "model_module_version": "2.0.0",
      "model_name": "HTMLModel",
      "state": {
       "layout": "IPY_MODEL_e53006154a714661b9df896d1d2b0754",
       "style": "IPY_MODEL_008bcc5ec36746de91c78fda92be6bef",
       "value": " 10/10 [00:27&lt;00:00,  2.77s/it]"
      }
     },
     "d36451f927324892b2c934fbded0573d": {
      "model_module": "@jupyter-widgets/controls",
      "model_module_version": "2.0.0",
      "model_name": "HTMLStyleModel",
      "state": {
       "description_width": "",
       "font_size": null,
       "text_color": null
      }
     },
     "d3815b7d69ee4f268a5a09f36e7c9f09": {
      "model_module": "@jupyter-widgets/controls",
      "model_module_version": "2.0.0",
      "model_name": "FloatProgressModel",
      "state": {
       "bar_style": "danger",
       "layout": "IPY_MODEL_541015ecea9b48ff96602beac8d1ec9a",
       "max": 10,
       "style": "IPY_MODEL_095779646525413587686eccfbad05ac"
      }
     },
     "d3ad9efd2edb4d9bb4d6d0d70e9accbc": {
      "model_module": "@jupyter-widgets/base",
      "model_module_version": "2.0.0",
      "model_name": "LayoutModel",
      "state": {}
     },
     "d3d9ce22b61f42ceabc8ffc242a683f4": {
      "model_module": "@jupyter-widgets/controls",
      "model_module_version": "2.0.0",
      "model_name": "HTMLStyleModel",
      "state": {
       "description_width": "",
       "font_size": null,
       "text_color": null
      }
     },
     "d4950a549d454320a07f64c7b353583a": {
      "model_module": "@jupyter-widgets/base",
      "model_module_version": "2.0.0",
      "model_name": "LayoutModel",
      "state": {}
     },
     "d54c2054e85648a5a0cdaba0721ad424": {
      "model_module": "@jupyter-widgets/controls",
      "model_module_version": "2.0.0",
      "model_name": "ProgressStyleModel",
      "state": {
       "description_width": ""
      }
     },
     "d57eec3bf14449c4ad826c4bb7c96c1f": {
      "model_module": "@jupyter-widgets/controls",
      "model_module_version": "2.0.0",
      "model_name": "HBoxModel",
      "state": {
       "children": [
        "IPY_MODEL_ad201b20c2934206a090f23197939434",
        "IPY_MODEL_25281336635c4bed8a909115b0e188ba",
        "IPY_MODEL_3e04ac83ab3d4250a2f287f827229a07"
       ],
       "layout": "IPY_MODEL_7ecacfa5a7714f31b8deb7ea21b136e8"
      }
     },
     "d5e6503983f94d30bcfde181b9c4d225": {
      "model_module": "@jupyter-widgets/base",
      "model_module_version": "2.0.0",
      "model_name": "LayoutModel",
      "state": {}
     },
     "d63ac75a930e4519a83988475af403ac": {
      "model_module": "@jupyter-widgets/controls",
      "model_module_version": "2.0.0",
      "model_name": "HBoxModel",
      "state": {
       "children": [
        "IPY_MODEL_6b248292ee474bca8aa2039b9230be4c",
        "IPY_MODEL_66f903e8af934a93a246a18186dc8b85",
        "IPY_MODEL_3f2076d4fd0f48e1ade3534b82615336"
       ],
       "layout": "IPY_MODEL_9f4b567c4c074b0aa24974cb0a4c3f8e"
      }
     },
     "d6d7fa3fac214b0ea1ff0c3fccae8893": {
      "model_module": "@jupyter-widgets/controls",
      "model_module_version": "2.0.0",
      "model_name": "ProgressStyleModel",
      "state": {
       "description_width": ""
      }
     },
     "d6d9533fe57a4a52ab7750613331a319": {
      "model_module": "@jupyter-widgets/base",
      "model_module_version": "2.0.0",
      "model_name": "LayoutModel",
      "state": {}
     },
     "d7545ab7f96e4dc9a5986164ce195cf9": {
      "model_module": "@jupyter-widgets/controls",
      "model_module_version": "2.0.0",
      "model_name": "HTMLModel",
      "state": {
       "layout": "IPY_MODEL_e4349ba7608b42ea8a89a10ad90e7fa1",
       "style": "IPY_MODEL_9ca3dc8122e845b6b09e1135fc02af91",
       "value": " 0/10 [00:00&lt;?, ?it/s]"
      }
     },
     "d9239495b1c444af935391dbd6123d05": {
      "model_module": "@jupyter-widgets/controls",
      "model_module_version": "2.0.0",
      "model_name": "HTMLStyleModel",
      "state": {
       "description_width": "",
       "font_size": null,
       "text_color": null
      }
     },
     "dac1a8f0649247b784e765e96f6c9659": {
      "model_module": "@jupyter-widgets/base",
      "model_module_version": "2.0.0",
      "model_name": "LayoutModel",
      "state": {}
     },
     "daf537405fe54b34afa4babae6ebbe2e": {
      "model_module": "@jupyter-widgets/controls",
      "model_module_version": "2.0.0",
      "model_name": "HTMLModel",
      "state": {
       "layout": "IPY_MODEL_009128977f494826a86114759dfdd84d",
       "style": "IPY_MODEL_44e51a1128754fddb0c5c21cb18e3940",
       "value": " 0/10 [00:00&lt;?, ?it/s]"
      }
     },
     "db4a46c72e2949d7b18fe35b01d6449c": {
      "model_module": "@jupyter-widgets/base",
      "model_module_version": "2.0.0",
      "model_name": "LayoutModel",
      "state": {}
     },
     "db4d90e9800444f9b86a624c63fa26ba": {
      "model_module": "@jupyter-widgets/base",
      "model_module_version": "2.0.0",
      "model_name": "LayoutModel",
      "state": {}
     },
     "dd4b193712314c49b05d776000cd3ab7": {
      "model_module": "@jupyter-widgets/controls",
      "model_module_version": "2.0.0",
      "model_name": "HTMLStyleModel",
      "state": {
       "description_width": "",
       "font_size": null,
       "text_color": null
      }
     },
     "dd9a939b1d614240bb99f351c278cc57": {
      "model_module": "@jupyter-widgets/base",
      "model_module_version": "2.0.0",
      "model_name": "LayoutModel",
      "state": {}
     },
     "ddff32302d554817928e239450d86ba7": {
      "model_module": "@jupyter-widgets/controls",
      "model_module_version": "2.0.0",
      "model_name": "HBoxModel",
      "state": {
       "children": [
        "IPY_MODEL_eb1e75e51e704d1c9f0476532bfc5f6d",
        "IPY_MODEL_9669f4888c284792888076d1d7a037a4",
        "IPY_MODEL_daf537405fe54b34afa4babae6ebbe2e"
       ],
       "layout": "IPY_MODEL_02fd94773aaa41f38281a2adb2d5bf78"
      }
     },
     "df69e75746ce4d1eaddf43bc3119df07": {
      "model_module": "@jupyter-widgets/controls",
      "model_module_version": "2.0.0",
      "model_name": "HTMLStyleModel",
      "state": {
       "description_width": "",
       "font_size": null,
       "text_color": null
      }
     },
     "e0417c23493948d0a1cc6d3638228a29": {
      "model_module": "@jupyter-widgets/controls",
      "model_module_version": "2.0.0",
      "model_name": "HBoxModel",
      "state": {
       "children": [
        "IPY_MODEL_8bcf5fc7a3364372a8dbb7e1d402d22e",
        "IPY_MODEL_3a27097f153d42c9ab8c0965a2237bc2",
        "IPY_MODEL_fd54a847c78a471198ba4adc9835b083"
       ],
       "layout": "IPY_MODEL_6882bc7568c74e7597bf03e15d751831"
      }
     },
     "e044eec190604d8784d8280d4d9c3dd6": {
      "model_module": "@jupyter-widgets/controls",
      "model_module_version": "2.0.0",
      "model_name": "ProgressStyleModel",
      "state": {
       "description_width": ""
      }
     },
     "e054c62f0d684344acc36321b7936a99": {
      "model_module": "@jupyter-widgets/controls",
      "model_module_version": "2.0.0",
      "model_name": "HTMLStyleModel",
      "state": {
       "description_width": "",
       "font_size": null,
       "text_color": null
      }
     },
     "e06f2ae294604142ab6363b38f70ee04": {
      "model_module": "@jupyter-widgets/base",
      "model_module_version": "2.0.0",
      "model_name": "LayoutModel",
      "state": {}
     },
     "e094ad1cad604ce8bbed9759b77fd306": {
      "model_module": "@jupyter-widgets/base",
      "model_module_version": "2.0.0",
      "model_name": "LayoutModel",
      "state": {}
     },
     "e0b17d20f9eb4b90a5f91e7c585f72c4": {
      "model_module": "@jupyter-widgets/controls",
      "model_module_version": "2.0.0",
      "model_name": "HTMLStyleModel",
      "state": {
       "description_width": "",
       "font_size": null,
       "text_color": null
      }
     },
     "e144819533474d28a23c1f0455e5f4ac": {
      "model_module": "@jupyter-widgets/controls",
      "model_module_version": "2.0.0",
      "model_name": "ProgressStyleModel",
      "state": {
       "description_width": ""
      }
     },
     "e19e178e1699409c9d65140461c662dc": {
      "model_module": "@jupyter-widgets/controls",
      "model_module_version": "2.0.0",
      "model_name": "HTMLModel",
      "state": {
       "layout": "IPY_MODEL_0aba5eec535b4891bea5c4bf5a68a3cf",
       "style": "IPY_MODEL_824a771d8880418f8ecf77b99a402d8d",
       "value": "100%"
      }
     },
     "e1b1db5c5af441ae9be0e2c6e3f0660f": {
      "model_module": "@jupyter-widgets/base",
      "model_module_version": "2.0.0",
      "model_name": "LayoutModel",
      "state": {}
     },
     "e1c1dcec541d4fe0b814e85d53bb3f85": {
      "model_module": "@jupyter-widgets/controls",
      "model_module_version": "2.0.0",
      "model_name": "HTMLModel",
      "state": {
       "layout": "IPY_MODEL_58c116a37dc94b5ea3ff4a9c6507b8ac",
       "style": "IPY_MODEL_361247e9d1714c8795838e0841b351cb",
       "value": " 0/10 [00:00&lt;?, ?it/s]"
      }
     },
     "e2d1b9a216c241a7a832d9b3b78a237b": {
      "model_module": "@jupyter-widgets/controls",
      "model_module_version": "2.0.0",
      "model_name": "HTMLModel",
      "state": {
       "layout": "IPY_MODEL_c9ccbf26855042d8a27c13a488ff1dde",
       "style": "IPY_MODEL_95b7e9fae8f44a2ebad5e819b5ba488d",
       "value": "100%"
      }
     },
     "e31ad8d67bf74515accbcbf0dc3ed6fc": {
      "model_module": "@jupyter-widgets/controls",
      "model_module_version": "2.0.0",
      "model_name": "HTMLStyleModel",
      "state": {
       "description_width": "",
       "font_size": null,
       "text_color": null
      }
     },
     "e34bf2f45d5d40c597ad0876b2e9f813": {
      "model_module": "@jupyter-widgets/controls",
      "model_module_version": "2.0.0",
      "model_name": "FloatProgressModel",
      "state": {
       "bar_style": "danger",
       "layout": "IPY_MODEL_e06f2ae294604142ab6363b38f70ee04",
       "max": 10,
       "style": "IPY_MODEL_7059a641bdb54caa9ee9f43fa19d7ee8"
      }
     },
     "e3906bbd152b437f8624c217ceb67e6a": {
      "model_module": "@jupyter-widgets/controls",
      "model_module_version": "2.0.0",
      "model_name": "FloatProgressModel",
      "state": {
       "bar_style": "danger",
       "layout": "IPY_MODEL_d5e6503983f94d30bcfde181b9c4d225",
       "max": 10,
       "style": "IPY_MODEL_989d58fedf314841aca7e776c4715a28"
      }
     },
     "e400cc57970d417c94568627bfc04535": {
      "model_module": "@jupyter-widgets/base",
      "model_module_version": "2.0.0",
      "model_name": "LayoutModel",
      "state": {}
     },
     "e4349ba7608b42ea8a89a10ad90e7fa1": {
      "model_module": "@jupyter-widgets/base",
      "model_module_version": "2.0.0",
      "model_name": "LayoutModel",
      "state": {}
     },
     "e53006154a714661b9df896d1d2b0754": {
      "model_module": "@jupyter-widgets/base",
      "model_module_version": "2.0.0",
      "model_name": "LayoutModel",
      "state": {}
     },
     "e53ab6702c4a448182981db1bf0f18dc": {
      "model_module": "@jupyter-widgets/base",
      "model_module_version": "2.0.0",
      "model_name": "LayoutModel",
      "state": {}
     },
     "e626106fccb543cc977a160ad3461c90": {
      "model_module": "@jupyter-widgets/base",
      "model_module_version": "2.0.0",
      "model_name": "LayoutModel",
      "state": {}
     },
     "e6462fb2b4b34c49a8f88012581ff88b": {
      "model_module": "@jupyter-widgets/controls",
      "model_module_version": "2.0.0",
      "model_name": "HBoxModel",
      "state": {
       "children": [
        "IPY_MODEL_2d5ddc38cd5d4867b3cd9f56931f7886",
        "IPY_MODEL_aa574a6d74274631a0671ff0d9de2d32",
        "IPY_MODEL_8dab994220644ddf9cf6af802eb347ee"
       ],
       "layout": "IPY_MODEL_00ca4e59a6aa464393ebd5cc0c57150d"
      }
     },
     "e67906988e8d4dcd8f2885d51ab65315": {
      "model_module": "@jupyter-widgets/base",
      "model_module_version": "2.0.0",
      "model_name": "LayoutModel",
      "state": {}
     },
     "e7cdfaea8ac048f7aaeb9a10b896575f": {
      "model_module": "@jupyter-widgets/base",
      "model_module_version": "2.0.0",
      "model_name": "LayoutModel",
      "state": {}
     },
     "e87c11bfaad946518c28c45611beaa3a": {
      "model_module": "@jupyter-widgets/base",
      "model_module_version": "2.0.0",
      "model_name": "LayoutModel",
      "state": {}
     },
     "e9148e90762f4f468cf4fadd0b2ff2c6": {
      "model_module": "@jupyter-widgets/controls",
      "model_module_version": "2.0.0",
      "model_name": "HTMLStyleModel",
      "state": {
       "description_width": "",
       "font_size": null,
       "text_color": null
      }
     },
     "ea0b0429ed864f30aa407f251a780509": {
      "model_module": "@jupyter-widgets/controls",
      "model_module_version": "2.0.0",
      "model_name": "HBoxModel",
      "state": {
       "children": [
        "IPY_MODEL_f2e0457d35e14f72b7154f1af03e4313",
        "IPY_MODEL_2acc7c8970b84929b06220b52f28c65c",
        "IPY_MODEL_95b31e47754e476098c668f891979bae"
       ],
       "layout": "IPY_MODEL_ef8bd4481b6f432d92a96473fc077b62"
      }
     },
     "ead3f3895d17492ab84cbc518062cd4a": {
      "model_module": "@jupyter-widgets/controls",
      "model_module_version": "2.0.0",
      "model_name": "HBoxModel",
      "state": {
       "children": [
        "IPY_MODEL_8f9781b6f2d44f06a2d74697bdbc3e3a",
        "IPY_MODEL_672377316a764e38954ee590708dfc16",
        "IPY_MODEL_4a4066210bba487fb0279c9e3c26b977"
       ],
       "layout": "IPY_MODEL_9efbadba487f461cacadb43826ebb3cb"
      }
     },
     "eb0293c830804168a41487d9cb0b6576": {
      "model_module": "@jupyter-widgets/controls",
      "model_module_version": "2.0.0",
      "model_name": "FloatProgressModel",
      "state": {
       "bar_style": "success",
       "layout": "IPY_MODEL_9dbc93932ebc499ebbc12e9402bf83b8",
       "max": 10,
       "style": "IPY_MODEL_297886408fb746c18fae117614c09e59",
       "value": 10
      }
     },
     "eb1e75e51e704d1c9f0476532bfc5f6d": {
      "model_module": "@jupyter-widgets/controls",
      "model_module_version": "2.0.0",
      "model_name": "HTMLModel",
      "state": {
       "layout": "IPY_MODEL_4c2f40d020f84c16b74f0e60923c497e",
       "style": "IPY_MODEL_c95bf926d0454afdbeaff805386d2b6a",
       "value": "  0%"
      }
     },
     "eb25f1cf618642609f03d3594d7eae1a": {
      "model_module": "@jupyter-widgets/base",
      "model_module_version": "2.0.0",
      "model_name": "LayoutModel",
      "state": {}
     },
     "ebcc3b636477434dbf40500948e00e15": {
      "model_module": "@jupyter-widgets/controls",
      "model_module_version": "2.0.0",
      "model_name": "HTMLStyleModel",
      "state": {
       "description_width": "",
       "font_size": null,
       "text_color": null
      }
     },
     "ebf608fb0d644347858627de530ca007": {
      "model_module": "@jupyter-widgets/controls",
      "model_module_version": "2.0.0",
      "model_name": "HBoxModel",
      "state": {
       "children": [
        "IPY_MODEL_7115fc42a8ca4cac96b86168d45c6945",
        "IPY_MODEL_c4453359a87d439fbc5554f5a49897cc",
        "IPY_MODEL_ae902ccc5bda453c87df3f7dbff59acf"
       ],
       "layout": "IPY_MODEL_c30d4ecbaeb84fd89ba155c39992fcdc"
      }
     },
     "ec778b5aedf546e4beacf731bbe881b4": {
      "model_module": "@jupyter-widgets/controls",
      "model_module_version": "2.0.0",
      "model_name": "HTMLStyleModel",
      "state": {
       "description_width": "",
       "font_size": null,
       "text_color": null
      }
     },
     "ecb2c08d5987415a8c374a2cb6022575": {
      "model_module": "@jupyter-widgets/base",
      "model_module_version": "2.0.0",
      "model_name": "LayoutModel",
      "state": {}
     },
     "ed0430bd12764578a7365e3da2e1ee33": {
      "model_module": "@jupyter-widgets/controls",
      "model_module_version": "2.0.0",
      "model_name": "HTMLStyleModel",
      "state": {
       "description_width": "",
       "font_size": null,
       "text_color": null
      }
     },
     "ee20240f61ed4365996ad251ce23bb68": {
      "model_module": "@jupyter-widgets/controls",
      "model_module_version": "2.0.0",
      "model_name": "ProgressStyleModel",
      "state": {
       "description_width": ""
      }
     },
     "ee2f2191dbe64c9190d9d9d24142c6c6": {
      "model_module": "@jupyter-widgets/controls",
      "model_module_version": "2.0.0",
      "model_name": "HTMLStyleModel",
      "state": {
       "description_width": "",
       "font_size": null,
       "text_color": null
      }
     },
     "ee7b9ed6b9114598aa152624f5e8b3b5": {
      "model_module": "@jupyter-widgets/controls",
      "model_module_version": "2.0.0",
      "model_name": "ProgressStyleModel",
      "state": {
       "description_width": ""
      }
     },
     "eee65de892864fb0adf906e75b0f5f36": {
      "model_module": "@jupyter-widgets/controls",
      "model_module_version": "2.0.0",
      "model_name": "ProgressStyleModel",
      "state": {
       "description_width": ""
      }
     },
     "ef7d1c0960b24757a135418aa0326c0b": {
      "model_module": "@jupyter-widgets/base",
      "model_module_version": "2.0.0",
      "model_name": "LayoutModel",
      "state": {}
     },
     "ef81d13f97aa4483867ca51d38d3434c": {
      "model_module": "@jupyter-widgets/controls",
      "model_module_version": "2.0.0",
      "model_name": "HBoxModel",
      "state": {
       "children": [
        "IPY_MODEL_18fd43a9f19d4da6905be119fb5fe04e",
        "IPY_MODEL_89f017c8af834c3599cba577ba008758",
        "IPY_MODEL_f48f281d6b8c4578891210882078520a"
       ],
       "layout": "IPY_MODEL_62d5cd2d21bd475cb255580dfc4ac43d"
      }
     },
     "ef8bd4481b6f432d92a96473fc077b62": {
      "model_module": "@jupyter-widgets/base",
      "model_module_version": "2.0.0",
      "model_name": "LayoutModel",
      "state": {}
     },
     "efcd7a7a3345426ab4a49092c67d1b40": {
      "model_module": "@jupyter-widgets/base",
      "model_module_version": "2.0.0",
      "model_name": "LayoutModel",
      "state": {}
     },
     "eff0a8d87ba142a8b38ed92fd27c2d84": {
      "model_module": "@jupyter-widgets/controls",
      "model_module_version": "2.0.0",
      "model_name": "HTMLStyleModel",
      "state": {
       "description_width": "",
       "font_size": null,
       "text_color": null
      }
     },
     "eff65103c119400c9997049addfeb7b2": {
      "model_module": "@jupyter-widgets/controls",
      "model_module_version": "2.0.0",
      "model_name": "HTMLModel",
      "state": {
       "layout": "IPY_MODEL_2efb5b6028964b098e4ba9b956c18d22",
       "style": "IPY_MODEL_c4c7ec32989d46b09fa6a4685b9f7b1a",
       "value": " 10/10 [00:27&lt;00:00,  2.78s/it]"
      }
     },
     "f1910c647af3403da7f2df674d741aa8": {
      "model_module": "@jupyter-widgets/controls",
      "model_module_version": "2.0.0",
      "model_name": "HTMLModel",
      "state": {
       "layout": "IPY_MODEL_dac1a8f0649247b784e765e96f6c9659",
       "style": "IPY_MODEL_ceed05cf5f6040a887611518679b4086",
       "value": "  0%"
      }
     },
     "f1979c1dff384100ae59e1cd822f6cb6": {
      "model_module": "@jupyter-widgets/base",
      "model_module_version": "2.0.0",
      "model_name": "LayoutModel",
      "state": {}
     },
     "f1a34c70625f4daa9655e87f78b4fb83": {
      "model_module": "@jupyter-widgets/controls",
      "model_module_version": "2.0.0",
      "model_name": "ProgressStyleModel",
      "state": {
       "description_width": ""
      }
     },
     "f1c813a042ab4f948800eee6eedb6dcf": {
      "model_module": "@jupyter-widgets/controls",
      "model_module_version": "2.0.0",
      "model_name": "HBoxModel",
      "state": {
       "children": [
        "IPY_MODEL_9baac331f3fb4059b7f6f16169d81b9e",
        "IPY_MODEL_ae8a5ba3e80c4c49a306ccfa0b90dee6",
        "IPY_MODEL_bc9a47a40f604fbcb162819c4ce85020"
       ],
       "layout": "IPY_MODEL_8e8f2061c06f48de9ec29d751618609b"
      }
     },
     "f2a0d04073b14453a49b0f4301bc81f9": {
      "model_module": "@jupyter-widgets/controls",
      "model_module_version": "2.0.0",
      "model_name": "HBoxModel",
      "state": {
       "children": [
        "IPY_MODEL_1158e4e7749e43d89fe40117a100271d",
        "IPY_MODEL_af432a293858419099bb49ab6aedde67",
        "IPY_MODEL_aaf4464348654dd5aa4c1b63162e83a9"
       ],
       "layout": "IPY_MODEL_db4d90e9800444f9b86a624c63fa26ba"
      }
     },
     "f2e0457d35e14f72b7154f1af03e4313": {
      "model_module": "@jupyter-widgets/controls",
      "model_module_version": "2.0.0",
      "model_name": "HTMLModel",
      "state": {
       "layout": "IPY_MODEL_4f6c10ab10374f5cb1b59ca7681dd5b0",
       "style": "IPY_MODEL_2b5ef7184ae14ff597d6ff4a807b7501",
       "value": "100%"
      }
     },
     "f303bfba358041deb30e332f1035ec0c": {
      "model_module": "@jupyter-widgets/controls",
      "model_module_version": "2.0.0",
      "model_name": "FloatProgressModel",
      "state": {
       "bar_style": "danger",
       "layout": "IPY_MODEL_63c080a2e5904b888df92321954ce6ed",
       "max": 10,
       "style": "IPY_MODEL_196a4f0787594c758d9dd933fe866e8e"
      }
     },
     "f39ffa43e3ec4a019a6aa951a328d9b4": {
      "model_module": "@jupyter-widgets/controls",
      "model_module_version": "2.0.0",
      "model_name": "HTMLModel",
      "state": {
       "layout": "IPY_MODEL_7d35fee4600b499ca841ce34bd97f63d",
       "style": "IPY_MODEL_20c04cad17c94bd38bdf10cc731f5c6a",
       "value": "100%"
      }
     },
     "f48f281d6b8c4578891210882078520a": {
      "model_module": "@jupyter-widgets/controls",
      "model_module_version": "2.0.0",
      "model_name": "HTMLModel",
      "state": {
       "layout": "IPY_MODEL_af3e6059b0024132a86c3fb9c8adb8b9",
       "style": "IPY_MODEL_baf47abb72064063812bb632b60ec519",
       "value": " 0/10 [00:00&lt;?, ?it/s]"
      }
     },
     "f4c47e8d00c14613af01d4fb17045437": {
      "model_module": "@jupyter-widgets/controls",
      "model_module_version": "2.0.0",
      "model_name": "HBoxModel",
      "state": {
       "children": [
        "IPY_MODEL_f1910c647af3403da7f2df674d741aa8",
        "IPY_MODEL_65eafacca6da4ac4becd32f551587684",
        "IPY_MODEL_5c0d41548e054aacb06d7055598f6082"
       ],
       "layout": "IPY_MODEL_91e01d6ea00e427898565b761d54f638"
      }
     },
     "f4e83b553c984cad9bbf16d370450703": {
      "model_module": "@jupyter-widgets/controls",
      "model_module_version": "2.0.0",
      "model_name": "HTMLStyleModel",
      "state": {
       "description_width": "",
       "font_size": null,
       "text_color": null
      }
     },
     "f6958235317046d08d2fd6bac73cfaea": {
      "model_module": "@jupyter-widgets/controls",
      "model_module_version": "2.0.0",
      "model_name": "HTMLStyleModel",
      "state": {
       "description_width": "",
       "font_size": null,
       "text_color": null
      }
     },
     "f695eee07eda401b8f5e05cd101799ab": {
      "model_module": "@jupyter-widgets/base",
      "model_module_version": "2.0.0",
      "model_name": "LayoutModel",
      "state": {}
     },
     "f6b5589dd3c74aebad218b4b63ac3052": {
      "model_module": "@jupyter-widgets/base",
      "model_module_version": "2.0.0",
      "model_name": "LayoutModel",
      "state": {}
     },
     "f71cca510ac44ce5a23dec46f9fe5ee9": {
      "model_module": "@jupyter-widgets/controls",
      "model_module_version": "2.0.0",
      "model_name": "HTMLModel",
      "state": {
       "layout": "IPY_MODEL_1926358dfb5648d6a489a6c8da9ddaff",
       "style": "IPY_MODEL_3e48ae0c8b79472d897918f5ff6f2e06",
       "value": "  0%"
      }
     },
     "f88425d89af0448a9e5348fb48b6f62f": {
      "model_module": "@jupyter-widgets/base",
      "model_module_version": "2.0.0",
      "model_name": "LayoutModel",
      "state": {}
     },
     "f8d352a00e5a4e989b341f4f2b5db53c": {
      "model_module": "@jupyter-widgets/controls",
      "model_module_version": "2.0.0",
      "model_name": "HBoxModel",
      "state": {
       "children": [
        "IPY_MODEL_4ab7aed4e94f4889b6a07f610c77298a",
        "IPY_MODEL_0c99263693fe458e8cda8e3aab361f3c",
        "IPY_MODEL_2e049f0caecc462381185ab787508a96"
       ],
       "layout": "IPY_MODEL_1e6dfd2b88864985b73c6e4ba23d2e61"
      }
     },
     "f8f23b995ace47bb941cc1159df79a80": {
      "model_module": "@jupyter-widgets/controls",
      "model_module_version": "2.0.0",
      "model_name": "HTMLStyleModel",
      "state": {
       "description_width": "",
       "font_size": null,
       "text_color": null
      }
     },
     "f92eaf6e487f46a8a0965e4d337bbe5b": {
      "model_module": "@jupyter-widgets/controls",
      "model_module_version": "2.0.0",
      "model_name": "HBoxModel",
      "state": {
       "children": [
        "IPY_MODEL_c12aad801cde461dbe7ca712bf28eedd",
        "IPY_MODEL_2349002b1aff47f3aebbd9b778a80365",
        "IPY_MODEL_3c9435733f504ea38379ccda1a935c54"
       ],
       "layout": "IPY_MODEL_90ae841bccf14a2b8b877f9885adec7d"
      }
     },
     "f9b9ea4d95e94e19806e2f6f63365450": {
      "model_module": "@jupyter-widgets/controls",
      "model_module_version": "2.0.0",
      "model_name": "HTMLModel",
      "state": {
       "layout": "IPY_MODEL_abc46b8a8a344728907346f05288d664",
       "style": "IPY_MODEL_f9e01057f4354b3d884a07a92d316314",
       "value": " 0/10 [00:00&lt;?, ?it/s]"
      }
     },
     "f9e01057f4354b3d884a07a92d316314": {
      "model_module": "@jupyter-widgets/controls",
      "model_module_version": "2.0.0",
      "model_name": "HTMLStyleModel",
      "state": {
       "description_width": "",
       "font_size": null,
       "text_color": null
      }
     },
     "fa122aaac196442d837133c96f938643": {
      "model_module": "@jupyter-widgets/controls",
      "model_module_version": "2.0.0",
      "model_name": "FloatProgressModel",
      "state": {
       "bar_style": "danger",
       "layout": "IPY_MODEL_42e4c4cdc2f54c2ebed27167a0ec1dc6",
       "max": 10,
       "style": "IPY_MODEL_ee20240f61ed4365996ad251ce23bb68"
      }
     },
     "fb8f7bc40d884ea7ae26872b846263af": {
      "model_module": "@jupyter-widgets/controls",
      "model_module_version": "2.0.0",
      "model_name": "HTMLModel",
      "state": {
       "layout": "IPY_MODEL_db4a46c72e2949d7b18fe35b01d6449c",
       "style": "IPY_MODEL_4a28561e5691409f92a89ec48d10a759",
       "value": " 0/10 [00:00&lt;?, ?it/s]"
      }
     },
     "fce3e169a38545e6aaf9885f1cfca88e": {
      "model_module": "@jupyter-widgets/base",
      "model_module_version": "2.0.0",
      "model_name": "LayoutModel",
      "state": {}
     },
     "fd2df2bf9d8847eb99e6ce8dc542313b": {
      "model_module": "@jupyter-widgets/base",
      "model_module_version": "2.0.0",
      "model_name": "LayoutModel",
      "state": {}
     },
     "fd54a847c78a471198ba4adc9835b083": {
      "model_module": "@jupyter-widgets/controls",
      "model_module_version": "2.0.0",
      "model_name": "HTMLModel",
      "state": {
       "layout": "IPY_MODEL_820bdd3f2bb24c538141692eb760a2bb",
       "style": "IPY_MODEL_2ad2e85268e94fe49570fa3648102242",
       "value": " 0/10 [00:00&lt;?, ?it/s]"
      }
     },
     "fd7cb1a0bd524327ba0e221cfd4c049a": {
      "model_module": "@jupyter-widgets/base",
      "model_module_version": "2.0.0",
      "model_name": "LayoutModel",
      "state": {}
     },
     "fe6d614f1bb2404c88daac897abfc58c": {
      "model_module": "@jupyter-widgets/base",
      "model_module_version": "2.0.0",
      "model_name": "LayoutModel",
      "state": {}
     },
     "feb40a9781904025920290a44b589fd3": {
      "model_module": "@jupyter-widgets/base",
      "model_module_version": "2.0.0",
      "model_name": "LayoutModel",
      "state": {}
     },
     "fec05ea759d0407a873952ef18c07a63": {
      "model_module": "@jupyter-widgets/controls",
      "model_module_version": "2.0.0",
      "model_name": "HTMLStyleModel",
      "state": {
       "description_width": "",
       "font_size": null,
       "text_color": null
      }
     },
     "ff317608c91847578749c9447229a8c5": {
      "model_module": "@jupyter-widgets/base",
      "model_module_version": "2.0.0",
      "model_name": "LayoutModel",
      "state": {}
     },
     "ff31a5fd6d0048e1bb5667cfa65ecaaa": {
      "model_module": "@jupyter-widgets/controls",
      "model_module_version": "2.0.0",
      "model_name": "HTMLModel",
      "state": {
       "layout": "IPY_MODEL_feb40a9781904025920290a44b589fd3",
       "style": "IPY_MODEL_eff0a8d87ba142a8b38ed92fd27c2d84",
       "value": "  0%"
      }
     }
    },
    "version_major": 2,
    "version_minor": 0
   }
  }
 },
 "nbformat": 4,
 "nbformat_minor": 5
}
